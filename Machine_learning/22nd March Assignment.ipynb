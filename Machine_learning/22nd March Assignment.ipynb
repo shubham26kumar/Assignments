{
 "cells": [
  {
   "cell_type": "markdown",
   "id": "2e31527a-dcdc-49d5-88b3-3ad531d6ae41",
   "metadata": {},
   "source": [
    "Q1. Pearson correlation coefficient is a measure of the linear relationship between two variables. Suppose \n",
    "you have collected data on the amount of time students spend studying for an exam and their final exam \n",
    "scores. Calculate the Pearson correlation coefficient between these two variables and interpret the result."
   ]
  },
  {
   "cell_type": "code",
   "execution_count": 8,
   "id": "602fe621-ad73-4256-978a-7fdcb0cb94a2",
   "metadata": {},
   "outputs": [
    {
     "name": "stdout",
     "output_type": "stream",
     "text": [
      "Pearson Correlation Coefficient: 0.9624142703020897\n"
     ]
    }
   ],
   "source": [
    "import numpy as np\n",
    "\n",
    "# Example data\n",
    "study_hours = [10, 8, 12, 7, 9, 11, 6, 9, 8, 10, 7, 5, 11, 9, 8, 12, 6, 10, 9, 7]\n",
    "exam_scores = [85, 76, 92, 72, 82, 89, 68, 88, 75, 83, 70, 60, 88, 78, 72, 93, 65, 86, 77, 74]\n",
    "\n",
    "\n",
    "# Calculate Pearson correlation coefficient\n",
    "pearson_corr_coeff = np.corrcoef(study_hours, exam_scores)[0, 1]\n",
    "\n",
    "print(\"Pearson Correlation Coefficient:\", pearson_corr_coeff)"
   ]
  },
  {
   "cell_type": "markdown",
   "id": "2977dd04-c197-4753-a618-38f755ff7cf8",
   "metadata": {},
   "source": [
    "Replace the study_hours and exam_scores arrays with your actual data points. The np.corrcoef() function calculates the Pearson correlation matrix, and the [0, 1] index extracts the Pearson correlation coefficient between the two variables.\n",
    "\n",
    "Interpreting the result:\n",
    "\n",
    "-->If the Pearson correlation coefficient is close to +1, it indicates a strong positive linear relationship between the variables. In this case, as the amount of time spent studying increases, final exam scores tend to increase as well.\n",
    "\n",
    "-->If the coefficient is close to -1, it indicates a strong negative linear relationship. As the amount of time spent studying increases, final exam scores tend to decrease.\n",
    "\n",
    "-->If the coefficient is close to 0, it suggests that there's no strong linear relationship between the two variables.\n",
    "\n",
    "Remember that the Pearson correlation coefficient measures the strength and direction of a linear relationship between the variables. It's important to note that correlation does not imply causation – a strong correlation between study hours and exam scores doesn't necessarily mean that more studying causes higher scores, as other factors could be at play."
   ]
  },
  {
   "cell_type": "markdown",
   "id": "55175a65-a2c7-4b0c-bb05-fbc5141b46c3",
   "metadata": {},
   "source": [
    "Q2. Spearman's rank correlation is a measure of the monotonic relationship between two variables. \n",
    "Suppose you have collected data on the amount of sleep individuals get each night and their overall job \n",
    "satisfaction level on a scale of 1 to 10. Calculate the Spearman's rank correlation between these two \n",
    "variables and interpret the result"
   ]
  },
  {
   "cell_type": "code",
   "execution_count": 7,
   "id": "85bcb401-3bdd-40f3-8681-e6f4cbd97b29",
   "metadata": {},
   "outputs": [
    {
     "name": "stdout",
     "output_type": "stream",
     "text": [
      "Spearman's Rank Correlation Coefficient: 0.9797792595238227\n"
     ]
    }
   ],
   "source": [
    "import scipy.stats\n",
    "\n",
    "# Example data\n",
    "sleep_hours = [7, 6, 8, 5, 6, 7, 5, 8, 6, 7, 4, 7, 6, 5, 8, 7, 6, 7, 5, 8]\n",
    "job_satisfaction = [8, 7, 9, 6, 7, 8, 5, 9, 7, 8, 4, 9, 7, 6, 9, 8, 7, 8, 6, 9]\n",
    "\n",
    "# Calculate Spearman's rank correlation coefficient\n",
    "spearman_corr_coeff = scipy.stats.spearmanr(sleep_hours, job_satisfaction)[0]\n",
    "\n",
    "print(\"Spearman's Rank Correlation Coefficient:\", spearman_corr_coeff)"
   ]
  },
  {
   "cell_type": "markdown",
   "id": "96d74c0d-0263-4b5d-b772-279b9489c2fa",
   "metadata": {},
   "source": [
    "Replace the sleep_hours and job_satisfaction arrays with your actual data points. The scipy.stats.spearmanr() function calculates Spearman's rank correlation coefficient.\n",
    "\n",
    "Interpreting the result:\n",
    "\n",
    "-->If the Spearman's rank correlation coefficient is close to +1, it indicates a strong positive monotonic relationship between the variables. In this case, as the amount of sleep increases, job satisfaction tends to increase as well.\n",
    "\n",
    "-->If the coefficient is close to -1, it indicates a strong negative monotonic relationship. As the amount of sleep increases, job satisfaction tends to decrease.\n",
    "\n",
    "-->If the coefficient is close to 0, it suggests that there's no strong monotonic relationship between the two variables.\n",
    "\n",
    "Remember that the Spearman's rank correlation coefficient assesses the monotonic relationship, which means that it captures whether the variables tend to move in the same direction without necessarily implying a linear relationship.\n"
   ]
  },
  {
   "cell_type": "markdown",
   "id": "5d1e88fd-9f23-4c4a-959c-d2af052fa7b9",
   "metadata": {},
   "source": [
    "Q3. Suppose you are conducting a study to examine the relationship between the number of hours of \n",
    "exercise per week and body mass index (BMI) in a sample of adults. You collected data on both variables \n",
    "for 50 participants. Calculate the Pearson correlation coefficient and the Spearman's rank correlation \n",
    "between these two variables and compare the results."
   ]
  },
  {
   "cell_type": "code",
   "execution_count": 6,
   "id": "8ffd006b-0629-41e1-bcdb-8ee602ee08db",
   "metadata": {},
   "outputs": [
    {
     "name": "stdout",
     "output_type": "stream",
     "text": [
      "Pearson Correlation Coefficient: -0.7047632416333777\n",
      "Spearman's Rank Correlation Coefficient: -0.6707350903136451\n"
     ]
    }
   ],
   "source": [
    "\n",
    "#To calculate the Pearson correlation coefficient and the Spearman's rank correlation between the number of hours of exercise per week and body mass index (BMI), you need the data points for both variables from your sample of 50 participants.\n",
    "\n",
    "#Let's denote the variable for exercise hours as X and the variable for BMI as Y.\n",
    "\n",
    "#Pearson Correlation Coefficient(r):\n",
    "\n",
    "import numpy as np\n",
    "import scipy.stats\n",
    "\n",
    "# Example data\n",
    "exercise_hours = np.array([3, 5, 2, 4, 1, 6, 3, 2, 4, 5, 1, 7, 2, 3, 4, 5, 6, 2, 3, 4, 1, 2, 3, 4, 5, 6,\n",
    "                            3, 4, 1, 2, 3, 4, 5, 6, 2, 3, 4, 1, 2, 3, 4, 5, 6, 2, 3, 4, 1, 2, 3, 4])\n",
    "bmi = np.array([25.5, 22.1, 27.8, 24.3, 29.9, 20.5, 25.7, 27.4, 23.2, 21.6, 30.2, 19.8, 26.5, 25.0, 24.1,\n",
    "                23.7, 21.2, 28.6, 26.3, 24.9, 30.5, 28.2, 26.9, 25.8, 23.4, 21.9, 29.6, 26.7, 25.3, 30.9,\n",
    "                28.4, 27.1, 26.0, 23.6, 22.3, 29.0, 26.1, 24.7, 31.2, 28.8, 27.5, 26.2, 23.8, 22.5, 29.3,\n",
    "                 25.1, 31.5, 29.7, 27.2, 26.6])\n",
    "\n",
    "# Calculate Pearson correlation coefficient\n",
    "pearson_corr_coeff = np.corrcoef(exercise_hours, bmi)[0, 1]\n",
    "\n",
    "# Calculate Spearman's rank correlation coefficient\n",
    "spearman_corr_coeff = scipy.stats.spearmanr(exercise_hours, bmi)[0]\n",
    "\n",
    "print(\"Pearson Correlation Coefficient:\", pearson_corr_coeff)\n",
    "print(\"Spearman's Rank Correlation Coefficient:\", spearman_corr_coeff)"
   ]
  },
  {
   "cell_type": "markdown",
   "id": "eb5d2954-40ef-4171-9315-4c9c4d7b1569",
   "metadata": {},
   "source": [
    "Replace the exercise_hours and bmi arrays with your actual data points. The np.corrcoef() function calculates the Pearson correlation matrix, and the scipy.stats.spearmanr() function calculates Spearman's rank correlation coefficient.\n",
    "\n",
    "Comparing the Pearson correlation coefficient and Spearman's rank correlation coefficient can give you insights into whether the relationship between exercise hours and BMI is linear or monotonic. If both coefficients are similar, it suggests a linear relationship; if they differ, it might indicate a non-linear or ordinal relationship between the variables."
   ]
  },
  {
   "cell_type": "markdown",
   "id": "1fe2480c-2e6b-4540-aac9-e20006a58c3d",
   "metadata": {},
   "source": [
    "Q4. A researcher is interested in examining the relationship between the number of hours individuals \n",
    "spend watching television per day and their level of physical activity. The researcher collected data on \n",
    "both variables from a sample of 50 participants. Calculate the Pearson correlation coefficient between \n",
    "these two variables."
   ]
  },
  {
   "cell_type": "code",
   "execution_count": 3,
   "id": "8872875b-bea6-4a17-a436-b2e8e6e2d32e",
   "metadata": {},
   "outputs": [
    {
     "name": "stdout",
     "output_type": "stream",
     "text": [
      "Pearson Correlation Coefficient: -0.3333163581508758\n"
     ]
    }
   ],
   "source": [
    "\n",
    "import numpy as np\n",
    "# Example data\n",
    "hours_watched = np.array([2, 3, 1, 4, 5, 2, 3, 2, 1, 4, 3, 5, 2, 1, 2, 3, 4, 1, 2, 3, 4, 2, 3, 4, 5, 1,\n",
    "                          2, 3, 2, 4, 5, 2, 3, 2, 1, 4, 3, 5, 2, 1, 2, 3, 4, 1, 2, 3, 4, 2, 3, 4])\n",
    "physical_activity = np.array([5, 4, 3, 2, 1, 5, 4, 5, 3, 2, 4, 1, 5, 3, 2, 4, 1, 5, 4, 3, 2, 5, 4, 3, 1, 2,\n",
    "                              4, 5, 4, 3, 2, 1, 5, 4, 3, 2, 1, 5, 4, 5, 3, 2, 4, 1, 5, 3, 2, 4, 1, 5])\n",
    "\n",
    "# Calculate the Pearson correlation coefficient\n",
    "correlation_coefficient = np.corrcoef(hours_watched, physical_activity)[0, 1]\n",
    "\n",
    "print(\"Pearson Correlation Coefficient:\", correlation_coefficient)"
   ]
  },
  {
   "cell_type": "markdown",
   "id": "af10e003-aee8-4291-bfbb-54496eac293a",
   "metadata": {},
   "source": [
    "Replace the hours_watched and physical_activity arrays with your actual data points. The np.corrcoef() function calculates the correlation matrix, and the [0, 1] index extracts the Pearson correlation coefficient between the two variables.\n",
    "\n",
    "The resulting Pearson correlation coefficient will provide you with information about the strength and direction of the linear relationship between the number of hours individuals spend watching television per day and their level of physical activity."
   ]
  },
  {
   "cell_type": "markdown",
   "id": "736bf10c-456e-4821-bc45-a649bd5645fb",
   "metadata": {},
   "source": [
    "Q6. A company is interested in examining the relationship between the number of sales calls made per day \n",
    "and the number of sales made per week. The company collected data on both variables from a sample of \n",
    "30 sales representatives. Calculate the Pearson correlation coefficient between these two variable."
   ]
  },
  {
   "cell_type": "code",
   "execution_count": 9,
   "id": "72388645-5ad4-42f0-97bc-530748c7c855",
   "metadata": {},
   "outputs": [
    {
     "name": "stdout",
     "output_type": "stream",
     "text": [
      "Pearson Correlation Coefficient: 0.9412774478359325\n"
     ]
    }
   ],
   "source": [
    "import numpy as np\n",
    "\n",
    "# Example data\n",
    "sales_calls_per_day = [25, 20, 30, 15, 22, 18, 28, 24, 19, 21, 17, 23, 26, 27, 16, 29, 20, 24, 22, 26, 18, 15, 21, 19, 23, 25, 28, 17, 16, 30]\n",
    "sales_per_week = [8, 6, 9, 5, 7, 6, 8, 7, 5, 6, 4, 7, 9, 8, 5, 9, 6, 7, 6, 8, 6, 5, 7, 5, 7, 8, 9, 4, 5, 10]\n",
    "\n",
    "# Calculate Pearson correlation coefficient\n",
    "pearson_corr_coeff = np.corrcoef(sales_calls_per_day, sales_per_week)[0, 1]\n",
    "\n",
    "print(\"Pearson Correlation Coefficient:\", pearson_corr_coeff)\n"
   ]
  },
  {
   "cell_type": "markdown",
   "id": "3896f219-a1a0-4bfe-9ea5-23828e2defab",
   "metadata": {},
   "source": [
    "Replace the sales_calls_per_day and sales_per_week arrays with your actual data points. The np.corrcoef() function calculates the Pearson correlation matrix, and the [0, 1] index extracts the Pearson correlation coefficient between the two variables.\n",
    "\n",
    "The Pearson correlation coefficient will give you an idea of the strength and direction of the linear relationship between the number of sales calls made per day and the number of sales made per week. If the coefficient is close to +1, it suggests a strong positive linear relationship, indicating that as the number of sales calls increases, the number of sales also tends to increase. If the coefficient is close to -1, it suggests a strong negative linear relationship, and if it's close to 0, it indicates a weak or no linear relationship between the variables.\n"
   ]
  }
 ],
 "metadata": {
  "kernelspec": {
   "display_name": "Python 3 (ipykernel)",
   "language": "python",
   "name": "python3"
  },
  "language_info": {
   "codemirror_mode": {
    "name": "ipython",
    "version": 3
   },
   "file_extension": ".py",
   "mimetype": "text/x-python",
   "name": "python",
   "nbconvert_exporter": "python",
   "pygments_lexer": "ipython3",
   "version": "3.10.8"
  }
 },
 "nbformat": 4,
 "nbformat_minor": 5
}
