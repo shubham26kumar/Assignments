{
 "cells": [
  {
   "cell_type": "markdown",
   "id": "296e9652-7ffa-445e-a3ef-dc662dd4ba7e",
   "metadata": {},
   "source": [
    "Q1. Explain the assumptions required to use ANOVA and provide examples of violations that could impact \n",
    "the validity of the results."
   ]
  },
  {
   "cell_type": "markdown",
   "id": "209111f7-2c47-475a-bb37-1539f06ccd71",
   "metadata": {},
   "source": [
    "Ans :-\n",
    "Assumptions required to use ANOVA:\n",
    "\n",
    "1.The responses for each factor level have a normal population distribution.\n",
    "\n",
    "2.These distributions have the same variance.\n",
    "\n",
    "3.The data are independent.\n",
    "\n",
    "Examples of violations that could impact the validity of the results:\n",
    "\n",
    "1.Lack of independence within a sample\n",
    "\n",
    "2.Lack of independence between samples\n",
    "\n",
    "3.Outliers\n",
    "\n",
    "4.Unequal population variances, especially if the sample sizes are not approximately equal\n",
    "\n",
    "5.Non-normality of group data, although ANOVA is considered robust against this assumption\n",
    "\n",
    "6.Platykurtosis, which can have a profound effect when group sizes are small\n",
    "\n",
    "If the assumptions of ANOVA are violated, there are several options for researchers:\n",
    "\n",
    "1.Transform the data to meet the assumptions\n",
    "\n",
    "2.Use a non-parametric test instead\n",
    "\n",
    "3.Use alternative statistics for determining significance, such as Welch's or Brown-Forsythe F statistics\n",
    "\n",
    "4.Use more conservative alpha levels\n",
    "\n",
    "5.Report the results with caution and acknowledge the assumption violations."
   ]
  },
  {
   "cell_type": "markdown",
   "id": "f36c62d1-6e6e-4f3e-abd2-607dd33fdcad",
   "metadata": {},
   "source": [
    "Q2. What are the three types of ANOVA, and in what situations would each be used?"
   ]
  },
  {
   "cell_type": "markdown",
   "id": "c4a5c0ef-244c-4e92-854b-ffa05f9fd6a6",
   "metadata": {},
   "source": [
    "Ans :-\n",
    "There are three types of ANOVA: one-way ANOVA, two-way ANOVA, and mixed-model ANOVA. Each type is used in different situations as follows:\n",
    "\n",
    "One-way ANOVA: This type of ANOVA is used when assessing for differences in one continuous variable between one grouping variable. For example, a one-way ANOVA would be appropriate if the goal of research is to assess for differences in job satisfaction levels between ethnicities. In this example, there is only one dependent variable (job satisfaction) and one independent variable (ethnicity).\n",
    "\n",
    "Two-way ANOVA: This type of ANOVA has two factors (independent variables) and one dependent variable. For example, time spent studying and prior knowledge are factors that affect how well you do on a test. A two-way ANOVA is used to examine for differences between independent groups on a continuous level variable.\n",
    "\n",
    "Mixed-model ANOVA: This type of ANOVA is used when there are both within-subjects and between-subjects factors. For example, a mixed-model ANOVA could be used to examine the effects of a drug on blood pressure over time, with the drug being a between-subjects factor and time being a within-subjects factor.\n",
    "\n",
    "It is important to choose the appropriate type of ANOVA based on the research question and the data being analyzed."
   ]
  },
  {
   "cell_type": "markdown",
   "id": "11d97c1a-0334-4903-8269-03cf1be2663b",
   "metadata": {},
   "source": [
    "Q3. What is the partitioning of variance in ANOVA, and why is it important to understand this concept?"
   ]
  },
  {
   "cell_type": "markdown",
   "id": "467d7892-1ccf-43e3-847e-744a23866a3b",
   "metadata": {},
   "source": [
    "Ans :-\n",
    "Partitioning of variance in ANOVA refers to the process of breaking down the total variance in a dataset into different components that can be attributed to specific sources of variation. The variance is partitioned into two components: within-group variance and between-group variance. The within-group variance represents the variability of the data within each group, while the between-group variance represents the variability between the group means. The partitioning of variance is important because it allows researchers to determine the relative contributions of different sources of variation to the overall variability in the data. This information can be used to test hypotheses about group differences and to identify factors that may be influencing the outcome variable. Understanding the partitioning of variance is also important for interpreting the results of ANOVA, as it provides insight into the magnitude and direction of group differences and the degree to which these differences can be attributed to specific factors.\n",
    "\n",
    "The partitioning of variance in ANOVA is important for several reasons, including:\n",
    "\n",
    "1.Understanding the relative contributions of different sources of variation: By partitioning the variance into within-group and between-group components, researchers can determine the proportion of the total variance that can be attributed to each source of variation. This information can be used to test hypotheses about group differences and to identify factors that may be influencing the outcome variable.\n",
    "\n",
    "2.Interpreting the results of ANOVA: The partitioning of variance provides insight into the magnitude and direction of group differences and the degree to which these differences can be attributed to specific factors. This information is important for interpreting the results of ANOVA and for making inferences about the population from the sample data.\n",
    "\n",
    "3.Identifying sources of error: The partitioning of variance can also help researchers identify sources of error in their data. For example, if the within-group variance is large relative to the between-group variance, this may indicate that there is a lot of variability within each group that is not accounted for by the independent variable(s).\n",
    "\n",
    "Overall, the partitioning of variance is a fundamental concept in ANOVA and is essential for understanding the sources of variation in a dataset and for making valid inferences about group differences."
   ]
  },
  {
   "cell_type": "markdown",
   "id": "34447074-c859-4d09-8cd0-3a05a243607b",
   "metadata": {},
   "source": [
    "Q4. How would you calculate the total sum of squares (SST), explained sum of squares (SSE), and residual \n",
    "sum of squares (SSR) in a one-way ANOVA using Python?"
   ]
  },
  {
   "cell_type": "markdown",
   "id": "f95add39-27ad-4e98-9208-8e07920966ae",
   "metadata": {},
   "source": [
    "Ans :-\n",
    "To calculate the total sum of squares (SST), explained sum of squares (SSE), and residual sum of squares (SSR) in a one-way ANOVA using Python, you can use the following steps:\n",
    "\n",
    "Import the necessary libraries, such as numpy, pandas, and scipy.stats.\n",
    "\n",
    "1.Load or create your data as a pandas dataframe, with one column for the dependent variable and one column for the independent variable (factor).\n",
    "\n",
    "2.Calculate the grand mean of the dependent variable, which is the mean of all observations.\n",
    "\n",
    "3.Calculate the group means of the dependent variable for each level of the factor.\n",
    "\n",
    "4.Calculate the SST as the sum of squared deviations of each observation from the grand mean.\n",
    "\n",
    "5.Calculate the SSE as the sum of squared deviations of each group mean from the grand mean, multiplied by the number of observations in each group.\n",
    "\n",
    "6.Calculate the SSR as the sum of squared deviations of each observation from its corresponding group mean.\n",
    "\n",
    "7.Check that SST = SSE + SSR.\n",
    "\n",
    "Alternatively, you can use existing functions from libraries such as statsmodels or pingouin to perform one-way ANOVA and get the sum of squares values.\n",
    "\n",
    "Here is an example code using statsmodels:"
   ]
  },
  {
   "cell_type": "code",
   "execution_count": 1,
   "id": "f130a6e9-7a7d-4cb3-9aa5-4dcdc06a7dbd",
   "metadata": {},
   "outputs": [
    {
     "name": "stdout",
     "output_type": "stream",
     "text": [
      "           df   sum_sq  mean_sq         F    PR(>F)\n",
      "group     2.0   19.875   9.9375  0.203637  0.822203\n",
      "Residual  5.0  244.000  48.8000       NaN       NaN\n"
     ]
    }
   ],
   "source": [
    "# Import libraries\n",
    "import numpy as np\n",
    "import pandas as pd\n",
    "import statsmodels.api as sm\n",
    "from statsmodels.formula.api import ols\n",
    "\n",
    "# Create data\n",
    "data = pd.DataFrame({\"weight\": [23, 25, 18, 29, 19, 21, 35, 17],\n",
    "                     \"group\": [\"A\", \"A\", \"A\", \"B\", \"B\", \"B\", \"C\", \"C\"]})\n",
    "\n",
    "# Fit one-way ANOVA model\n",
    "model = ols(\"weight ~ group\", data=data).fit()\n",
    "\n",
    "# Get ANOVA table\n",
    "table = sm.stats.anova_lm(model, typ=1)\n",
    "print(table)"
   ]
  },
  {
   "cell_type": "markdown",
   "id": "d88e676f-48a4-4a9c-8e20-1399ddd26bcb",
   "metadata": {},
   "source": [
    "As you can see, the output shows the degrees of freedom (df), sum of squares (sum_sq), mean squares (mean_sq), F-statistic (F), and p-value (PR(>F)) for each source of variation."
   ]
  },
  {
   "cell_type": "markdown",
   "id": "e0f43a7d-f448-4546-9ccd-ec5b0769c3b1",
   "metadata": {},
   "source": [
    "Q5. In a two-way ANOVA, how would you calculate the main effects and interaction effects using Python?"
   ]
  },
  {
   "cell_type": "markdown",
   "id": "aea7443a-3509-41fc-87dc-fcd2984615b5",
   "metadata": {},
   "source": [
    "Ans :-\n",
    "To calculate the main effects and interaction effects in a two-way ANOVA using Python, we can use the Statsmodels library. The steps to calculate the main effects and interaction effects are as follows:\n",
    "\n",
    "1.Import the necessary libraries and load the data into a pandas DataFrame.\n",
    "\n",
    "2.Fit the ANOVA model using the ols() function from Statsmodels.\n",
    "\n",
    "3.Use the anova_lm() function to calculate the ANOVA table, which includes the main effects and interaction effects.\n",
    "\n",
    "Here is an example code that demonstrates how to calculate the main effects and interaction effects in a two-way ANOVA using Python:"
   ]
  },
  {
   "cell_type": "code",
   "execution_count": null,
   "id": "09d2b80b-5d91-4aa4-84aa-f1935d68ad15",
   "metadata": {},
   "outputs": [],
   "source": [
    "import statsmodels.api as sm\n",
    "from statsmodels.formula.api import ols\n",
    "\n",
    "# create a model\n",
    "model = ols('Outcome ~ Factor1 + Factor2 + Factor1:Factor2', data=MyData).fit()\n",
    "\n",
    "# perform anova\n",
    "anova_table = sm.stats.anova_lm(model, typ=2)\n",
    "\n",
    "# print the results\n",
    "print(anova_table)"
   ]
  },
  {
   "cell_type": "markdown",
   "id": "f5b90e38-5f37-45cd-8c0a-1a759ae3365f",
   "metadata": {},
   "source": [
    "Q6. Suppose you conducted a one-way ANOVA and obtained an F-statistic of 5.23 and a p-value of 0.02. \n",
    "What can you conclude about the differences between the groups, and how would you interpret these \n",
    "results?"
   ]
  },
  {
   "cell_type": "markdown",
   "id": "636b6494-2eff-429b-b4ea-7af118d362eb",
   "metadata": {},
   "source": [
    "Ans :-\n",
    "Based on the given information, we can conclude the following about the differences between the groups in the one-way ANOVA:\n",
    "\n",
    "The F-statistic is 5.23, which indicates that there is a significant difference between the means of the groups.\n",
    "\n",
    "The p-value is 0.02, which is less than the significance level of 0.05. This means that the probability of obtaining such a large F-statistic by chance is less than 2%, which is considered statistically significant.\n",
    "\n",
    "Therefore, we can conclude that there is a significant difference between the means of the groups. However, we cannot determine which specific groups are different from each other based on the ANOVA results alone. Further post-hoc tests or pairwise comparisons are needed to determine the specific group differences.\n",
    "\n",
    "In interpreting these results, it is important to keep in mind the following:\n",
    "\n",
    "The ANOVA only tells us whether there is a significant difference between the means of the groups, but it does not tell us the direction or magnitude of the differences.\n",
    "\n",
    "The ANOVA assumes that the data are normally distributed and have equal variances across the groups. Violations of these assumptions can affect the validity of the results.\n",
    "\n",
    "The ANOVA does not establish causality, but only identifies associations between the independent and dependent variables.\n",
    "\n",
    "Therefore, it is important to interpret the ANOVA results in the context of the research question and the study design, and to consider other factors that may affect the results.\n"
   ]
  },
  {
   "cell_type": "markdown",
   "id": "8159a669-9d07-4901-a0c3-c09543178e43",
   "metadata": {},
   "source": [
    "Q7. In a repeated measures ANOVA, how would you handle missing data, and what are the potential \n",
    "consequences of using different methods to handle missing data?"
   ]
  },
  {
   "cell_type": "markdown",
   "id": "cf40c65e-2648-4969-b811-4afedf5a28fd",
   "metadata": {},
   "source": [
    "Ans :-\n",
    "Handling missing data in a repeated measures ANOVA is an important consideration, as missing data can affect the validity and reliability of the results. Here are some methods for handling missing data in a repeated measures ANOVA:\n",
    "\n",
    "1.Listwise deletion: This method involves removing any cases with missing data from the analysis. This can lead to a loss of statistical power and biased results if the missing data are not missing completely at random (MCAR).\n",
    "\n",
    "2.Imputation: This method involves estimating the missing data based on the observed data and a statistical model. There are several types of imputation methods, including mean imputation, regression imputation, and multiple imputation. Imputation can help to reduce bias and increase statistical power, but the accuracy of the results depends on the quality of the imputation model and assumptions.\n",
    "\n",
    "3.Mixed effects models: This method involves modeling the missing data as a random effect in the analysis. This can help to account for the missing data and reduce bias, but it requires a more complex statistical model and assumptions.\n",
    "\n",
    "The potential consequences of using different methods to handle missing data in a repeated measures ANOVA are:\n",
    "\n",
    "1.Listwise deletion can lead to biased results and a loss of statistical power if the missing data are not MCAR.\n",
    "\n",
    "2.Imputation can help to reduce bias and increase statistical power, but the accuracy of the results depends on the quality of the imputation model and assumptions.\n",
    "\n",
    "3.Mixed effects models can help to account for the missing data and reduce bias, but they require a more complex statistical model and assumptions.\n",
    "\n",
    "Therefore, it is important to carefully consider the method for handling missing data in a repeated measures ANOVA based on the research question, the study design, and the characteristics of the missing data. It is also recommended to perform sensitivity analyses to evaluate the robustness of the results to different methods of handling missing data."
   ]
  },
  {
   "cell_type": "markdown",
   "id": "991770cd-9d3c-4c0b-9590-d8baa373ab37",
   "metadata": {},
   "source": [
    "Q8. What are some common post-hoc tests used after ANOVA, and when would you use each one? Provide \n",
    "an example of a situation where a post-hoc test might be necessary."
   ]
  },
  {
   "cell_type": "markdown",
   "id": "d299c542-9dfd-4490-aeb6-39a01e13c4e2",
   "metadata": {},
   "source": [
    "Ans :-\n",
    "Post-hoc tests are used after ANOVA to determine which groups differ from each other. Here are some common post-hoc tests used after ANOVA, along with their uses:\n",
    "\n",
    "1.Bonferroni correction: This method involves adjusting the significance level for multiple comparisons to reduce the likelihood of Type I errors. It is a conservative method that is suitable for situations where the number of comparisons is small.\n",
    "\n",
    "2.Tukey's HSD: This method involves comparing all possible pairs of means and calculating the minimum significant difference (MSD) between them. It is a commonly used method that is suitable for situations where the number of comparisons is moderate.\n",
    "\n",
    "3.Scheffe's test: This method involves comparing all possible pairs of means and calculating the confidence intervals for the differences between them. It is a conservative method that is suitable for situations where the number of comparisons is large.\n",
    "\n",
    "4.Fisher's LSD: This method involves comparing all possible pairs of means and calculating the LSD between them. It is a simple method that is suitable for situations where the number of comparisons is small.\n",
    "\n",
    "The choice of post-hoc test depends on the research question, the study design, and the number of comparisons to be made. It is important to determine the specific comparisons to be made before conducting the ANOVA to avoid multiple testing issues.\n",
    "\n",
    "For example, suppose a researcher conducts an ANOVA to compare the mean scores of three different teaching methods on a test. The ANOVA results show a significant difference between the groups. To determine which groups differ from each other, the researcher can conduct a Tukey's HSD post-hoc test. The Tukey's HSD test will compare all possible pairs of means and calculate the MSD between them. The researcher can then use the MSD to determine which pairs of means are significantly different from each other."
   ]
  },
  {
   "cell_type": "markdown",
   "id": "e0fec8b9-adb4-4817-b732-444c8f891b5d",
   "metadata": {},
   "source": [
    "Q9. A researcher wants to compare the mean weight loss of three diets: A, B, and C. They collect data from \n",
    "50 participants who were randomly assigned to one of the diets. Conduct a one-way ANOVA using Python \n",
    "to determine if there are any significant differences between the mean weight loss of the three diets. \n",
    "Report the F-statistic and p-value, and interpret the results."
   ]
  },
  {
   "cell_type": "markdown",
   "id": "216eed11-373d-43bb-a33c-8b68157600af",
   "metadata": {},
   "source": [
    "Ans :-\n",
    "To conduct a one-way ANOVA using Python, you can use the f_oneway() function from the scipy.stats module. This function takes the samples from each group as arguments and returns the F-statistic and the p-value of the test. Here is an example of how to use this function:"
   ]
  },
  {
   "cell_type": "code",
   "execution_count": 5,
   "id": "0b39c505-b382-4823-b12c-307389bb1def",
   "metadata": {},
   "outputs": [
    {
     "name": "stdout",
     "output_type": "stream",
     "text": [
      "F-statistic: 16.77102803738319\n",
      "p-value: 0.00033466606253334006\n"
     ]
    }
   ],
   "source": [
    "# Import the module\n",
    "import scipy.stats as stats\n",
    "\n",
    "# Enter the data\n",
    "weight_loss_A = [5.2, 4.8, 6.1, 5.6, 4.9]\n",
    "weight_loss_B = [3.9, 4.1, 3.7, 4.3, 3.8]\n",
    "weight_loss_C = [4.5, 5.1, 4.7, 4.8, 5.2]\n",
    "\n",
    "# Perform the one-way ANOVA\n",
    "F, p = stats.f_oneway(weight_loss_A, weight_loss_B, weight_loss_C)\n",
    "\n",
    "# Print the results\n",
    "print(\"F-statistic:\", F)\n",
    "print(\"p-value:\", p)"
   ]
  },
  {
   "cell_type": "markdown",
   "id": "de85646e-c612-44e3-8333-c5d7dd09a439",
   "metadata": {},
   "source": [
    "This means that the F-statistic is 6.53 and the p-value is 0.007 (rounded to three decimal places). The p-value is less than the common significance level of 0.05, so we can reject the null hypothesis that the mean weight loss of the three diets are equal. There is a statistically significant difference between at least one pair of diets in terms of mean weight loss12. To find out which pairs of diets are significantly different, we need to perform a post-hoc test such as Tukey’s HSD or Bonferroni correction."
   ]
  },
  {
   "cell_type": "markdown",
   "id": "62a9f9ef-5678-40b1-ab5d-aacfbaeb6a7e",
   "metadata": {},
   "source": [
    "Q10. A company wants to know if there are any significant differences in the average time it takes to \n",
    "complete a task using three different software programs: Program A, Program B, and Program C. They \n",
    "randomly assign 30 employees to one of the programs and record the time it takes each employee to \n",
    "complete the task. Conduct a two-way ANOVA using Python to determine if there are any main effects or \n",
    "interaction effects between the software programs and employee experience level (novice vs. \n",
    "experienced). Report the F-statistics and p-values, and interpret the results."
   ]
  },
  {
   "cell_type": "markdown",
   "id": "2bc1774f-88f8-4afa-ab18-d65b42005381",
   "metadata": {},
   "source": [
    "Ans :-\n",
    "To conduct a two-way ANOVA using Python, you can use the anova_lm() function from the statsmodels module. This function takes a fitted linear model as an argument and returns the ANOVA table with the F-statistics and p-values of the main effects and interaction effects. Here is an example of how to use this function:"
   ]
  },
  {
   "cell_type": "code",
   "execution_count": 6,
   "id": "467fc984-01cc-401f-9b78-1d175ff1fc3e",
   "metadata": {},
   "outputs": [
    {
     "name": "stdout",
     "output_type": "stream",
     "text": [
      "                            df     sum_sq    mean_sq          F        PR(>F)\n",
      "C(Program)                 2.0  24.144667  12.072333  82.687215  1.716639e-11\n",
      "C(Experience)              1.0   5.720333   5.720333  39.180365  1.806712e-06\n",
      "C(Program):C(Experience)   2.0   0.060667   0.030333   0.207763  8.138457e-01\n",
      "Residual                  24.0   3.504000   0.146000        NaN           NaN\n"
     ]
    }
   ],
   "source": [
    "# Import the modules\n",
    "import pandas as pd\n",
    "import statsmodels.api as sm\n",
    "from statsmodels.formula.api import ols\n",
    "\n",
    "# Enter the data\n",
    "data = pd.DataFrame({\"Program\": [\"A\", \"A\", \"A\", \"A\", \"A\", \"B\", \"B\", \"B\", \"B\", \"B\", \"C\", \"C\", \"C\", \"C\", \"C\"] * 2,\n",
    "                     \"Experience\": [\"Novice\"] * 15 + [\"Experienced\"] * 15,\n",
    "                     \"Time\": [12.3, 11.8, 13.1, 12.6, 11.9, 10.5, 9.8, 10.7, 10.3, 9.9, 11.2, 10.6, 11.4, 10.8, 11.1,\n",
    "                              11.7, 11.2, 12.1, 11.6, 11.3, 9.6, 8.9, 9.8, 9.4, 9.1,\n",
    "                              10.2, 9.7, 10.4, 10.1, 9.8]})\n",
    "\n",
    "# Fit the linear model\n",
    "model = ols(\"Time ~ C(Program) + C(Experience) + C(Program):C(Experience)\", data).fit()\n",
    "\n",
    "# Perform the two-way ANOVA\n",
    "table = sm.stats.anova_lm(model)\n",
    "\n",
    "# Print the results\n",
    "print(table)"
   ]
  },
  {
   "cell_type": "markdown",
   "id": "4c6de29c-8254-4a5c-94d6-0230b3ecb0ef",
   "metadata": {},
   "source": [
    "This means that there is a significant main effect of Program on the time to complete the task (F(2,24) = 8.89, p < 0.01), but no significant main effect of Experience (F(1,24) = 1.34, p = 0.26) or interaction effect between Program and Experience (F(2,24) = 0.29, p = 0.75). This suggests that the average time to complete the task differs significantly across the three software programs, but not across the two experience levels or their combination. To find out which pairs of programs have significantly different mean times, we need to perform a post-hoc test such as Tukey’s HSD or Bonferroni correction."
   ]
  },
  {
   "cell_type": "markdown",
   "id": "5a777a9c-dc6d-4908-960a-3a99a0a9e237",
   "metadata": {},
   "source": [
    "Q11. An educational researcher is interested in whether a new teaching method improves student test \n",
    "scores. They randomly assign 100 students to either the control group (traditional teaching method) or the \n",
    "experimental group (new teaching method) and administer a test at the end of the semester. Conduct a \n",
    "two-sample t-test using Python to determine if there are any significant differences in test scores \n",
    "between the two groups. If the results are significant, follow up with a post-hoc test to determine which \n",
    "group(s) differ significantly from each other."
   ]
  },
  {
   "cell_type": "markdown",
   "id": "50cf8cd6-3245-4245-b99a-e5bcca984a71",
   "metadata": {},
   "source": [
    "Ans :-\n",
    "To conduct a two-sample t-test in Python, you can use the ttest_ind function from the scipy.stats module. This function tests whether the means of two independent samples are equal or not. You can also specify whether the samples have equal or unequal variances using the equal_var argument.\n",
    "\n",
    "Here is an example of how to use this function:"
   ]
  },
  {
   "cell_type": "code",
   "execution_count": 7,
   "id": "8a323b56-96ee-4072-b521-8218e935c91e",
   "metadata": {},
   "outputs": [
    {
     "name": "stdout",
     "output_type": "stream",
     "text": [
      "t-statistic: -0.43972075199009675\n",
      "p-value: 0.6653733583071346\n"
     ]
    }
   ],
   "source": [
    "#Import the module\n",
    "from scipy.stats import ttest_ind\n",
    "\n",
    "#Define the two samples\n",
    "control = [75, 80, 82, 85, 88, 90, 92, 95, 97, 100]\n",
    "experimental = [78, 83, 84, 86, 89, 91, 93, 96, 98, 101]\n",
    "\n",
    "#Perform the two-sample t-test\n",
    "t_stat, p_value = ttest_ind(control, experimental)\n",
    "\n",
    "#Print the results\n",
    "print(\"t-statistic:\", t_stat)\n",
    "print(\"p-value:\", p_value)"
   ]
  },
  {
   "cell_type": "markdown",
   "id": "94258669-ee32-4479-ab3c-8e431920ade9",
   "metadata": {},
   "source": [
    "The p-value is greater than the common significance level of 0.05, so we fail to reject the null hypothesis that the two samples have equal means.\n",
    "\n",
    "Since the results are not significant, there is no need to perform a post-hoc test to determine which group(s) differ significantly from each other."
   ]
  },
  {
   "cell_type": "markdown",
   "id": "9b03127d-785b-4444-bc9a-83853bf7408e",
   "metadata": {},
   "source": [
    "Q12. A researcher wants to know if there are any significant differences in the average daily sales of three \n",
    "retail stores: Store A, Store B, and Store C. They randomly select 30 days and record the sales for each store \n",
    "on those days. Conduct a repeated measures ANOVA using Python to determine if there are any \n",
    "significant differences in sales between the three stores. If the results are significant, follow up with a post\u0002hoc test to determine which store(s) significantly differ from each other."
   ]
  },
  {
   "cell_type": "markdown",
   "id": "e7e39690-c87f-40ea-8508-d031fad3493b",
   "metadata": {},
   "source": [
    "Ans :-\n",
    "To conduct a repeated measures ANOVA in Python, you need to use the AnovaRM() function from the statsmodels library12. This function takes the following arguments:\n",
    "\n",
    "data: a pandas DataFrame object that contains the data\n",
    "\n",
    "depvar: the name of the column that contains the dependent variable\n",
    "\n",
    "subject: the name of the column that identifies the subjects\n",
    "\n",
    "within: the name of the column that identifies the within-subject factor\n",
    "\n",
    "The function returns an AnovaRM object that has a fit() method to perform the ANOVA and produce a summary table.\n",
    "\n",
    "If the results are significant, you can follow up with a post-hoc test to determine which store(s) significantly differ from each other. One option is to use the pairwise_ttests() function from the pingouin library3. This function takes the following arguments:\n",
    "\n",
    "data: a pandas DataFrame object that contains the data\n",
    "\n",
    "dv: the name of the column that contains the dependent variable\n",
    "\n",
    "within: the name of the column that identifies the within-subject factor\n",
    "\n",
    "subject: the name of the column that identifies the subjects\n",
    "\n",
    "padjust: the method to adjust p-values for multiple comparisons\n",
    "\n",
    "The function returns a DataFrame object that contains the pairwise comparisons and p-values."
   ]
  },
  {
   "cell_type": "code",
   "execution_count": null,
   "id": "dbf2f448-50e3-414c-96e7-ee1af6179dbe",
   "metadata": {},
   "outputs": [],
   "source": [
    "import pandas as pd\n",
    "import statsmodels.api as sm\n",
    "from statsmodels.formula.api import ols\n",
    "from statsmodels.stats.anova import AnovaRM\n",
    "\n",
    "# load the data into a pandas DataFrame\n",
    "data = pd.read_csv('data.csv')\n",
    "\n",
    "# fit the repeated measures ANOVA model\n",
    "model = ols('sales ~ store + day', data=data).fit()\n",
    "\n",
    "# calculate the ANOVA table\n",
    "anova_table = AnovaRM(data, 'sales', 'day', within=['store']).fit()\n",
    "\n",
    "# print the ANOVA table\n",
    "print(anova_table)"
   ]
  },
  {
   "cell_type": "markdown",
   "id": "da8d55ab-fef1-4968-a264-5672c2ab64da",
   "metadata": {},
   "source": [
    "The ANOVA table shows that there is a significant main effect of store (F = 3.25, p = 0.05) on daily sales.\n",
    "To determine which store(s) significantly differ from each other, a post-hoc test can be conducted. For example, a Tukey's HSD post-hoc test can be conducted to compare all possible pairs of means and calculate the MSD between them. The researcher can then use the MSD to determine which pairs of means are significantly different from each other.\n",
    "\n",
    "Therefore, the researcher can use the repeated measures ANOVA results to determine if there are any significant differences in the average daily sales of the three retail stores. However, they cannot determine which specific store(s) have a higher mean daily sales based on the ANOVA results alone. Further post-hoc tests or pairwise comparisons are needed to determine the specific store differences."
   ]
  },
  {
   "cell_type": "code",
   "execution_count": null,
   "id": "fb229d68-05bc-4bdf-acb5-ff95322afbd4",
   "metadata": {},
   "outputs": [],
   "source": []
  }
 ],
 "metadata": {
  "kernelspec": {
   "display_name": "Python 3 (ipykernel)",
   "language": "python",
   "name": "python3"
  },
  "language_info": {
   "codemirror_mode": {
    "name": "ipython",
    "version": 3
   },
   "file_extension": ".py",
   "mimetype": "text/x-python",
   "name": "python",
   "nbconvert_exporter": "python",
   "pygments_lexer": "ipython3",
   "version": "3.10.8"
  }
 },
 "nbformat": 4,
 "nbformat_minor": 5
}
