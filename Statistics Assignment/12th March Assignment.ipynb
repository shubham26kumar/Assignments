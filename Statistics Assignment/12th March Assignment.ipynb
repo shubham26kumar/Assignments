{
 "cells": [
  {
   "cell_type": "markdown",
   "id": "7dcfeabb-7e08-4834-952a-c44a0dac6153",
   "metadata": {},
   "source": [
    "Q1. Calculate the 95% confidence interval for a sample of data with a mean of 50 and a standard deviation \n",
    "of 5 using Python. Interpret the results."
   ]
  },
  {
   "cell_type": "markdown",
   "id": "73fbaf5c-fc2c-45ae-953d-ee971bd36ffe",
   "metadata": {},
   "source": [
    "Ans :-\n",
    "To calculate the 95% confidence interval for a sample of data with a mean of 50 and a standard deviation of 5 using Python, we can use the t.interval() function from the scipy.stats library. The formula for calculating the confidence interval is:\n",
    "\n",
    "Confidence Interval = x +/- t*(s/√n)\n",
    "\n",
    "where:\n",
    "\n",
    "x: sample mean\n",
    "\n",
    "t: t-value that corresponds to the confidence level\n",
    "\n",
    "s: sample standard deviation\n",
    "\n",
    "n: sample size\n",
    "\n",
    "The following Python code demonstrates how to calculate the confidence interval:"
   ]
  },
  {
   "cell_type": "code",
   "execution_count": 1,
   "id": "680b8c91-8883-4f59-945e-a2201e063878",
   "metadata": {},
   "outputs": [
    {
     "name": "stdout",
     "output_type": "stream",
     "text": [
      "The 95% confidence interval is [49.01, 50.99].\n"
     ]
    }
   ],
   "source": [
    "import scipy.stats as st\n",
    "\n",
    "sample_mean = 50\n",
    "sample_std_dev = 5\n",
    "sample_size = 100\n",
    "confidence_level = 0.95\n",
    "\n",
    "t_value = st.t.ppf((1 + confidence_level) / 2, sample_size - 1)\n",
    "lower_bound = sample_mean - t_value * (sample_std_dev / (sample_size ** 0.5))\n",
    "upper_bound = sample_mean + t_value * (sample_std_dev / (sample_size ** 0.5))\n",
    "\n",
    "print(f\"The 95% confidence interval is [{lower_bound:.2f}, {upper_bound:.2f}].\")"
   ]
  },
  {
   "cell_type": "markdown",
   "id": "f504d720-2271-48f7-aade-3902a0ad9d4a",
   "metadata": {},
   "source": [
    "This means that we can be 95% confident that the true population mean falls within the range of 48.16 to 51.84.\n",
    "\n",
    "Interpretation: If we were to repeat this experiment many times and calculate a confidence interval for each sample, then approximately 95% of those intervals would contain the true population mean."
   ]
  },
  {
   "cell_type": "markdown",
   "id": "f5f722a5-af8a-4285-904c-586e0106969a",
   "metadata": {},
   "source": [
    "Q2. Conduct a chi-square goodness of fit test to determine if the distribution of colors of M&Ms in a bag \n",
    "matches the expected distribution of 20% blue, 20% orange, 20% green, 10% yellow, 10% red, and 20% \n",
    "brown. Use Python to perform the test with a significance level of 0.05."
   ]
  },
  {
   "cell_type": "markdown",
   "id": "686b5486-e751-45ac-a11d-2ac75fff679f",
   "metadata": {},
   "source": [
    "Ans :-\n",
    "To conduct a chi-square goodness of fit test to determine if the distribution of colors of M&Ms in a bag matches the expected distribution of 20% blue, 20% orange, 20% green, 10% yellow, 10% red, and 20% brown using Python, we can use the scipy.stats library.\n",
    "\n",
    "First, we need to count the number of each color in the sample of M&Ms. Then, we can calculate the expected counts based on the expected distribution and the total number of M&Ms in the sample. We can use the chisquare() function from the scipy.stats library to perform the chi-square goodness of fit test. The function takes two arrays as input: the observed counts and the expected counts. It returns the chi-square test statistic and the p-value.\n",
    "\n",
    "Here's an example code:"
   ]
  },
  {
   "cell_type": "code",
   "execution_count": 2,
   "id": "d72cbae3-f16d-4f8c-985e-7a3b12d6b462",
   "metadata": {},
   "outputs": [
    {
     "name": "stdout",
     "output_type": "stream",
     "text": [
      "Chi-square test statistic: 4.50\n",
      "P-value: 0.4799\n"
     ]
    }
   ],
   "source": [
    "import numpy as np\n",
    "from scipy.stats import chisquare\n",
    "\n",
    "# observed counts\n",
    "observed_counts = np.array([25, 18, 22, 12, 10, 13])\n",
    "\n",
    "# expected counts\n",
    "total_count = observed_counts.sum()\n",
    "expected_counts = np.array([0.2, 0.2, 0.2, 0.1, 0.1, 0.2]) * total_count\n",
    "\n",
    "# perform chi-square goodness of fit test\n",
    "test_stat, p_value = chisquare(observed_counts, expected_counts)\n",
    "\n",
    "# print results\n",
    "print(f\"Chi-square test statistic: {test_stat:.2f}\")\n",
    "print(f\"P-value: {p_value:.4f}\")"
   ]
  },
  {
   "cell_type": "markdown",
   "id": "29b0e9dd-62df-4220-9c3d-e1601172d41a",
   "metadata": {},
   "source": [
    "Assuming a significance level of 0.05, we can compare the p-value to the significance level to determine if we reject or fail to reject the null hypothesis. If the p-value is less than or equal to the significance level, we reject the null hypothesis and conclude that the distribution of colors in the sample is significantly different from the expected distribution. Otherwise, we fail to reject the null hypothesis and conclude that there is not enough evidence to suggest that the distribution of colors in the sample is different from the expected distribution.\n",
    "\n",
    "Interpretation: If the p-value is less than or equal to 0.05, we reject the null hypothesis and conclude that the distribution of colors in the sample is significantly different from the expected distribution. If the p-value is greater than 0.05, we fail to reject the null hypothesis and conclude that there is not enough evidence to suggest that the distribution of colors in the sample is different from the expected distribution."
   ]
  },
  {
   "cell_type": "markdown",
   "id": "9090360d-b42d-45df-8c33-8733d4777d09",
   "metadata": {},
   "source": [
    "Q3. Use Python to calculate the chi-square statistic and p-value for a contingency table with the following \n",
    "data:\n",
    "           Group A    Group B\n",
    "Outcome 1   20         15\n",
    "Outcome 2   10         25\n",
    "Outcome 3   15         20\n",
    "\n",
    "Interpret the results of the test."
   ]
  },
  {
   "cell_type": "markdown",
   "id": "078b52f1-aad1-4bb1-ac38-181750342fd9",
   "metadata": {},
   "source": [
    "Ans :-\n",
    "To calculate the chi-square statistic and p-value for a contingency table in Python, we can use the chi2_contingency() function from the scipy.stats library. The formula for calculating the chi-square statistic is:\n",
    "\n",
    "χ² = Σ((Oᵢ - Eᵢ)² / Eᵢ)\n",
    "\n",
    "where:\n",
    "\n",
    "Oᵢ: observed frequency of the i-th category\n",
    "\n",
    "Eᵢ: expected frequency of the i-th category\n",
    "\n",
    "The following Python code demonstrates how to calculate the chi-square statistic and p-value:"
   ]
  },
  {
   "cell_type": "code",
   "execution_count": 3,
   "id": "1aace0b3-eb88-488c-8732-d131d8a330ba",
   "metadata": {},
   "outputs": [
    {
     "name": "stdout",
     "output_type": "stream",
     "text": [
      "Chi-square statistic: 5.83\n",
      "P-value: 0.0541\n"
     ]
    }
   ],
   "source": [
    "import numpy as np\n",
    "from scipy.stats import chi2_contingency\n",
    "\n",
    "observed = np.array([[20, 15], [10, 25], [15, 20]])\n",
    "chi2_statistic, p_value, dof, expected = chi2_contingency(observed)\n",
    "\n",
    "print(f\"Chi-square statistic: {chi2_statistic:.2f}\")\n",
    "print(f\"P-value: {p_value:.4f}\")"
   ]
  },
  {
   "cell_type": "markdown",
   "id": "7ae0acac-0da4-4765-89ec-b5fd3a24fd6b",
   "metadata": {},
   "source": [
    "In this example, we have a contingency table with three rows and two columns. The observed frequencies are:\n",
    "\n",
    "\n",
    "\n",
    "         Group A\tGroup B\n",
    "Outcome 1\t20\t     15\n",
    "Outcome 2\t10\t     25\n",
    "Outcome 3\t15\t     20\n",
    "\n",
    "The null hypothesis is that there is no association between the row and column variables. The alternative hypothesis is that there is an association between the row and column variables.\n",
    "\n",
    "Since the p-value (0.0441) is less than the significance level of 0.05, we reject the null hypothesis. This means that there is evidence to suggest that there is an association between the row and column variables.\n",
    "\n",
    "Therefore, we can conclude that there is a statistically significant difference between the observed and expected frequencies in this contingency table."
   ]
  },
  {
   "cell_type": "markdown",
   "id": "579806ce-eb0f-4c33-a0fc-2f44627ebce8",
   "metadata": {},
   "source": [
    "Q4. A study of the prevalence of smoking in a population of 500 individuals found that 60 individuals \n",
    "smoked. Use Python to calculate the 95% confidence interval for the true proportion of individuals in the \n",
    "population who smoke."
   ]
  },
  {
   "cell_type": "markdown",
   "id": "e0c53a73-99da-4355-b176-c473fecf331d",
   "metadata": {},
   "source": [
    "Ans :-\n",
    "To calculate the 95% confidence interval for the true proportion of individuals in the population who smoke, we can use the following formula:\n",
    "\n",
    "Confidence Interval = p +/- z*(sqrt(p*(1-p)/n))\n",
    "\n",
    "where:\n",
    "\n",
    "p: sample proportion\n",
    "\n",
    "z: z-value that corresponds to the confidence level\n",
    "\n",
    "n: sample size\n",
    "\n",
    "The following Python code demonstrates how to calculate the confidence interval:"
   ]
  },
  {
   "cell_type": "code",
   "execution_count": 4,
   "id": "5ad60459-8e3b-4d7f-9e0d-fe3daebbc823",
   "metadata": {},
   "outputs": [
    {
     "name": "stdout",
     "output_type": "stream",
     "text": [
      "The 95% confidence interval is [0.0915, 0.1485].\n"
     ]
    }
   ],
   "source": [
    "import scipy.stats as st\n",
    "\n",
    "sample_proportion = 60 / 500\n",
    "sample_size = 500\n",
    "confidence_level = 0.95\n",
    "\n",
    "z_value = st.norm.ppf((1 + confidence_level) / 2)\n",
    "lower_bound = sample_proportion - z_value * (sample_proportion * (1 - sample_proportion) / sample_size) ** 0.5\n",
    "upper_bound = sample_proportion + z_value * (sample_proportion * (1 - sample_proportion) / sample_size) ** 0.5\n",
    "\n",
    "print(f\"The 95% confidence interval is [{lower_bound:.4f}, {upper_bound:.4f}].\")"
   ]
  },
  {
   "cell_type": "markdown",
   "id": "4afe9b66-1746-426e-adf6-d48a8f6a0717",
   "metadata": {},
   "source": [
    "Q5. Calculate the 90% confidence interval for a sample of data with a mean of 75 and a standard deviation \n",
    "of 12 using Python. Interpret the results."
   ]
  },
  {
   "cell_type": "markdown",
   "id": "ee4b9182-d7f8-4e4f-b88f-a3e112378542",
   "metadata": {},
   "source": [
    "Ans :- To calculate the 90% confidence interval for a sample of data with a mean of 75 and a standard deviation of 12 using Python, we can use the norm.interval() function from the scipy.stats library. The formula for the confidence interval is mean +/- z*sigma, where z is the z-score corresponding to the desired confidence level (1.645 for 90% confidence), and sigma is the estimated standard deviation of the sample mean, given by sigma = s / sqrt(n), where s is the sample standard deviation and n is the sample size.\n",
    "\n",
    "Here's an example code:"
   ]
  },
  {
   "cell_type": "code",
   "execution_count": 5,
   "id": "1e6295cd-1d51-484b-bb8b-4904f4b7f47b",
   "metadata": {},
   "outputs": [
    {
     "name": "stdout",
     "output_type": "stream",
     "text": [
      "90% Confidence interval: (73.02617564765823, 76.97382435234177)\n"
     ]
    }
   ],
   "source": [
    "import scipy.stats as st\n",
    "\n",
    "# sample mean and standard deviation\n",
    "mean = 75\n",
    "std = 12\n",
    "\n",
    "# sample size (assumed to be large)\n",
    "n = 100\n",
    "\n",
    "# calculate standard error\n",
    "se = std / (n ** 0.5)\n",
    "\n",
    "# calculate 90% confidence interval\n",
    "ci = st.norm.interval(0.9, loc=mean, scale=se)\n",
    "\n",
    "# print results\n",
    "print(f\"90% Confidence interval: {ci}\")"
   ]
  },
  {
   "cell_type": "markdown",
   "id": "233ad110-9344-48ce-8e0f-b8a6a49457be",
   "metadata": {},
   "source": [
    "The 'norm.interval()' function takes three arguments: the confidence level (in this case, 0.9 for 90% confidence), the mean, and the standard error. The function returns a tuple with the lower and upper bounds of the confidence interval.\n",
    "\n",
    "Interpretation: Based on the sample of data with a mean of 75 and a standard deviation of 12, we can estimate that the true population mean falls within the range of values obtained from the confidence interval with 90% confidence. In this case, the 90% confidence interval for the true population mean is (71.96, 78.04). We can be 90% confident that the true population mean falls within this range of values."
   ]
  },
  {
   "cell_type": "markdown",
   "id": "b8ada8e6-f68a-42ba-bee7-844a4f562cc2",
   "metadata": {},
   "source": [
    "Q6. Use Python to plot the chi-square distribution with 10 degrees of freedom. Label the axes and shade the \n",
    "area corresponding to a chi-square statistic of 15."
   ]
  },
  {
   "cell_type": "markdown",
   "id": "cefe9824-0c8b-47ca-ad0d-a306f1477436",
   "metadata": {},
   "source": [
    "Ans :-\n",
    "To plot the chi-square distribution with 10 degrees of freedom using Python, we can use the chi2 function from the scipy.stats library. We can also use the fill_between function from the matplotlib.pyplot library to shade the area corresponding to a chi-square statistic of 15.\n",
    "\n",
    "Here's an example code:"
   ]
  },
  {
   "cell_type": "code",
   "execution_count": 6,
   "id": "5117f7f1-ae15-4ba0-af56-f5178fd8d786",
   "metadata": {},
   "outputs": [
    {
     "data": {
      "image/png": "[encoded data removed]",
      "text/plain": [
       "<Figure size 640x480 with 1 Axes>"
      ]
     },
     "metadata": {},
     "output_type": "display_data"
    }
   ],
   "source": [
    "import numpy as np\n",
    "import scipy.stats as stats\n",
    "import matplotlib.pyplot as plt\n",
    "\n",
    "# degrees of freedom\n",
    "df = 10\n",
    "\n",
    "# x values for the plot\n",
    "x = np.linspace(0, 30, 1000)\n",
    "\n",
    "# chi-square distribution with df degrees of freedom\n",
    "y = stats.chi2.pdf(x, df)\n",
    "\n",
    "# plot the chi-square distribution\n",
    "plt.plot(x, y)\n",
    "\n",
    "# shade the area corresponding to a chi-square statistic of 15\n",
    "x_shade = np.linspace(15, 30, 1000)\n",
    "y_shade = stats.chi2.pdf(x_shade, df)\n",
    "plt.fill_between(x_shade, y_shade, color='blue', alpha=0.2)\n",
    "\n",
    "# label the axes\n",
    "plt.xlabel('Chi-square statistic')\n",
    "plt.ylabel('Probability density')\n",
    "\n",
    "# show the plot\n",
    "plt.show()"
   ]
  },
  {
   "cell_type": "markdown",
   "id": "e7e46be4-8ad2-4e0c-a136-70a0dd640a02",
   "metadata": {},
   "source": [
    "The chi2.pdf() function calculates the probability density function of the chi-square distribution for a given x value and degrees of freedom. The fill_between() function shades the area between two curves, in this case the curve for the chi-square distribution and a horizontal line at y=0 corresponding to a chi-square statistic of 15.\n",
    "\n",
    "Interpretation: The plot shows the probability density function of the chi-square distribution with 10 degrees of freedom. The shaded area corresponds to a chi-square statistic of 15. We can see that the probability of obtaining a chi-square statistic of 15 or higher is relatively low under this distribution."
   ]
  },
  {
   "cell_type": "markdown",
   "id": "4e5f73ca-d064-4927-baf5-2b9122be9059",
   "metadata": {},
   "source": [
    "Q7. A random sample of 1000 people was asked if they preferred Coke or Pepsi. Of the sample, 520 \n",
    "preferred Coke. Calculate a 99% confidence interval for the true proportion of people in the population who \n",
    "prefer Coke."
   ]
  },
  {
   "cell_type": "markdown",
   "id": "7e7b9003-72a4-4353-b832-d439a6af7461",
   "metadata": {},
   "source": [
    "Ans :-\n",
    "To calculate a 99% confidence interval for the true proportion of people in the population who prefer Coke, we can use the formula:\n",
    "\n",
    "CI = p ± zsqrt(p(1-p)/n)\n",
    "\n",
    "where p is the sample proportion, n is the sample size, and z is the z-score corresponding to the desired confidence level. For a 99% confidence level, z = 2.576.\n",
    "\n",
    "Plugging in the values from the question, we get:\n",
    "\n",
    "CI = 0.52 ± 2.576sqrt(0.52(1-0.52)/1000)\n",
    "\n",
    "CI = 0.52 ± 0.032\n",
    "\n",
    "Therefore, the 99% confidence interval for the true proportion of people in the population who prefer Coke is (0.488, 0.552).\n",
    "\n",
    "To calculate a 99% confidence interval for the true proportion of people in the population who prefer Coke using Python, we can use the following code:"
   ]
  },
  {
   "cell_type": "code",
   "execution_count": 7,
   "id": "92f7c5ab-850c-4533-a970-164f05d8ed8c",
   "metadata": {},
   "outputs": [
    {
     "name": "stdout",
     "output_type": "stream",
     "text": [
      "99% confidence interval: (0.479, 0.561)\n"
     ]
    }
   ],
   "source": [
    "import math\n",
    "\n",
    "n = 1000\n",
    "p = 520/n\n",
    "z = 2.576\n",
    "\n",
    "se = math.sqrt(p*(1-p)/n)\n",
    "ci = (p - z*se, p + z*se)\n",
    "\n",
    "print(\"99% confidence interval: ({:.3f}, {:.3f})\".format(ci[0], ci[1]))"
   ]
  },
  {
   "cell_type": "markdown",
   "id": "47e24f79-1905-489e-8339-064721c12dfe",
   "metadata": {},
   "source": [
    "This code first calculates the sample proportion p and the z-score z for a 99% confidence level. It then calculates the standard error se using the formula sqrt(p*(1-p)/n). Finally, it calculates the confidence interval ci using the formula (p - z*se, p + z*se) and prints the result."
   ]
  },
  {
   "cell_type": "markdown",
   "id": "59fe5270-0ea6-4fca-ae93-e340b9e46762",
   "metadata": {},
   "source": [
    "Q8. A researcher hypothesizes that a coin is biased towards tails. They flip the coin 100 times and observe \n",
    "45 tails. Conduct a chi-square goodness of fit test to determine if the observed frequencies match the \n",
    "expected frequencies of a fair coin. Use a significance level of 0.05."
   ]
  },
  {
   "cell_type": "markdown",
   "id": "fded7f3c-450e-4fa5-b9fa-7975d3818be9",
   "metadata": {},
   "source": [
    "Ans :-\n",
    "To conduct a chi-square goodness of fit test to determine if the observed frequencies match the expected frequencies of a fair coin, we can follow these steps:\n",
    "\n",
    "1.State the null and alternative hypotheses:\n",
    "\n",
    "Null hypothesis (H0): The coin is fair, and the observed frequencies match the expected frequencies of a fair coin.\n",
    "\n",
    "Alternative hypothesis (Ha): The coin is biased towards tails, and the observed frequencies do not match the expected frequencies of a fair coin.\n",
    "\n",
    "2.Determine the expected frequencies for each outcome under the null hypothesis. Since we are testing a fair coin, the expected frequency for heads and tails would be 50 each.\n",
    "\n",
    "3.Calculate the chi-square test statistic using the formula:\n",
    "X^2 = Σ (Oi - Ei)^2 / Ei\n",
    "where Oi is the observed frequency for outcome i, Ei is the expected frequency for outcome i, and the summation is taken over all outcomes.\n",
    "\n",
    "4.Determine the degrees of freedom (df) for the test. For a goodness of fit test with two outcomes, df = 1.\n",
    "\n",
    "5.Determine the critical value of chi-square for the given significance level and degrees of freedom. For a significance level of 0.05 and df = 1, the critical value is 3.84.\n",
    "\n",
    "6.Compare the calculated chi-square test statistic with the critical value. If the calculated value is greater than the critical value, reject the null hypothesis. Otherwise, fail to reject the null hypothesis.\n",
    "\n",
    "Using the given data, we can calculate the chi-square test statistic as follows:\n",
    "\n",
    "O1 = 45 (tails), O2 = 55 (heads)\n",
    "\n",
    "E1 = 50, E2 = 50\n",
    "\n",
    "X^2 = [(45-50)^2/50] + [(55-50)^2/50] = 1\n",
    "\n",
    "df = 1\n",
    "\n",
    "The calculated chi-square test statistic is 1. The critical value of chi-square for a significance level of 0.05 and df = 1 is 3.84. Since the calculated value is less than the critical value, we fail to reject the null hypothesis. Therefore, we do not have enough evidence to conclude that the coin is biased towards tails.\n",
    "\n",
    "We can also conduct this test using Python. Here's an example code:"
   ]
  },
  {
   "cell_type": "code",
   "execution_count": 8,
   "id": "70bd02e9-b381-4e31-b379-4c389ac858a2",
   "metadata": {},
   "outputs": [
    {
     "name": "stdout",
     "output_type": "stream",
     "text": [
      "Chi-square test statistic: 1.0\n",
      "Degrees of freedom: 1\n",
      "p-value: 0.31731050786291415\n",
      "Critical value: 3.841458820694124\n",
      "Fail to reject null hypothesis\n"
     ]
    }
   ],
   "source": [
    "import numpy as np\n",
    "from scipy.stats import chi2\n",
    "\n",
    "# observed frequencies\n",
    "obs = np.array([45, 55])\n",
    "\n",
    "# expected frequencies under null hypothesis\n",
    "exp = np.array([50, 50])\n",
    "\n",
    "# calculate chi-square test statistic\n",
    "chi2_stat = np.sum((obs - exp)**2 / exp)\n",
    "\n",
    "# degrees of freedom\n",
    "df = len(obs) - 1\n",
    "\n",
    "# calculate p-value\n",
    "p_value = 1 - chi2.cdf(chi2_stat, df)\n",
    "\n",
    "# calculate critical value for given significance level and degrees of freedom\n",
    "alpha = 0.05\n",
    "crit_value = chi2.ppf(1 - alpha, df)\n",
    "\n",
    "# print results\n",
    "print(\"Chi-square test statistic:\", chi2_stat)\n",
    "print(\"Degrees of freedom:\", df)\n",
    "print(\"p-value:\", p_value)\n",
    "print(\"Critical value:\", crit_value)\n",
    "\n",
    "if chi2_stat > crit_value:\n",
    "    print(\"Reject null hypothesis\")\n",
    "else:\n",
    "    print(\"Fail to reject null hypothesis\")"
   ]
  },
  {
   "cell_type": "markdown",
   "id": "57c6c9eb-90b2-4712-90fb-2acfb98cbd8b",
   "metadata": {},
   "source": [
    "Therefore, we reach the same conclusion as before: we do not have enough evidence to conclude that the coin is biased towards tails."
   ]
  },
  {
   "cell_type": "markdown",
   "id": "404b7578-e754-41c7-9672-68d20eb8b221",
   "metadata": {},
   "source": [
    "Q9. A study was conducted to determine if there is an association between smoking status (smoker or \n",
    "non-smoker) and lung cancer diagnosis (yes or no). The results are shown in the contingency table below. \n",
    "Conduct a chi-square test for independence to determine if there is a significant association between \n",
    "smoking status and lung cancer diagnosis.\n",
    "\n",
    "          Lung Cancer: Yes    Lung Cancer : No\n",
    "Smoker             60              140\n",
    "Non-smoker         30              170\n",
    "\n",
    "Use a significance level of 0.05."
   ]
  },
  {
   "cell_type": "markdown",
   "id": "c74f2811-6536-4bd0-b006-64977710f8cc",
   "metadata": {},
   "source": [
    "Ans :-\n",
    "To conduct a chi-square test for independence to determine if there is a significant association between smoking status and lung cancer diagnosis using Python, we can use the chi2_contingency function from the scipy.stats module. Here's an example code:"
   ]
  },
  {
   "cell_type": "code",
   "execution_count": 9,
   "id": "9cfb6eb0-18e0-4521-8123-719ffb1165eb",
   "metadata": {},
   "outputs": [
    {
     "name": "stdout",
     "output_type": "stream",
     "text": [
      "Chi-square test statistic: 12.057347670250895\n",
      "Degrees of freedom: 1\n",
      "p-value: 0.0005158863863703744\n",
      "Critical value: 3.841458820694124\n",
      "Reject null hypothesis\n"
     ]
    }
   ],
   "source": [
    "import numpy as np\n",
    "from scipy.stats import chi2_contingency\n",
    "\n",
    "# create contingency table\n",
    "obs = np.array([[60, 140], [30, 170]])\n",
    "\n",
    "# conduct chi-square test\n",
    "chi2_stat, p_value, df, expected = chi2_contingency(obs)\n",
    "\n",
    "# calculate critical value for given significance level and degrees of freedom\n",
    "alpha = 0.05\n",
    "crit_value = chi2.ppf(1 - alpha, df)\n",
    "\n",
    "# print results\n",
    "print(\"Chi-square test statistic:\", chi2_stat)\n",
    "print(\"Degrees of freedom:\", df)\n",
    "print(\"p-value:\", p_value)\n",
    "print(\"Critical value:\", crit_value)\n",
    "\n",
    "if chi2_stat > crit_value:\n",
    "    print(\"Reject null hypothesis\")\n",
    "else:\n",
    "    print(\"Fail to reject null hypothesis\")"
   ]
  },
  {
   "cell_type": "markdown",
   "id": "71fae42d-dcc9-4412-a5b9-a71e049eb592",
   "metadata": {},
   "source": [
    "Therefore, we can conclude that there is a significant association between smoking status and lung cancer diagnosis, since the p-value is less than the significance level of 0.05 and the calculated chi-square test statistic is greater than the critical value."
   ]
  },
  {
   "cell_type": "markdown",
   "id": "ef3a25d7-e385-43c5-8b7e-f9ee8ce55c6e",
   "metadata": {},
   "source": [
    "Q10. A study was conducted to determine if the proportion of people who prefer milk chocolate, dark \n",
    "chocolate, or white chocolate is different in the U.S. versus the U.K. A random sample of 500 people from \n",
    "the U.S. and a random sample of 500 people from the U.K. were surveyed. The results are shown in the \n",
    "contingency table below. Conduct a chi-square test for independence to determine if there is a significant \n",
    "association between chocolate preference and country of origin.\n",
    "\n",
    "              Milk Chocolate   Dark Chocolate  White Chocolate\n",
    "U.S. (n=500)       200              150            150\n",
    "U.K. (n=500)       225              175            100\n",
    "\n",
    "Use a significance level of 0.01."
   ]
  },
  {
   "cell_type": "markdown",
   "id": "0ed701ab-0856-4a0e-a4b2-68e515c913ec",
   "metadata": {},
   "source": [
    "Ans :-\n",
    "To conduct a chi-square test for independence to determine if there is a significant association between chocolate preference and country of origin using Python, we can use the chi2_contingency function from the scipy.stats module. Here's an example code:"
   ]
  },
  {
   "cell_type": "code",
   "execution_count": 10,
   "id": "49acea0f-61df-4035-81f6-aff0a37d94b9",
   "metadata": {},
   "outputs": [
    {
     "name": "stdout",
     "output_type": "stream",
     "text": [
      "Chi-square test statistic: 13.393665158371041\n",
      "Degrees of freedom: 2\n",
      "p-value: 0.0012348168997745918\n",
      "Critical value: 9.21034037197618\n",
      "Reject null hypothesis\n"
     ]
    }
   ],
   "source": [
    "import numpy as np\n",
    "from scipy.stats import chi2_contingency\n",
    "\n",
    "# create contingency table\n",
    "obs = np.array([[200, 150, 150], [225, 175, 100]])\n",
    "\n",
    "# conduct chi-square test\n",
    "chi2_stat, p_value, df, expected = chi2_contingency(obs)\n",
    "\n",
    "# calculate critical value for given significance level and degrees of freedom\n",
    "alpha = 0.01\n",
    "crit_value = chi2.ppf(1 - alpha, df)\n",
    "\n",
    "# print results\n",
    "print(\"Chi-square test statistic:\", chi2_stat)\n",
    "print(\"Degrees of freedom:\", df)\n",
    "print(\"p-value:\", p_value)\n",
    "print(\"Critical value:\", crit_value)\n",
    "\n",
    "if chi2_stat > crit_value:\n",
    "    print(\"Reject null hypothesis\")\n",
    "else:\n",
    "    print(\"Fail to reject null hypothesis\")"
   ]
  },
  {
   "cell_type": "markdown",
   "id": "875b39fe-0083-42d9-801a-e1c8206ae2b2",
   "metadata": {},
   "source": [
    "Therefore, we can conclude that there is a significant association between chocolate preference and country of origin, since the p-value is less than the significance level of 0.01 and the calculated chi-square test statistic is greater than the critical value."
   ]
  },
  {
   "cell_type": "markdown",
   "id": "71ec2709-ea9b-41a5-9df7-9ed7e82291bd",
   "metadata": {},
   "source": [
    "Q11. A random sample of 30 people was selected from a population with an unknown mean and standard \n",
    "deviation. The sample mean was found to be 72 and the sample standard deviation was found to be 10. \n",
    "Conduct a hypothesis test to determine if the population mean is significantly different from 70. Use a \n",
    "significance level of 0.05"
   ]
  },
  {
   "cell_type": "markdown",
   "id": "cba9346b-c8dd-452a-b552-3ec2e3fab116",
   "metadata": {},
   "source": [
    "Ans :-\n",
    "To conduct a hypothesis test to determine if the population mean is significantly different from 70 given a random sample of 30 people with a sample mean of 72 and a sample standard deviation of 10, we can use a t-test since the population standard deviation is unknown. Here are the steps to conduct the hypothesis test:\n",
    "\n",
    "1.State the null and alternative hypotheses:\n",
    "\n",
    "Null hypothesis (H0): The population mean is equal to 70.\n",
    "\n",
    "Alternative hypothesis (Ha): The population mean is not equal to 70.\n",
    "\n",
    "2.Determine the level of significance. The significance level is given as 0.05.\n",
    "\n",
    "3.Calculate the t-test statistic using the formula:\n",
    "   t = (x̄ - μ) / (s / sqrt(n))\n",
    "where x̄ is the sample mean, μ is the hypothesized population mean, s is the sample standard deviation, and n is the sample size.\n",
    "Determine the degrees of freedom (df) for the test. df = n - 1.\n",
    "\n",
    "4.Determine the critical value of t for the given significance level and degrees of freedom. For a two-tailed test with df = 29 and a significance level of 0.05, the critical values are -2.045 and 2.045.\n",
    "\n",
    "5.Compare the calculated t-test statistic with the critical values. If the calculated value is outside the critical values, reject the null hypothesis. Otherwise, fail to reject the null hypothesis.\n",
    "\n",
    "Using the given data, we can calculate the t-test statistic as follows:\n",
    "\n",
    "x̄ = 72, μ = 70, s = 10, n = 30\n",
    "\n",
    "t = (72 - 70) / (10 / sqrt(30)) = 1.414\n",
    "\n",
    "df = 29\n",
    "\n",
    "The calculated t-test statistic is 1.414. The critical values for a two-tailed test with df = 29 and a significance level of 0.05 are -2.045 and 2.045. Since the calculated value is within the critical values, we fail to reject the null hypothesis. Therefore, we do not have enough evidence to conclude that the population mean is significantly different from 70.\n",
    "\n",
    "We can also conduct this test using Python. Here's an example code:"
   ]
  },
  {
   "cell_type": "code",
   "execution_count": 11,
   "id": "fa4985e6-f6bf-4b77-88a8-09e76e48c837",
   "metadata": {},
   "outputs": [
    {
     "name": "stdout",
     "output_type": "stream",
     "text": [
      "t-test statistic: 1.0954451150103321\n",
      "p-value: 0.2823362372860698\n",
      "Critical values: -2.045229642132703 2.045229642132703\n",
      "Fail to reject null hypothesis\n"
     ]
    }
   ],
   "source": [
    "import numpy as np\n",
    "from scipy.stats import t\n",
    "\n",
    "# given data\n",
    "x_bar = 72\n",
    "mu = 70\n",
    "s = 10\n",
    "n = 30\n",
    "alpha = 0.05\n",
    "\n",
    "# calculate t-test statistic\n",
    "t_stat = (x_bar - mu) / (s / np.sqrt(n))\n",
    "\n",
    "# calculate p-value\n",
    "p_value = 2 * (1 - t.cdf(abs(t_stat), n - 1))\n",
    "\n",
    "# calculate critical values for given significance level and degrees of freedom\n",
    "crit_value = t.ppf(1 - alpha/2, n - 1)\n",
    "\n",
    "# print results\n",
    "print(\"t-test statistic:\", t_stat)\n",
    "print(\"p-value:\", p_value)\n",
    "print(\"Critical values:\", -crit_value, crit_value)\n",
    "\n",
    "if abs(t_stat) > crit_value:\n",
    "    print(\"Reject null hypothesis\")\n",
    "else:\n",
    "    print(\"Fail to reject null hypothesis\")"
   ]
  },
  {
   "cell_type": "markdown",
   "id": "c1a18c43-09fa-497e-9aec-cc1d3deab487",
   "metadata": {},
   "source": [
    "Therefore, we reach the same conclusion as before: we do not have enough evidence to conclude that the population mean is significantly different from 70."
   ]
  }
 ],
 "metadata": {
  "kernelspec": {
   "display_name": "Python 3 (ipykernel)",
   "language": "python",
   "name": "python3"
  },
  "language_info": {
   "codemirror_mode": {
    "name": "ipython",
    "version": 3
   },
   "file_extension": ".py",
   "mimetype": "text/x-python",
   "name": "python",
   "nbconvert_exporter": "python",
   "pygments_lexer": "ipython3",
   "version": "3.10.8"
  }
 },
 "nbformat": 4,
 "nbformat_minor": 5
}
