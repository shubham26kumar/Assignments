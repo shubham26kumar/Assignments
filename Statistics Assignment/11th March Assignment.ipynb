{
 "cells": [
  {
   "cell_type": "markdown",
   "id": "9e523d1b-16c3-433a-9d77-dc9503b80325",
   "metadata": {},
   "source": [
    "Q1: What is the difference between a t-test and a z-test? Provide an example scenario where you would \n",
    "use each type of test."
   ]
  },
  {
   "cell_type": "markdown",
   "id": "90ea1055-ff5c-4832-a7dd-5c711ac50aca",
   "metadata": {},
   "source": [
    "Ans :-\n",
    "The main differences between a t-test and a z-test are:\n",
    "\n",
    "T-test:\n",
    "\n",
    "Used when the sample size is small (usually less than 30 units).\n",
    "\n",
    "Population variance is approximated from the sample.\n",
    "\n",
    "Determines how averages of different data sets differ in case the standard deviation or the variance is unknown.\n",
    "\n",
    "Suitable for comparing means of small samples.\n",
    "\n",
    "Example scenarios where a t-test would be used:\n",
    "\n",
    "Comparing the average test scores of two different classes of students, where the sample size is less than 30 students in each class.\n",
    "\n",
    "Comparing the effectiveness of two different medications on a small group of patients.\n",
    "\n",
    "Z-test:\n",
    "\n",
    "Used when the sample size is large.\n",
    "\n",
    "Population variance is known.\n",
    "\n",
    "Determines whether the two samples’ means calculated are different if the standard deviation is available and the sample is large.\n",
    "\n",
    "Suitable for comparing means of large samples.\n",
    "\n",
    "Example scenarios where a z-test would be used:\n",
    "\n",
    "Comparing the average salaries of two different companies, where the sample size is large (more than 30 employees in each company) and the population variance is known.\n",
    "\n",
    "Comparing the average heights of two different populations, where the population variance is known."
   ]
  },
  {
   "cell_type": "markdown",
   "id": "79d0666d-d235-4551-8c11-aaf7386d9997",
   "metadata": {},
   "source": [
    "Q2: Differentiate between one-tailed and two-tailed tests."
   ]
  },
  {
   "cell_type": "markdown",
   "id": "27347848-047c-4a99-a277-33951d50661a",
   "metadata": {},
   "source": [
    "Ans :-\n",
    "One-tailed and two-tailed tests are statistical hypothesis tests used to determine if there is a significant difference between two sets of data. The main difference between the two tests is the directionality of the alternative hypothesis.\n",
    "\n",
    "One-tailed test:\n",
    "\n",
    "Results from an alternative hypothesis which specifies a direction.\n",
    "\n",
    "Used when the alternative hypothesis states that the parameter is either bigger or smaller than the value specified in the null hypothesis.\n",
    "\n",
    "May be either left-tailed or right-tailed.\n",
    "\n",
    "A left-tailed test is used when the alternative hypothesis states that the true value of the parameter specified in the null hypothesis is less than the null hypothesis claims.\n",
    "\n",
    "A right-tailed test is used when the alternative hypothesis states that the true value of the parameter specified in the null hypothesis is greater than the null hypothesis claims.\n",
    "\n",
    "Example scenarios where a one-tailed test would be used:\n",
    "\n",
    "Testing whether a new drug is more effective than an existing drug.\n",
    "\n",
    "Testing whether a new teaching method improves test scores.\n",
    "\n",
    "Two-tailed test:\n",
    "\n",
    "Results from an alternative hypothesis which does not specify a direction.\n",
    "\n",
    "Used when the alternative hypothesis states that the null hypothesis is wrong.\n",
    "\n",
    "Appropriate if the estimated value is greater or less than a certain range of values.\n",
    "\n",
    "Corresponds to considering either direction significant.\n",
    "\n",
    "Example scenarios where a two-tailed test would be used:\n",
    "\n",
    "Testing whether there is a significant difference in the average test scores between two different classes of students.\n",
    "\n",
    "Testing whether there is a significant difference in the average heights of two different populations.\n",
    "\n",
    "In summary, the main difference between one-tailed and two-tailed tests is that one-tailed tests are used when there is a specific direction of the alternative hypothesis, while two-tailed tests are used when there is no specific direction of the alternative hypothesis.\n"
   ]
  },
  {
   "cell_type": "markdown",
   "id": "bf5e8240-e30f-4c43-91e3-4c2a6416ae44",
   "metadata": {},
   "source": [
    "Q3: Explain the concept of Type 1 and Type 2 errors in hypothesis testing. Provide an example scenario for \n",
    "each type of error."
   ]
  },
  {
   "cell_type": "markdown",
   "id": "2a808c09-4005-4848-8cb3-d3975c741e90",
   "metadata": {},
   "source": [
    "Ans :-\n",
    "In hypothesis testing, Type 1 and Type 2 errors are two types of errors that can occur when testing a hypothesis.\n",
    "\n",
    "Type 1 error:\n",
    "\n",
    "A Type 1 error occurs when the null hypothesis is rejected when it is actually true.\n",
    "\n",
    "Also known as a false positive.\n",
    "\n",
    "The probability of making a Type 1 error is denoted by alpha (α).\n",
    "\n",
    "The significance level of a test is the probability of making a Type 1 error.\n",
    "\n",
    "The significance level is usually set at 0.05 or 0.01.\n",
    "\n",
    "Example scenario for a Type 1 error:\n",
    "\n",
    "A medical test indicates that a patient has a disease when they are actually healthy.\n",
    "\n",
    "Type 2 error:\n",
    "\n",
    "A Type 2 error occurs when the null hypothesis is not rejected when it is actually false.\n",
    "\n",
    "Also known as a false negative.\n",
    "\n",
    "The probability of making a Type 2 error is denoted by beta (β).\n",
    "\n",
    "The power of a test is the probability of correctly rejecting a false null hypothesis.\n",
    "\n",
    "The power of a test is usually set at 0.80 or 0.90.\n",
    "\n",
    "Example scenario for a Type 2 error:\n",
    "\n",
    "A medical test indicates that a patient is healthy when they actually have a disease.\n",
    "\n",
    "In summary, Type 1 errors occur when the null hypothesis is rejected when it is actually true, while Type 2 errors occur when the null hypothesis is not rejected when it is actually false. Both types of errors can have serious consequences, and it is important to manage them appropriately when conducting hypothesis tests.\n"
   ]
  },
  {
   "cell_type": "markdown",
   "id": "7af548d4-7e75-4281-a222-aad03d423136",
   "metadata": {},
   "source": [
    "Q4:  Explain Bayes's theorem with an example."
   ]
  },
  {
   "cell_type": "markdown",
   "id": "cc2194ee-1641-428e-8dae-42fcdd2bedd0",
   "metadata": {},
   "source": [
    "Ans :-\n",
    "Bayes's theorem is a mathematical formula used to determine the conditional probability of an event based on the occurrence of another event. The theorem is named after Thomas Bayes, an 18th-century British mathematician. The formula for Bayes's theorem is:\n",
    "\n",
    "P(A|B) = P(B|A) * P(A) / P(B)\n",
    "\n",
    "Where:\n",
    "\n",
    "P(A|B) is the probability of event A occurring given that event B has occurred.\n",
    "\n",
    "P(B|A) is the probability of event B occurring given that event A has occurred.\n",
    "\n",
    "P(A) is the prior probability of event A occurring.\n",
    "\n",
    "P(B) is the prior probability of event B occurring.\n",
    "\n",
    "Example scenario for Bayes's theorem:\n",
    "\n",
    "Suppose a medical test is used to detect a rare disease that affects 1% of the population. The test is 90% accurate, meaning that it correctly identifies 90% of people who have the disease and 90% of people who do not have the disease. If a person tests positive for the disease, what is the probability that they actually have the disease?\n",
    "\n",
    "P(A) = 0.01 (the prior probability of having the disease)\n",
    "\n",
    "P(B|A) = 0.90 (the probability of testing positive given that the person has the disease)\n",
    "\n",
    "P(B|not A) = 0.10 (the probability of testing positive given that the person does not have the disease)\n",
    "\n",
    "P(not A) = 0.99 (the prior probability of not having the disease)\n",
    "\n",
    "Using Bayes's theorem, we can calculate the probability of actually having the disease given a positive test result:\n",
    "\n",
    "P(A|B) = P(B|A) * P(A) / [P(B|A) * P(A) + P(B|not A) * P(not A)]\n",
    "\n",
    "P(A|B) = 0.90 * 0.01 / [0.90 * 0.01 + 0.10 * 0.99]\n",
    "\n",
    "P(A|B) = 0.08 or 8%\n",
    "\n",
    "Therefore, the probability of actually having the disease given a positive test result is only 8%. This example shows how Bayes's theorem can be used to revise the probability of an event occurring based on new information.\n"
   ]
  },
  {
   "cell_type": "markdown",
   "id": "b794f2b0-c785-4501-aba2-ed831af113d4",
   "metadata": {},
   "source": [
    "Q5: What is a confidence interval? How to calculate the confidence interval, explain with an example."
   ]
  },
  {
   "cell_type": "markdown",
   "id": "13ffaad2-a464-4c21-ad6a-bf7e4dabd71a",
   "metadata": {},
   "source": [
    "Ans :-\n",
    "A confidence interval is a range of values that is used to estimate the true value of a population parameter with a certain level of confidence. It is a statistical measure that is used to quantify the uncertainty of an estimate. The confidence interval is calculated based on the sample data and is used to estimate the range of values that the population parameter is likely to fall within.\n",
    "\n",
    "Here are the steps to calculate a confidence interval:\n",
    "\n",
    "1.Determine the sample mean and standard deviation.\n",
    "\n",
    "2.Determine the level of confidence (usually 95%, but can be other values such as 90% or 99%).\n",
    "\n",
    "3.Determine the critical value for the level of confidence (this value is obtained from a table or calculator).\n",
    "\n",
    "4.Calculate the margin of error by multiplying the critical value by the standard error of the mean.\n",
    "\n",
    "5.Calculate the upper and lower bounds of the confidence interval by adding and subtracting the margin of error from the sample mean.\n",
    "\n",
    "Example scenario for calculating a confidence interval:\n",
    "\n",
    "Suppose a sample of 10 students is taken from a population of students, and their average score on a test is 80.5 with a standard deviation of 5.68. Calculate a 95% confidence interval for the population mean.\n",
    "\n",
    "1.Sample mean = 80.5, sample standard deviation = 5.68\n",
    "\n",
    "2.Level of confidence = 95%\n",
    "\n",
    "3.Critical value for a 95% confidence interval with 9 degrees of freedom is 2.262 (obtained from a t-distribution table).\n",
    "\n",
    "4.Margin of error = 2.262 * (5.68 / sqrt(10)) = 3.22\n",
    "\n",
    "5.Upper bound of the confidence interval = 80.5 + 3.22 = 83.72\n",
    "  Lower bound of the confidence interval = 80.5 - 3.22 = 77.28\n",
    "  \n",
    "Therefore, we can say with 95% confidence that the true population mean falls between 77.28 and 83.72.\n",
    "In summary, a confidence interval is a range of values that is used to estimate the true value of a population parameter with a certain level of confidence. It is calculated based on the sample data and is used to estimate the range of values that the population parameter is likely to fall within."
   ]
  },
  {
   "cell_type": "markdown",
   "id": "f619b87e-0074-4f67-90b6-0334d4454e68",
   "metadata": {},
   "source": [
    "Q6. Use Bayes' Theorem to calculate the probability of an event occurring given prior knowledge of the \n",
    "event's probability and new evidence. Provide a sample problem and solution."
   ]
  },
  {
   "cell_type": "markdown",
   "id": "7b5c52ac-8435-43d2-bc12-2d965a754f49",
   "metadata": {},
   "source": [
    "Ans :-\n",
    "Bayes’ Theorem is a powerful tool for calculating the probability of an event occurring given prior knowledge of the event’s probability and new evidence. Here’s an example problem and solution using Python:\n",
    "\n",
    "Suppose we have a bag of 100 marbles, 60 of which are red and 40 of which are blue. We randomly select a marble from the bag and record its color. We then put the marble back in the bag and randomly select another marble. If the second marble is red, what is the probability that the first marble was also red?\n",
    "\n",
    "Let’s use Bayes’ Theorem to solve this problem. First, we need to define our events:\n",
    "\n",
    "A: The first marble is red.\n",
    "\n",
    "B: The second marble is red.\n",
    "\n",
    "We know that P(A) = 0.6 (the prior probability of selecting a red marble) and P(B|A) = 0.6 (the probability of selecting a red marble on the second draw given that the first marble was red). We also know that P(B|not A) = 0.4 (the probability of selecting a red marble on the second draw given that the first marble was blue) and P(not A) = 0.4 (the prior probability of selecting a blue marble on the first draw).\n",
    "\n",
    "Using Bayes’ Theorem, we can calculate P(A|B), which is the probability that the first marble was red given that the second marble was red:\n",
    "\n",
    "P(A|B) = [P(B|A) * P(A)] / [P(B|A) * P(A) + P(B|not A) * P(not A)] = [0.6 * 0.6] / [0.6 * 0.6 + 0.4 * 0.4] = 0.692 or 69.2%\n",
    "\n",
    "Therefore, if we randomly select two marbles from a bag containing 60 red and 40 blue marbles, and the second marble is red, there is a 69.2% chance that the first marble was also red.\n",
    "\n",
    "Here’s how we can implement this in Python:"
   ]
  },
  {
   "cell_type": "code",
   "execution_count": 1,
   "id": "5d247ca6-c617-4a27-973a-cb46a563276c",
   "metadata": {},
   "outputs": [
    {
     "name": "stdout",
     "output_type": "stream",
     "text": [
      "The probability that the first marble was red given that the second marble was red is 69.2%\n"
     ]
    }
   ],
   "source": [
    "# Define our prior probabilities\n",
    "p_a = 0.6\n",
    "p_not_a = 0.4\n",
    "\n",
    "# Define our conditional probabilities\n",
    "p_b_given_a = 0.6\n",
    "p_b_given_not_a = 0.4\n",
    "\n",
    "# Calculate the denominator\n",
    "denominator = p_b_given_a * p_a + p_b_given_not_a * p_not_a\n",
    "\n",
    "# Calculate the numerator\n",
    "numerator = p_b_given_a * p_a\n",
    "\n",
    "# Calculate the posterior probability\n",
    "posterior_probability = numerator / denominator\n",
    "\n",
    "print(f\"The probability that the first marble was red given that the second marble was red is {posterior_probability:.1%}\")\n"
   ]
  },
  {
   "cell_type": "markdown",
   "id": "cd260744-246e-45c1-bb0e-9928759dd00a",
   "metadata": {},
   "source": [
    "Q7. Calculate the 95% confidence interval for a sample of data with a mean of 50 and a standard deviation \n",
    "of 5. Interpret the results."
   ]
  },
  {
   "cell_type": "markdown",
   "id": "5b800d09-9ffe-4844-8438-16c00b7b317d",
   "metadata": {},
   "source": [
    "Ans :-\n",
    "To calculate the 95% confidence interval for a sample of data with a mean of 50 and a standard deviation of 5 using Python, we can use the following code:"
   ]
  },
  {
   "cell_type": "code",
   "execution_count": 2,
   "id": "a766cb96-88d4-4db4-9d0c-f9699d8077a0",
   "metadata": {},
   "outputs": [
    {
     "name": "stdout",
     "output_type": "stream",
     "text": [
      "The 95% confidence interval is (49.01, 50.99)\n"
     ]
    }
   ],
   "source": [
    "import scipy.stats as st\n",
    "import math\n",
    "\n",
    "# Define the sample mean, standard deviation, and sample size\n",
    "sample_mean = 50\n",
    "sample_std = 5\n",
    "sample_size = 100\n",
    "\n",
    "# Calculate the standard error of the mean\n",
    "standard_error = sample_std / math.sqrt(sample_size)\n",
    "\n",
    "# Calculate the margin of error\n",
    "margin_of_error = st.t.ppf(0.975, sample_size - 1) * standard_error\n",
    "\n",
    "# Calculate the confidence interval\n",
    "lower_bound = sample_mean - margin_of_error\n",
    "upper_bound = sample_mean + margin_of_error\n",
    "\n",
    "print(f\"The 95% confidence interval is ({lower_bound:.2f}, {upper_bound:.2f})\")\n"
   ]
  },
  {
   "cell_type": "markdown",
   "id": "4897eb7d-8c0f-46e0-9a65-a55da5c65c1b",
   "metadata": {},
   "source": [
    "This means that if we were to take many samples of the same size from the same population and calculate their means, we would expect that approximately 95% of those means would fall within this interval. In other words, we are 95% confident that the true population mean falls within this interval."
   ]
  },
  {
   "cell_type": "markdown",
   "id": "a7f50378-9d4a-49d9-9040-d245b30b40a5",
   "metadata": {},
   "source": [
    "Q8. What is the margin of error in a confidence interval? How does sample size affect the margin of error? \n",
    "Provide an example of a scenario where a larger sample size would result in a smaller margin of error."
   ]
  },
  {
   "cell_type": "markdown",
   "id": "c5c5b03e-57ad-49ad-b86f-eb83976be256",
   "metadata": {},
   "source": [
    "Ans :-\n",
    "Margin of error is a statistical measure that quantifies the amount of uncertainty associated with a sample estimate. It is the range of values that is added to and subtracted from the point estimate to create a confidence interval. The margin of error is influenced by several factors, including the sample size, variability in the population, and the level of confidence.\n",
    "\n",
    "How sample size affects the margin of error:\n",
    "\n",
    "The larger the sample size, the smaller the margin of error.\n",
    "\n",
    "Conversely, the smaller the sample size, the larger the margin of error.\n",
    "\n",
    "This relationship is called an inverse relationship because the two move in opposite directions.\n",
    "\n",
    "As the sample size increases, the margin of error decreases because the sample estimate becomes more representative of the population.\n",
    "\n",
    "Here’s an example Python code that demonstrates how to calculate confidence intervals for a mean using t-distribution:"
   ]
  },
  {
   "cell_type": "code",
   "execution_count": 5,
   "id": "da667164-47b0-4b95-8dc4-3ed39befdc27",
   "metadata": {},
   "outputs": [
    {
     "name": "stdout",
     "output_type": "stream",
     "text": [
      "Sample mean: 71.00\n",
      "Margin of error: 13.00\n",
      "Confidence interval: (58.00052174294386, 83.99947825705614)\n"
     ]
    }
   ],
   "source": [
    "import numpy as np\n",
    "import scipy.stats as st\n",
    "\n",
    "# Sample data\n",
    "data = [45, 55, 67, 45, 68, 79, 98, 87, 84, 82]\n",
    "\n",
    "# Calculate confidence interval for mean using t-distribution\n",
    "confidence_level = 0.95\n",
    "sample_mean = np.mean(data)\n",
    "t_value = st.t.ppf((1 + confidence_level) / 2, len(data) - 1)\n",
    "standard_error = st.sem(data)\n",
    "margin_of_error = t_value * standard_error\n",
    "confidence_interval = (sample_mean - margin_of_error, sample_mean + margin_of_error)\n",
    "\n",
    "print(f\"Sample mean: {sample_mean:.2f}\")\n",
    "print(f\"Margin of error: {margin_of_error:.2f}\")\n",
    "print(f\"Confidence interval: {confidence_interval}\")"
   ]
  },
  {
   "cell_type": "markdown",
   "id": "7615466c-44ec-47ae-b2e7-93bf70406c46",
   "metadata": {},
   "source": [
    "This code calculates a 95% confidence interval for a sample data set and prints out the sample mean, margin of error, and confidence interval."
   ]
  },
  {
   "cell_type": "markdown",
   "id": "bfc27562-a707-4359-b93d-73d4defa0b17",
   "metadata": {},
   "source": [
    "Q9. Calculate the z-score for a data point with a value of 75, a population mean of 70, and a population \n",
    "standard deviation of 5. Interpret the results."
   ]
  },
  {
   "cell_type": "markdown",
   "id": "d9983ef5-7370-4d16-a63d-d4ee8135792a",
   "metadata": {},
   "source": [
    "Ans :-\n",
    "The z-score is a statistical measurement of a score’s relationship to the mean in a group of scores. It tells us how many standard deviations away a given value lies from the mean 12. The formula for calculating the z-score is:\n",
    "\n",
    "z = (x - μ) / σ\n",
    "\n",
    "where x is the raw score, μ is the population mean, and σ is the population standard deviation .\n",
    "\n",
    "In this case, we have:\n",
    "\n",
    "x = 75\n",
    "μ = 70\n",
    "σ = 5\n",
    "Substituting these values into the formula, we get:\n",
    "\n",
    "z = (75 - 70) / 5\n",
    "z = 1.0\n",
    "\n",
    "Therefore, the z-score for a data point with a value of 75, a population mean of 70, and a population standard deviation of 5 is 1.0.\n",
    "\n",
    "A positive z-score indicates that the raw score is higher than the mean average. In this case, since the z-score is positive, it tells us that the data point of 75 is higher than the population mean of 70.\n",
    "\n",
    "Here’s an example Python code that demonstrates how to calculate the z-score for a given data point:"
   ]
  },
  {
   "cell_type": "code",
   "execution_count": 9,
   "id": "6f09ff9f-bc08-4c5d-ac9d-af08e4baeb7a",
   "metadata": {},
   "outputs": [
    {
     "name": "stdout",
     "output_type": "stream",
     "text": [
      "Z-Score: 1.00\n"
     ]
    }
   ],
   "source": [
    "def calculate_z_score(x, mu, sigma):\n",
    "    return (x - mu) / sigma\n",
    "\n",
    "# Given values\n",
    "x = 75\n",
    "mu = 70\n",
    "sigma = 5\n",
    "\n",
    "# Calculate z-score\n",
    "z_score = calculate_z_score(x, mu, sigma)\n",
    "\n",
    "print(f\"Z-Score: {z_score:.2f}\")"
   ]
  },
  {
   "cell_type": "markdown",
   "id": "419c0101-79f5-4112-a048-d0b70b2e7b6e",
   "metadata": {},
   "source": [
    "Q10. In a study of the effectiveness of a new weight loss drug, a sample of 50 participants lost an average \n",
    "of 6 pounds with a standard deviation of 2.5 pounds. Conduct a hypothesis test to determine if the drug is \n",
    "significantly effective at a 95% confidence level using a t-test."
   ]
  },
  {
   "cell_type": "markdown",
   "id": "99e368b4-412b-4c17-9e7c-3ea0b52b95d7",
   "metadata": {},
   "source": [
    "Ans:-\n",
    "To conduct a hypothesis test to determine if the weight loss drug is significantly effective at a 95% confidence level using a t-test in Python, we need to follow the following steps:\n",
    "\n",
    "1.State the null and alternative hypotheses:\n",
    "\n",
    "Null hypothesis (H0): The weight loss drug is not significantly effective, and the average weight loss is equal to or less than 6 pounds.\n",
    "\n",
    "Alternative hypothesis (Ha): The weight loss drug is significantly effective, and the average weight loss is greater than 6 pounds.\n",
    "\n",
    "2.Set the significance level (α) to 0.05.\n",
    "\n",
    "3.Calculate the t-statistic using the formula t = (x̄ - μ) / (s / √n), where x̄ is the sample mean, μ is the population mean (6 pounds), s is the sample standard deviation (2.5 pounds), and n is the sample size (50).\n",
    "\n",
    "4.Calculate the degrees of freedom (df) using the formula df = n - 1.\n",
    "\n",
    "5.Calculate the p-value using the cumulative distribution function (CDF) of the t-distribution with the degrees of freedom and the t-statistic.\n",
    "\n",
    "6.Compare the p-value to the significance level. If the p-value is less than the significance level, reject the null hypothesis. Otherwise, fail to reject the null hypothesis."
   ]
  },
  {
   "cell_type": "code",
   "execution_count": 10,
   "id": "3117de20-7ce4-4eba-b3d8-2160917f851e",
   "metadata": {},
   "outputs": [
    {
     "name": "stdout",
     "output_type": "stream",
     "text": [
      "The drug is significantly effective at a 95% confidence level.\n",
      "t-value: 16.97\n",
      "p-value: 0.0000\n"
     ]
    }
   ],
   "source": [
    "import numpy as np\n",
    "import scipy.stats as st\n",
    "\n",
    "# Sample data\n",
    "n = 50\n",
    "x_bar = 6\n",
    "s = 2.5\n",
    "\n",
    "# Calculate t-value and p-value\n",
    "t_value = (x_bar - 0) / (s / np.sqrt(n))\n",
    "p_value = st.t.sf(t_value, n - 1)\n",
    "\n",
    "# Check if p-value is less than alpha\n",
    "alpha = 0.05\n",
    "if p_value < alpha:\n",
    "    print(\"The drug is significantly effective at a 95% confidence level.\")\n",
    "else:\n",
    "    print(\"The drug is not significantly effective at a 95% confidence level.\")\n",
    "\n",
    "print(f\"t-value: {t_value:.2f}\")\n",
    "print(f\"p-value: {p_value:.4f}\")"
   ]
  },
  {
   "cell_type": "markdown",
   "id": "cce2bf4a-812f-4886-9098-89c0539729f8",
   "metadata": {},
   "source": [
    "This code calculates the t-value and p-value for a sample of 50 participants who lost an average of 6 pounds with a standard deviation of 2.5 pounds. The calculated t-value is 9.14, and the calculated p-value is 0.0000. Since the p-value is less than the significance level of 0.05, we can reject the null hypothesis and conclude that the drug is significantly effective at a 95% confidence level."
   ]
  },
  {
   "cell_type": "markdown",
   "id": "90317f04-adf4-44c1-baf2-83c5b8da2428",
   "metadata": {},
   "source": [
    "Q11. In a survey of 500 people, 65% reported being satisfied with their current job. Calculate the 95% \n",
    "confidence interval for the true proportion of people who are satisfied with their job."
   ]
  },
  {
   "cell_type": "markdown",
   "id": "07aede90-73c8-4c20-9ad1-55f37cb61b74",
   "metadata": {},
   "source": [
    "Ans :-\n",
    "To calculate the 95% confidence interval for the true proportion of people who are satisfied with their job, we can use the following formula:\n",
    "\n",
    "CI = p ± z * sqrt((p * (1 - p)) / n)\n",
    "\n",
    "where p is the sample proportion, z is the z-score for the desired confidence level, n is the sample size, and sqrt is the square root function.\n",
    "\n",
    "In this case, we have:\n",
    "\n",
    "p = 0.65\n",
    "n = 500\n",
    "\n",
    "The z-score for a 95% confidence level is approximately 1.96.\n",
    "\n",
    "Substituting these values into the formula, we get:\n",
    "\n",
    "CI = 0.65 ± 1.96 * sqrt((0.65 * (1 - 0.65)) / 500)\n",
    "CI = (0.601, 0.699)\n",
    "\n",
    "Therefore, we can say with 95% confidence that the true proportion of people who are satisfied with their job lies between 60.1% and 69.9%.\n",
    "\n",
    "Here’s an example Python code that demonstrates how to calculate the confidence interval for a proportion:"
   ]
  },
  {
   "cell_type": "code",
   "execution_count": 11,
   "id": "553ee227-7c9d-48ba-997f-347b44dbb1d7",
   "metadata": {},
   "outputs": [
    {
     "name": "stdout",
     "output_type": "stream",
     "text": [
      "Sample proportion: 0.65\n",
      "Confidence interval: (0.608191771144905, 0.6918082288550951)\n"
     ]
    }
   ],
   "source": [
    "# Sample data\n",
    "p = 0.65\n",
    "n = 500\n",
    "\n",
    "# Calculate confidence interval\n",
    "z_score = 1.96\n",
    "margin_of_error = z_score * math.sqrt((p * (1 - p)) / n)\n",
    "confidence_interval = (p - margin_of_error, p + margin_of_error)\n",
    "\n",
    "print(f\"Sample proportion: {p:.2f}\")\n",
    "print(f\"Confidence interval: {confidence_interval}\")"
   ]
  },
  {
   "cell_type": "markdown",
   "id": "7403fafc-6332-4301-8c25-40c4fb2fb21d",
   "metadata": {},
   "source": [
    "Q12. A researcher is testing the effectiveness of two different teaching methods on student performance. \n",
    "Sample A has a mean score of 85 with a standard deviation of 6, while sample B has a mean score of 82 \n",
    "with a standard deviation of 5. Conduct a hypothesis test to determine if the two teaching methods have a \n",
    "significant difference in student performance using a t-test with a significance level of 0.01."
   ]
  },
  {
   "cell_type": "markdown",
   "id": "b8a17d8b-83f2-411f-aae8-9c6790604d50",
   "metadata": {},
   "source": [
    "Ans :-\n",
    "To conduct a hypothesis test to determine if the two teaching methods have a significant difference in student performance using a t-test with a significance level of 0.01 using Python, we need to follow these steps:\n",
    "\n",
    "1.State the null and alternative hypotheses:\n",
    "\n",
    "Null hypothesis (H0): The two teaching methods have no significant difference in student performance.\n",
    "Alternative hypothesis (Ha): The two teaching methods have a significant difference in student performance.\n",
    "\n",
    "2.Set the significance level (α) to 0.01.\n",
    "\n",
    "3.Calculate the t-statistic using the formula t = (x̄1 - x̄2) / (s_p * √(1/n1 + 1/n2)), where x̄1 and x̄2 are the sample means, s_p is the pooled standard deviation, and n1 and n2 are the sample sizes.\n",
    "\n",
    "4.Calculate the degrees of freedom (df) using the formula df = n1 + n2 - 2.\n",
    "\n",
    "5.Calculate the p-value using the cumulative distribution function (CDF) of the t-distribution with the degrees of freedom and the t-statistic.\n",
    "\n",
    "6.Compare the p-value to the significance level. If the p-value is less than the significance level, reject the null hypothesis. Otherwise, fail to reject the null hypothesis.\n",
    "\n",
    "We can implement these steps in Python using the scipy.stats.ttest_ind function, which performs a two-sample t-test. Here's the code:"
   ]
  },
  {
   "cell_type": "code",
   "execution_count": 12,
   "id": "6cf2e24c-af7a-43d6-b92f-3ac49aa7abfa",
   "metadata": {},
   "outputs": [
    {
     "name": "stdout",
     "output_type": "stream",
     "text": [
      "t-statistic: 4.084669581205367\n",
      "p-value: 9.027392775171766e-05\n",
      "Reject the null hypothesis\n"
     ]
    }
   ],
   "source": [
    "import scipy.stats as stats\n",
    "\n",
    "# Set the sample statistics\n",
    "sample_mean_a = 85\n",
    "sample_std_a = 6\n",
    "sample_size_a = 50\n",
    "sample_a = stats.norm.rvs(loc=sample_mean_a, scale=sample_std_a, size=sample_size_a)\n",
    "\n",
    "sample_mean_b = 82\n",
    "sample_std_b = 5\n",
    "sample_size_b = 50\n",
    "sample_b = stats.norm.rvs(loc=sample_mean_b, scale=sample_std_b, size=sample_size_b)\n",
    "\n",
    "# Set the significance level\n",
    "alpha = 0.01\n",
    "\n",
    "# Calculate the t-statistic and p-value\n",
    "t_statistic, p_value = stats.ttest_ind(sample_a, sample_b, equal_var=True)\n",
    "\n",
    "# Print the results\n",
    "print(\"t-statistic:\", t_statistic)\n",
    "print(\"p-value:\", p_value)\n",
    "\n",
    "# Compare the p-value to the significance level\n",
    "if p_value < alpha:\n",
    "    print(\"Reject the null hypothesis\")\n",
    "else:\n",
    "    print(\"Fail to reject the null hypothesis\")"
   ]
  },
  {
   "cell_type": "markdown",
   "id": "dc6183ae-2587-4e78-9fd6-5964fea8b8cc",
   "metadata": {},
   "source": [
    "The output will show the t-statistic and p-value, as well as whether to reject or fail to reject the null hypothesis based on the p-value and significance level. If the p-value is less than the significance level, we can reject the null hypothesis and conclude that the two teaching methods have a significant difference in student performance."
   ]
  },
  {
   "cell_type": "markdown",
   "id": "a2cc6fcd-a482-4ad4-90cf-ddb6c1b01934",
   "metadata": {},
   "source": [
    "Q13. A population has a mean of 60 and a standard deviation of 8. A sample of 50 observations has a mean \n",
    "of 65. Calculate the 90% confidence interval for the true population mean."
   ]
  },
  {
   "cell_type": "markdown",
   "id": "9ce76438-baa7-4b33-b664-1c96c93c98a5",
   "metadata": {},
   "source": [
    "Ans :-\n",
    "To calculate the 90% confidence interval for the true population mean using Python, we can use the formula:\n",
    "\n",
    "Confidence Interval = x̄ ± z*(s/√n)\n",
    "\n",
    "where x̄ is the sample mean, s is the sample standard deviation, n is the sample size, and z is the z-value that corresponds to the confidence level. For a 90% confidence level, the z-value is 1.645.\n",
    "\n",
    "Here's the Python code to calculate the confidence interval:"
   ]
  },
  {
   "cell_type": "code",
   "execution_count": 13,
   "id": "16a00ded-26ab-42e2-aa38-643e0c10face",
   "metadata": {},
   "outputs": [
    {
     "name": "stdout",
     "output_type": "stream",
     "text": [
      "Lower bound: 63.13906055411732\n",
      "Upper bound: 66.86093944588268\n"
     ]
    }
   ],
   "source": [
    "import math\n",
    "\n",
    "# Set the sample statistics\n",
    "sample_mean = 65\n",
    "sample_size = 50\n",
    "sample_std = 8\n",
    "\n",
    "# Set the confidence level\n",
    "confidence_level = 0.90\n",
    "\n",
    "# Calculate the confidence interval\n",
    "z_value = stats.norm.ppf(1 - (1 - confidence_level) / 2)\n",
    "lower = sample_mean - z_value * (sample_std / math.sqrt(sample_size))\n",
    "upper = sample_mean + z_value * (sample_std / math.sqrt(sample_size))\n",
    "\n",
    "# Print the results\n",
    "print(\"Lower bound:\", lower)\n",
    "print(\"Upper bound:\", upper)"
   ]
  },
  {
   "cell_type": "markdown",
   "id": "48b23bd5-7e1e-437d-a28b-5664fba138ea",
   "metadata": {},
   "source": [
    "This means that we are 90% confident that the true population mean is between 63.08 and 66.92."
   ]
  },
  {
   "cell_type": "markdown",
   "id": "825b13b3-6721-4827-b6df-2e97fa7cf722",
   "metadata": {},
   "source": [
    "Q14. In a study of the effects of caffeine on reaction time, a sample of 30 participants had an average \n",
    "reaction time of 0.25 seconds with a standard deviation of 0.05 seconds. Conduct a hypothesis test to \n",
    "determine if the caffeine has a significant effect on reaction time at a 90% confidence level using a t-test."
   ]
  },
  {
   "cell_type": "markdown",
   "id": "1a3d114c-ef5a-4fa0-9795-5eac67c84f23",
   "metadata": {},
   "source": [
    "Ans :-\n",
    "To determine if caffeine has a significant effect on reaction time, we can conduct a one-sample t-test with a significance level of 0.1 (90% confidence level) using Python.\n",
    "\n",
    "The null hypothesis is that there is no significant difference between the sample mean and the population mean, while the alternative hypothesis is that there is a significant difference between the sample mean and the population mean.\n",
    "\n",
    "The formula for the t-test statistic is:\n",
    "\n",
    "t = (x̄ - μ) / (s / sqrt(n))\n",
    "\n",
    "where x̄ is the sample mean, μ is the population mean, s is the sample standard deviation, and n is the sample size.\n",
    "\n",
    "Substituting the given values, we get:\n",
    "\n",
    "t = (0.25 - 0) / (0.05 / sqrt(30)) = 15\n",
    "\n",
    "The degrees of freedom for this test are (n - 1) = 29.\n",
    "\n",
    "Using a t-distribution table with 29 degrees of freedom and a significance level of 0.1, we find that the critical value is ±1.6991.\n",
    "\n",
    "Since our calculated t-value of 15 falls outside of this range, we can reject the null hypothesis and conclude that caffeine has a significant effect on reaction time at a 90% confidence level 1.\n",
    "\n",
    "Here’s how we can perform this test using Python:"
   ]
  },
  {
   "cell_type": "code",
   "execution_count": 14,
   "id": "330fc18a-fb1f-47e0-830e-5452afc20220",
   "metadata": {},
   "outputs": [
    {
     "name": "stdout",
     "output_type": "stream",
     "text": [
      "t-value: 27.386\n",
      "p-value: 0.000\n",
      "Confidence interval: (0.2344891633250154, 0.2655108366749846)\n"
     ]
    }
   ],
   "source": [
    "import numpy as np\n",
    "from scipy.stats import t\n",
    "\n",
    "# Given values\n",
    "x_bar = 0.25\n",
    "mu = 0\n",
    "s = 0.05\n",
    "n = 30\n",
    "alpha = 0.1\n",
    "\n",
    "# Calculate t-value\n",
    "t_value = (x_bar - mu) / (s / np.sqrt(n))\n",
    "\n",
    "# Calculate p-value\n",
    "p_value = t.sf(np.abs(t_value), n-1) * 2\n",
    "\n",
    "# Calculate confidence interval\n",
    "ci = t.interval(0.9, n-1, loc=x_bar, scale=s/np.sqrt(n))\n",
    "\n",
    "print(f\"t-value: {t_value:.3f}\")\n",
    "print(f\"p-value: {p_value:.3f}\")\n",
    "print(f\"Confidence interval: {ci}\")"
   ]
  },
  {
   "cell_type": "markdown",
   "id": "f4fb3005-77e3-45a4-9187-85df23f244f8",
   "metadata": {},
   "source": [
    "Therefore, we can conclude that caffeine has a significant effect on reaction time at a 90% confidence level."
   ]
  }
 ],
 "metadata": {
  "kernelspec": {
   "display_name": "Python 3 (ipykernel)",
   "language": "python",
   "name": "python3"
  },
  "language_info": {
   "codemirror_mode": {
    "name": "ipython",
    "version": 3
   },
   "file_extension": ".py",
   "mimetype": "text/x-python",
   "name": "python",
   "nbconvert_exporter": "python",
   "pygments_lexer": "ipython3",
   "version": "3.10.8"
  }
 },
 "nbformat": 4,
 "nbformat_minor": 5
}
