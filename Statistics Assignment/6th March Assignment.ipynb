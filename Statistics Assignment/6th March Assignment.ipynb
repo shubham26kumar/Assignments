{
 "cells": [
  {
   "cell_type": "markdown",
   "id": "65633d19-a256-41b8-b867-2e1601f1f694",
   "metadata": {},
   "source": [
    "Q1. What is Statistics?"
   ]
  },
  {
   "cell_type": "markdown",
   "id": "c774e348-9328-4d23-ab66-738905a13a44",
   "metadata": {},
   "source": [
    "Ans :-\n",
    "Statistics refers to the discipline of collecting, analyzing, interpreting, presenting, and organizing data to make informed decisions and draw meaningful conclusions. It involves various methods and techniques for dealing with data, summarizing it, and extracting valuable insights. Statistics plays a crucial role in fields such as science, economics, social sciences, business, and more.\n",
    "\n",
    "The main objectives of statistics include:\n",
    "\n",
    "1.Descriptive Statistics: This involves summarizing and presenting data in a meaningful way. Descriptive statistics include measures like mean (average), median (middle value), mode (most frequent value), standard deviation (measure of data spread), and various graphical representations like histograms, bar charts, and scatter plots.\n",
    "\n",
    "2.Inferential Statistics: This involves making inferences or predictions about a larger population based on a sample of data. It includes hypothesis testing, confidence intervals, and regression analysis, among other techniques.\n",
    "\n",
    "3.Data Collection: Statistics provides methods for designing surveys and experiments to collect data in a systematic and unbiased manner. Proper data collection methods are essential to ensure the accuracy and reliability of the conclusions drawn.\n",
    "\n",
    "4.Data Analysis: Statistical analysis involves using mathematical and computational methods to analyze data and extract meaningful patterns and relationships. This includes identifying trends, correlations, and potential causes and effects within the data.\n",
    "\n",
    "5.Probability Theory: Probability is a fundamental concept in statistics, helping to quantify uncertainty and randomness. It is the foundation of many statistical methods and is used to model uncertainty in various scenarios.\n",
    "\n",
    "6.Decision Making: Statistics assists in making informed decisions by providing insights based on data analysis. It helps in evaluating options, assessing risks, and choosing the most appropriate course of action.\n",
    "\n",
    "7.Quality Control: In various industries, statistics is used to monitor and control the quality of products or processes. Statistical process control techniques help maintain consistent and reliable production.\n",
    "\n",
    "8.Research: In scientific research, statistics aids in drawing conclusions from experimental or observational data, allowing researchers to determine the significance of their findings.\n",
    "\n",
    "In essence, statistics is a powerful tool for transforming data into meaningful information, which in turn guides decision-making, policy formulation, research, and problem-solving across a wide range of disciplines.\n"
   ]
  },
  {
   "cell_type": "markdown",
   "id": "1eb9f127-7686-409b-aa43-ce7426b760b0",
   "metadata": {},
   "source": [
    "Q2. Define the different types of statistics and give an example of when each type might be used."
   ]
  },
  {
   "cell_type": "markdown",
   "id": "bfc212d9-f818-4b62-b14e-71471c29bf05",
   "metadata": {},
   "source": [
    "Ans :-\n",
    "Statistics can be broadly categorized into two main types: descriptive statistics and inferential statistics. Let's define each type and provide examples of when each might be used:\n",
    "\n",
    "1.Descriptive Statistics:\n",
    "Descriptive statistics involves summarizing and presenting data in a meaningful way. It provides a snapshot of the data's main characteristics, such as central tendency, variability, and distribution. This type of statistics is used to describe the data set itself.\n",
    "\n",
    "Example: Imagine a company wants to understand the salary distribution of its employees. They collect salary data for all employees and calculate the mean, median, and standard deviation of the salaries. This gives them an overview of the average salary, the middle salary value, and how spread out the salaries are.\n",
    "\n",
    "2.Inferential Statistics:\n",
    "Inferential statistics involves making inferences or predictions about a larger population based on a sample of data. It is used when researchers want to generalize findings from a sample to a larger population or when making decisions based on data analysis.\n",
    "\n",
    "Example: A pharmaceutical company is testing a new drug for a specific medical condition. They conduct a randomized controlled trial with a sample of patients and compare the effectiveness of the new drug to an existing treatment. By analyzing the trial data, they can make an inference about the effectiveness of the new drug for the larger population of patients with that condition.\n",
    "\n",
    "There are also other types of statistics that can be classified under these main categories:\n",
    "\n",
    "1.Inferential Statistics by Hypothesis Testing:\n",
    "\n",
    "This subset of inferential statistics involves testing hypotheses and making decisions based on the results of hypothesis tests. It's commonly used to determine if there's a significant difference or relationship between variables.\n",
    "\n",
    "Example: A researcher wants to determine if there is a significant difference in exam scores between two groups of students: those who attended additional tutoring sessions and those who didn't. They set up a hypothesis test to compare the means of the two groups and determine if the tutoring had a statistically significant impact on exam performance.\n",
    "\n",
    "2.Inferential Statistics by Regression Analysis:\n",
    "\n",
    "Regression analysis is used to model the relationship between variables and make predictions or understand the impact of one variable on another.\n",
    "\n",
    "Example: An economist wants to analyze the relationship between a country's GDP (Gross Domestic Product) and its unemployment rate. They use regression analysis to develop a model that predicts how changes in GDP might influence changes in the unemployment rate.\n",
    "\n",
    "3.Probability Theory:\n",
    "\n",
    "Probability theory is a fundamental branch of statistics that deals with uncertainty and randomness. It's used to model and analyze situations involving chance and randomness.\n",
    "\n",
    "Example: A gambler is playing a game of dice and wants to calculate the probability of rolling a specific number on a fair six-sided die. Probability theory helps in understanding the likelihood of different outcomes.\n",
    "\n",
    "These various types of statistics serve different purposes in data analysis, decision-making, and research, catering to the diverse needs of different fields and situations."
   ]
  },
  {
   "cell_type": "markdown",
   "id": "72426544-b90c-414f-bd39-bf176d1688c5",
   "metadata": {},
   "source": [
    "Q3.  What are the different types of data and how do they differ from each other? Provide an example of \n",
    "each type of data."
   ]
  },
  {
   "cell_type": "markdown",
   "id": "3fd3d26b-7089-4454-9315-3608c4285dbd",
   "metadata": {},
   "source": [
    "Ans:-\n",
    "Data can be classified into different types based on their nature, characteristics, and level of measurement. The main types of data are:\n",
    "\n",
    "1.Nominal Data:\n",
    "\n",
    "Nominal data represent categories or labels without any inherent order or ranking. Each category is distinct and doesn't have any numerical significance. Nominal data is often used for classification or grouping purposes.\n",
    "\n",
    "Example: Eye color (categories: blue, brown, green) is a nominal data type. Each color is distinct, but there's no inherent order among them.\n",
    "\n",
    "2.Ordinal Data:\n",
    "\n",
    "Ordinal data also represent categories, but they have an inherent order or ranking. The differences between the categories are not necessarily uniform or quantifiable, but their order carries meaning.\n",
    "\n",
    "Example: Educational levels (categories: high school, bachelor's degree, master's degree, PhD) are ordinal data. While the categories have an order, the difference between a bachelor's degree and a master's degree may not be the same as between a high school diploma and a bachelor's degree.\n",
    "\n",
    "3.Interval Data:\n",
    "\n",
    "Interval data have ordered categories with consistent intervals between them. Unlike ordinal data, interval data have meaningful and equal differences between values, but they lack a true zero point.\n",
    "\n",
    "Example: Temperature in Celsius is interval data. The difference between 20°C and 30°C is the same as between 30°C and 40°C, but a temperature of 0°C does not mean the absence of temperature.\n",
    "\n",
    "4.Ratio Data:\n",
    "\n",
    "Ratio data also have ordered categories with equal intervals, but they have a true zero point that represents the absence of the measured attribute. This allows for meaningful ratios between values.\n",
    "\n",
    "Example: Height in centimeters is ratio data. A height of 180 cm is twice the height of 90 cm, and a height of 0 cm represents no height (i.e., absence of height).\n",
    "\n",
    "5.Discrete Data:\n",
    "\n",
    "Discrete data consist of distinct and separate values. They are often counted and cannot take on any value within a range.\n",
    "\n",
    "Example: The number of siblings a person has is discrete data. You can't have a non-integer value like 2.5 siblings.\n",
    "\n",
    "6.Continuous Data:\n",
    "\n",
    "Continuous data can take on any value within a range and can be measured with high precision. They are not restricted to specific values and can be infinitely subdivided.\n",
    "\n",
    "Example: Weight measured in kilograms is continuous data. It can take on values like 70.5 kg or 71.234 kg, with any level of precision.\n",
    "\n",
    "Understanding the type of data is important for choosing appropriate statistical methods and techniques for analysis. Different types of data require different approaches and tools for summarizing, analyzing, and drawing conclusions."
   ]
  },
  {
   "cell_type": "markdown",
   "id": "405c0c16-fb7b-43ef-94c2-ac8dab05ea77",
   "metadata": {},
   "source": [
    "Q4. Categorise the following datasets with respect to quantitative and qualitative data types:\n",
    "\n",
    "(i)\tGrading in exam: A+, A, B+, B, C+, C, D, E\n",
    "\n",
    "(ii)\tColour of mangoes: yellow, green, orange, red\n",
    "\n",
    "(iii)\tHeight data of a class: [178.9, 179, 179.5, 176, 177.2, 178.3, 175.8,...]\n",
    "\n",
    "(iv)\tNumber of mangoes exported by a farm: [500, 600, 478, 672, …]"
   ]
  },
  {
   "cell_type": "markdown",
   "id": "b20186b2-8473-47b0-8832-aa2c48c4ba54",
   "metadata": {},
   "source": [
    "Ans :-\n",
    "(i) Grading in exam:\n",
    "\n",
    "Qualitative Data (Ordinal): The grading categories represent distinct labels with an inherent order (A+ > A > B+ > B > C+ > C > D > E), but the differences between the grades are not necessarily quantifiable.\n",
    "\n",
    "(ii) Colour of mangoes:\n",
    "\n",
    "Qualitative Data (Nominal): The colors represent distinct categories without any inherent order or numerical significance.\n",
    "\n",
    "(iii) Height data of a class:\n",
    "\n",
    "Quantitative Data (Continuous): The height measurements are continuous numerical values that can take on a wide range of decimal values within the specified range.\n",
    "\n",
    "(iv) Number of mangoes exported by a farm:\n",
    "\n",
    "Quantitative Data (Discrete): The number of mangoes exported is a count of individual items and consists of distinct whole numbers.\n",
    "\n",
    "To summarize:\n",
    "\n",
    "Qualitative data (categorical) involves categories or labels and is further categorized into nominal and ordinal data.\n",
    "\n",
    "Quantitative data (numerical) involves measurable quantities and can be further categorized into discrete and continuous data."
   ]
  },
  {
   "cell_type": "markdown",
   "id": "6ae6c84e-803a-4856-83e4-636240427926",
   "metadata": {},
   "source": [
    "Q5. Explain the concept of levels of measurement and give an example of a variable for each level."
   ]
  },
  {
   "cell_type": "markdown",
   "id": "c11168f7-bf82-4c3c-b163-e71957509480",
   "metadata": {},
   "source": [
    "Ans :-\n",
    "Levels of measurement, also known as scales of measurement or levels of data, refer to the different ways in which data can be classified based on their characteristics and the mathematical operations that can be applied to them. There are four main levels of measurement: nominal, ordinal, interval, and ratio. Let's explore each level with an example variable for each:\n",
    "\n",
    "1.Nominal Level of Measurement:\n",
    "\n",
    "At the nominal level, data are categorized into distinct and non-ordered groups or labels. Nominal data have no inherent order or numerical significance. The only operations that can be applied are counting and determining equality or inequality.\n",
    "\n",
    "Example: Gender (Male, Female, Non-binary). The categories are distinct, but there's no inherent order among them, and no mathematical operations can be performed that make sense in this context.\n",
    "\n",
    "2.Ordinal Level of Measurement:\n",
    "\n",
    "Ordinal data involve categories with an inherent order or ranking, but the differences between the categories might not be uniform or quantifiable. It allows for comparisons based on relative ranking.\n",
    "\n",
    "Example: Educational Levels (High School Diploma, Associate's Degree, Bachelor's Degree, Master's Degree, PhD). While there's an order to the categories, the differences between degrees are not uniform, and you can't perform meaningful arithmetic operations with them.\n",
    "\n",
    "3.Interval Level of Measurement:\n",
    "\n",
    "Interval data have ordered categories with consistent intervals between values. Unlike ordinal data, the intervals are meaningful and can be used for comparisons. However, interval data lack a true zero point, and ratios between values are not meaningful.\n",
    "\n",
    "Example: Temperature in Celsius or Fahrenheit. The intervals between temperature values are consistent, and you can compare temperatures. However, a temperature of 0°C or 0°F doesn't indicate a complete absence of temperature; it's just an arbitrary point on the scale.\n",
    "\n",
    "4.Ratio Level of Measurement:\n",
    "\n",
    "Ratio data have ordered categories with equal intervals, and they possess a true zero point that represents the absence of the attribute. This allows for meaningful ratios between values.\n",
    "\n",
    "Example: Height in centimeters. The intervals are meaningful, and a height of 0 cm indicates no height. Ratios between heights are meaningful, such as one person being twice as tall as another.\n",
    "\n",
    "In summary, the levels of measurement provide a framework for understanding the nature of data and the types of analysis and operations that can be performed on them. As you move from nominal to ratio, the data become progressively more informative and permit a wider range of statistical analyses."
   ]
  },
  {
   "cell_type": "markdown",
   "id": "82f6904b-70a7-417b-8268-41dbcaaa41c0",
   "metadata": {},
   "source": [
    "Q6. Why is it important to understand the level of measurement when analyzing data? Provide an \n",
    "example to illustrate your answer"
   ]
  },
  {
   "cell_type": "markdown",
   "id": "445fb5b0-98fe-4d8a-88a6-3976ec6a4575",
   "metadata": {},
   "source": [
    "Ans :-\n",
    "Understanding the level of measurement of data is crucial when analyzing data because it determines the types of statistical analyses and operations that can be appropriately applied to the data. Different levels of measurement have different properties and limitations, and using an inappropriate analysis technique can lead to incorrect conclusions and misleading insights. Here's an example to illustrate the importance of understanding the level of measurement:\n",
    "\n",
    "Example:\n",
    "\n",
    "Suppose you are analyzing data on customer satisfaction scores for a product, and the survey used a Likert scale to collect responses. The Likert scale has categories ranging from \"Strongly Disagree\" to \"Strongly Agree.\"\n",
    "\n",
    "Now, let's consider two scenarios based on the incorrect and correct understanding of the level of measurement:\n",
    "\n",
    "Incorrect Approach (Treating Ordinal Data as Interval):\n",
    "\n",
    "If you incorrectly treat the Likert scale data as interval data, you might calculate the mean (average) satisfaction score for each product feature and compare the means to make decisions. However, the Likert scale is ordinal data, and calculating the mean in this case is not appropriate. The ordinal nature of the data means that the differences between categories might not be uniform, and the mean doesn't provide meaningful information.\n",
    "\n",
    "Correct Approach (Using Non-parametric Tests):\n",
    "\n",
    "Recognizing that the data is ordinal, you would use non-parametric statistical tests that are suitable for ordinal data. For instance, you might use the Mann-Whitney U test or the Kruskal-Wallis test to compare satisfaction scores between different groups. These tests don't assume equal intervals between categories and are more appropriate for ordinal data.\n",
    "\n",
    "By understanding the level of measurement, you ensure that the analysis methods you choose align with the characteristics of the data. This helps to maintain the integrity of the analysis and the validity of the conclusions drawn. In this example, using appropriate analysis techniques for ordinal data prevents misinterpretation and ensures that the results accurately reflect the relationships in the data."
   ]
  },
  {
   "cell_type": "markdown",
   "id": "af775f05-7ba6-4ae7-b4bc-a13f308c8c11",
   "metadata": {},
   "source": [
    "Q7. How nominal data type is different from ordinal data type."
   ]
  },
  {
   "cell_type": "markdown",
   "id": "07603cac-5e79-436e-8a16-c696bfbdd5da",
   "metadata": {},
   "source": [
    "Ans :-\n",
    "Nominal data and ordinal data are both types of categorical data, but they differ in terms of the level of information they convey and the nature of the relationships between categories. Here's a breakdown of the differences between nominal and ordinal data types:\n",
    "\n",
    "Nominal Data:\n",
    "\n",
    "1.Nature of Categories: Nominal data consists of distinct categories or labels with no inherent order or ranking. The categories are mutually exclusive and do not have any numerical significance.\n",
    "\n",
    "2.No Meaningful Order: In nominal data, the categories cannot be arranged in a meaningful order. They are simply different from one another without any inherent ranking.\n",
    "\n",
    "3.Operations: The only meaningful operations that can be applied to nominal data are counting the frequency of each category and testing for equality or inequality.\n",
    "\n",
    "4.Example: Examples of nominal data include colors (red, blue, green), gender (male, female, non-binary), and types of animals (cat, dog, bird).\n",
    "\n",
    "Ordinal Data:\n",
    "\n",
    "1.Nature of Categories: Like nominal data, ordinal data consists of distinct categories. However, in ordinal data, the categories have an inherent order or ranking.\n",
    "\n",
    "2.Meaningful Order: In ordinal data, the categories can be ranked based on their relative position. The order between categories carries some meaningful information.\n",
    "\n",
    "3.Limited Arithmetic: While ordinal data allows for comparisons based on order, the differences between the categories may not be uniform or quantifiable. Therefore, only limited arithmetic operations like greater-than, less-than, and equal-to comparisons can be applied.\n",
    "\n",
    "4.Example: Examples of ordinal data include educational levels (high school, associate's degree, bachelor's degree, master's degree, PhD), socioeconomic status (low, middle, high), and survey responses on Likert scales (\"strongly disagree\" to \"strongly agree\").\n",
    "\n",
    "In summary, the main difference between nominal and ordinal data lies in the presence of an order or ranking among categories. Nominal data has no meaningful order, while ordinal data has an inherent order that allows for limited comparisons based on rank. Understanding whether data are nominal or ordinal is important when choosing appropriate analysis techniques and interpreting the results accurately."
   ]
  },
  {
   "cell_type": "markdown",
   "id": "63f9cc3d-c7c8-401b-b743-7eafbfe4612a",
   "metadata": {},
   "source": [
    "Q8. Which type of plot can be used to display data in terms of range?"
   ]
  },
  {
   "cell_type": "markdown",
   "id": "5eb85d49-8a71-41ed-b265-60a9843886f4",
   "metadata": {},
   "source": [
    "Ans :-\n",
    "A box plot, also known as a box-and-whisker plot, is commonly used to display data in terms of range. A box plot provides a graphical representation of the distribution of a dataset by showing the median, quartiles, and potential outliers. It is particularly useful for visualizing the spread and variability of data and identifying any unusual values.\n",
    "\n",
    "Here's a brief explanation of the components of a box plot:\n",
    "\n",
    "-->Box: The box represents the interquartile range (IQR), which is the range between the first quartile (25th percentile) and the third quartile (75th percentile). The box contains the middle 50% of the data.\n",
    "\n",
    "-->Median Line: Inside the box, there is a vertical line that represents the median (50th percentile), which is the value that separates the lower and upper halves of the data.\n",
    "\n",
    "-->Whiskers: The whiskers extend from the edges of the box to the minimum and maximum values within a certain range. They provide information about the spread of the data beyond the IQR.\n",
    "\n",
    "-->Outliers: Points outside the whiskers are considered potential outliers, which are values that significantly deviate from the rest of the data.\n",
    "\n",
    "A box plot is a great way to compare the ranges and distributions of multiple datasets side by side. It gives a clear visual representation of the spread of data while highlighting potential outliers.\n",
    "\n",
    "Keep in mind that a box plot provides information about the range of data and its distribution, but it doesn't provide detailed information about the underlying data points themselves. If you need to see individual data points, a scatter plot or a strip plot might be more appropriate."
   ]
  },
  {
   "cell_type": "markdown",
   "id": "cd150234-78c2-4ef6-a906-86ed556aa7c5",
   "metadata": {},
   "source": [
    "Q9. Describe the difference between descriptive and inferential statistics. Give an example of each \n",
    "type of statistics and explain how they are used."
   ]
  },
  {
   "cell_type": "markdown",
   "id": "0b46caef-c37b-422d-9e0d-f9f0f268627f",
   "metadata": {},
   "source": [
    "Ans :-\n",
    "Descriptive Statistics:\n",
    "\n",
    "Descriptive statistics involve summarizing and describing data to provide a clear and concise overview of its main characteristics. These statistics are used to organize, simplify, and present data in a meaningful way. Descriptive statistics do not involve making inferences or generalizations beyond the data at hand; they focus on providing insights about the data itself.\n",
    "\n",
    "Example: Imagine you have a dataset of exam scores for a class of students. Descriptive statistics would include calculating the mean (average) score, median (middle value), standard deviation (measure of variability), and creating a histogram to visualize the score distribution. These statistics give you a clear picture of how the students performed on the exam without making predictions about future performances or drawing conclusions about the entire student population.\n",
    "\n",
    "Inferential Statistics:\n",
    "\n",
    "Inferential statistics, on the other hand, involve drawing conclusions or making predictions about a larger population based on a sample of data. These statistics allow you to generalize findings from a sample to a larger group and test hypotheses. Inferential statistics involve uncertainty and probability because you're working with a subset of data to make inferences about a larger population.\n",
    "\n",
    "Example: Continuing with the exam scores scenario, let's say you want to determine if a new teaching method has had a significant impact on student performance. You could conduct a hypothesis test to compare the exam scores of students taught using the new method with those taught using the old method. If the difference in scores is statistically significant, you might infer that the new teaching method is more effective. This inference is based on the analysis of the sample data and the application of inferential statistical techniques.\n",
    "\n",
    "In summary:\n",
    "\n",
    "-->Descriptive statistics are used to summarize and describe the characteristics of a dataset without making broader inferences.\n",
    "\n",
    "-->Inferential statistics are used to draw conclusions or make predictions about a larger population based on a sample of data and involve uncertainty and probability considerations.\n",
    "\n",
    "Both descriptive and inferential statistics play crucial roles in data analysis, research, decision-making, and forming a comprehensive understanding of a phenomenon."
   ]
  },
  {
   "cell_type": "markdown",
   "id": "0dd10677-dbe4-409b-84f0-b20287f4640b",
   "metadata": {},
   "source": [
    "Q10. What are some common measures of central tendency and variability used in statistics? Explain \n",
    "how each measure can be used to describe a dataset"
   ]
  },
  {
   "cell_type": "markdown",
   "id": "c7d5e06f-1b89-460d-b8b0-5f10f5a5e3cb",
   "metadata": {},
   "source": [
    "Ans:-\n",
    "Measures of Central Tendency:\n",
    "\n",
    "Measures of central tendency provide information about the center or average value of a dataset. They help summarize where most of the data points cluster. The common measures of central tendency are:\n",
    "\n",
    "1.Mean: The mean, also known as the average, is calculated by adding up all the values in a dataset and then dividing by the number of values. It represents the balance point of the data distribution.\n",
    "\n",
    "Use: The mean is widely used to describe the typical value of a dataset. It can be influenced by extreme values and is sensitive to outliers.\n",
    "\n",
    "2.Median: The median is the middle value in an ordered dataset. It separates the higher half from the lower half of the data.\n",
    "\n",
    "Use: The median is resistant to outliers and provides a robust measure of central tendency. It's particularly useful when dealing with skewed distributions or datasets with outliers.\n",
    "\n",
    "3.Mode: The mode is the value that appears most frequently in a dataset.\n",
    "\n",
    "Use: The mode is used to identify the most common value or values in a dataset. It's particularly useful for categorical data.\n",
    "\n",
    "Measures of Variability:\n",
    "\n",
    "Measures of variability quantify how spread out the data points are from the central value. They provide insights into the dispersion or diversity of the data. The common measures of variability are:\n",
    "\n",
    "1.Range: The range is the difference between the maximum and minimum values in a dataset.\n",
    "\n",
    "Use: The range gives a quick sense of how spread out the data is, but it's sensitive to outliers and might not capture the entire variability.\n",
    "\n",
    "2.Variance: Variance measures the average squared deviation of each data point from the mean. It's calculated by summing the squared differences between each data point and the mean, and then dividing by the number of data points.\n",
    "\n",
    "Use: Variance quantifies the overall variability of the dataset. It's used in various statistical analyses, but the squared values can be hard to interpret directly.\n",
    "\n",
    "3.Standard Deviation: The standard deviation is the square root of the variance. It measures the average deviation of data points from the mean.\n",
    "\n",
    "Use: Standard deviation provides a more interpretable measure of variability compared to variance. It's commonly used to describe the spread of data and helps identify how data points are distributed around the mean.\n",
    "\n",
    "4.Interquartile Range (IQR): The IQR is the difference between the third quartile (75th percentile) and the first quartile (25th percentile). It represents the spread of the middle 50% of the data.\n",
    "\n",
    "Use: The IQR is resistant to outliers and gives a robust measure of variability. It's used to describe the dispersion of data, particularly in skewed distributions.\n",
    "\n",
    "These measures collectively provide a comprehensive understanding of the central tendency and variability of a dataset, allowing you to describe its distribution, identify trends, and make informed decisions based on the data's characteristics."
   ]
  }
 ],
 "metadata": {
  "kernelspec": {
   "display_name": "Python 3 (ipykernel)",
   "language": "python",
   "name": "python3"
  },
  "language_info": {
   "codemirror_mode": {
    "name": "ipython",
    "version": 3
   },
   "file_extension": ".py",
   "mimetype": "text/x-python",
   "name": "python",
   "nbconvert_exporter": "python",
   "pygments_lexer": "ipython3",
   "version": "3.10.8"
  }
 },
 "nbformat": 4,
 "nbformat_minor": 5
}
