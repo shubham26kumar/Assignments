{
 "cells": [
  {
   "cell_type": "markdown",
   "id": "2415dd2e-21aa-4185-903c-825891309c6e",
   "metadata": {},
   "source": [
    "Q1: What is Estimation Statistics? Explain point estimate and interval estimate."
   ]
  },
  {
   "cell_type": "markdown",
   "id": "0954f448-71e5-4157-b1d5-4c0230f3de79",
   "metadata": {},
   "source": [
    "Ans :-\n",
    "Estimation statistics, or simply estimation, is a data analysis framework that uses a combination of effect sizes, confidence intervals, precision planning, and meta-analysis to plan experiments, analyze data and interpret results.It complements hypothesis testing approaches such as null hypothesis significance testing (NHST), by going beyond the question is an effect present or not, and provides information about how large an effect is. Estimation statistics is sometimes referred to as the new statistics.\n",
    "\n",
    "The primary aim of estimation methods is to report an effect size (a point estimate) along with its confidence interval, the latter of which is related to the precision of the estimate. The confidence interval summarizes a range of likely values of the underlying population effect. Proponents of estimation see reporting a P value as an unhelpful distraction from the important business of reporting an effect size with its confidence intervals, and believe that estimation should replace significance testing for data analysis.\n",
    "\n",
    "Point Estimate :-\n",
    "\n",
    "In statistical analysis, we usually impose a distributional assumption on the random sample, that is, the\n",
    "sample’s distribution belongs to certain family of distribution, say normal or gamma. Under such\n",
    "assumption, the unknown distribution is equivalent to the unknown parameter, therefore the inference\n",
    "problem reduces to the problem of estimating these parameters.\n",
    "\n",
    "Definition:\n",
    "A point estimator θ^ of a parameter θ is the statistic used to estimate parameter from the sample. A\n",
    "point estimate is the value of point estimator given a specific sample.\n",
    "\n",
    "Note:\n",
    "• Point estimator is random, and point estimate is fixed single value.\n",
    "• Literally, any statistic can be used as a point estimate. It is just a matter of whether it is a good or\n",
    "bad estimate.\n",
    "\n",
    "Example\n",
    "Sensible estimations for the population mean include:\n",
    "• sample mean\n",
    "• sample mean of sub-sample\n",
    "• sample median, if the distribution is known to be symmetric\n",
    "• If the distribution is gamma, we can estimate mean by α^ β^\n",
    ", where α^ and β^ are two\n",
    "estimators of α and β .\n",
    "\n",
    "Interval Estimate :-\n",
    "\n",
    "A point estimate provides no information about the precision of the estimation. Besides, in many cases,\n",
    "P(point estimator = parameter)=0, and the point estimate says nothing about how close it might be to\n",
    "the true parameter.\n",
    "an interval estimate or confidence interval (CI) reports an entire interval of plausible values instead of a\n",
    "single point estimation.\n",
    "\n",
    "example\n",
    "Let us consider estimating the unknown population mean of normal distribution where the population\n",
    "variance is known.\n",
    "The best point estimator is X¯ . Now we want to incorporate the precision of X¯ (that is information of\n",
    "sampling distribution) into the point estimator.\n",
    "1) X¯∼N (μ ,σ**2/n)\n",
    "2) Pr( X¯ ∈(μ−Zα/ 2σ/√ n,μ+Zα/2σ/√ n))=1−α\n",
    "3) Pr(μ∈(X¯ −Zα/ 2σ/√ n, X¯ +Zα/2σ /√ n))=1−α\n",
    "\n",
    "Definition:\n",
    "\n",
    "the (1-alpha) confidence interval for population mean under normal distribution is\n",
    "(X¯ −Zα/ 2σ/√ n, X¯ +Zα/2σ/√ n)\n",
    "where Zα/ 2σ/√ n is called margin of error.\n",
    "\n",
    "Interpreting this interval\n",
    "\n",
    "1. Confident statement: Given a fixed sample, we say that with 1-alpha confidence, the true\n",
    "parameter is inside interval (¯x−Zα/ 2σ /√ n,¯x+Zα/2σ/√ n) .\n",
    " Why do we use the word confident?\n",
    "ANSWER: Because we used a method that 95% of the time gives an interval that contains μ .\n",
    "2. Probabilistic statement: With probability 1-alpha, random interval\n",
    "(X¯ −Zα/ 2σ/√ n, X¯ +Zα/2σ/√ n) contains the true parameter.\n",
    "Here, the probability are with respect to the randomness of the n-size sample. Given difference\n",
    "random sample, one can calculate different intervals. Some of them can cover the true parameter,\n",
    "some of them can not. And the probability you will randomly select a sample whose confidence\n",
    "interval captures the true value of  is 95%."
   ]
  },
  {
   "cell_type": "markdown",
   "id": "745c7d0d-0738-4214-927f-7285e6f602f5",
   "metadata": {},
   "source": [
    "Q2. Write a Python function to estimate the population mean using a sample mean and standard \n",
    "deviation."
   ]
  },
  {
   "cell_type": "code",
   "execution_count": 1,
   "id": "fe473867-2552-4fb4-b917-ccd0d7620f50",
   "metadata": {},
   "outputs": [],
   "source": [
    "def estimate_population_mean(sample_mean, sample_std_dev, sample_size):\n",
    "    import math\n",
    "    z_score = 1.96  # for a 95% confidence interval\n",
    "    margin_of_error = z_score * (sample_std_dev / math.sqrt(sample_size))\n",
    "    lower_bound = sample_mean - margin_of_error\n",
    "    upper_bound = sample_mean + margin_of_error\n",
    "    return (lower_bound, upper_bound)"
   ]
  },
  {
   "cell_type": "code",
   "execution_count": 3,
   "id": "e26321d2-2e85-4808-9cd2-c2469451ea2e",
   "metadata": {},
   "outputs": [
    {
     "data": {
      "text/plain": [
       "(9.445628283549746, 10.554371716450254)"
      ]
     },
     "execution_count": 3,
     "metadata": {},
     "output_type": "execute_result"
    }
   ],
   "source": [
    "sample_mean = 10\n",
    "sample_std_dev = 2\n",
    "sample_size = 50\n",
    "estimate_population_mean(sample_mean, sample_std_dev, sample_size)"
   ]
  },
  {
   "cell_type": "markdown",
   "id": "ae2c345a-0d8f-4366-a873-deb3754bfbb7",
   "metadata": {},
   "source": [
    "This function uses the formula for a confidence interval to estimate the population mean. The z_score is set to 1.96 for a 95% confidence interval. The margin_of_error is calculated by multiplying the z_score by the standard error of the mean, which is equal to sample_std_dev / sqrt(sample_size). The lower_bound and upper_bound are calculated by subtracting and adding the margin_of_error from the sample_mean, respectively "
   ]
  },
  {
   "cell_type": "markdown",
   "id": "e5906517-552b-4b99-9544-f703e4b7bae0",
   "metadata": {},
   "source": [
    "Q3: What is Hypothesis testing? Why is it used? State the importance of Hypothesis testing."
   ]
  },
  {
   "cell_type": "markdown",
   "id": "f7262da2-75a5-4085-901c-150064b30e4e",
   "metadata": {},
   "source": [
    "Ans :-\n",
    "Hypothesis testing is a statistical procedure used to assess the plausibility of a hypothesis by analyzing sample data. It involves testing an assumption about a population parameter to determine whether it is true or false.The process of hypothesis testing typically involves the following steps:\n",
    "\n",
    "1.Formulating hypotheses: Hypothesis testing begins with the formulation of two hypotheses: the null hypothesis (H0) and the alternative hypothesis (HA). The null hypothesis assumes that there is no difference or relationship between variables, while the alternative hypothesis suggests that there is a difference or relationship.\n",
    "\n",
    "2.Collecting and analyzing data: Researchers gather sample data and perform statistical analysis to evaluate the hypotheses. This may involve calculating summary statistics, conducting hypothesis tests, and estimating population parameters.\n",
    "\n",
    "3.Setting a significance level: The significance level, often denoted as α, is the threshold used to determine whether the evidence is strong enough to reject the null hypothesis. Commonly used significance levels are 0.05 and 0.01.\n",
    "\n",
    "4.Conducting the hypothesis test: Based on the sample data and the chosen significance level, statistical tests are performed to determine the likelihood of observing the data if the null hypothesis is true. The test statistic is compared to a critical value or p-value to make a decision.\n",
    "\n",
    "5.Interpreting the results: The results of the hypothesis test are interpreted to either reject or fail to reject the null hypothesis. If the evidence is strong enough, the null hypothesis is rejected in favor of the alternative hypothesis.\n",
    "\n",
    "The importance of hypothesis testing lies in its ability to provide a systematic and objective approach to decision-making based on statistical evidence. Here are some key reasons why hypothesis testing is important:\n",
    "\n",
    "1.Drawing conclusions about populations: Hypothesis testing allows researchers to make inferences about population parameters based on sample data. It helps determine whether the observed results are likely to have occurred by chance or if they represent a true effect or relationship.\n",
    "\n",
    "2.Testing theories and assumptions: Hypothesis testing enables professionals to test their theories and assumptions before implementing them in real-world scenarios. It helps verify the validity of hypotheses and ensures that decisions are based on sound statistical evidence.\n",
    "\n",
    "3.Assessing the reliability of research findings: Hypothesis testing helps researchers assess whether their research findings are statistically significant and not due to random variation. It provides a framework for evaluating the strength of evidence and the generalizability of results.\n",
    "\n",
    "4.Making informed decisions: By using hypothesis testing, individuals and organizations can make data-driven decisions. It allows them to evaluate the effectiveness of interventions, compare groups or conditions, and predict outcomes based on statistical evidence.\n",
    "\n",
    "In summary, hypothesis testing is a fundamental statistical procedure used to assess the validity of assumptions and draw conclusions about populations. It plays a crucial role in research, decision-making, and ensuring that findings are reliable and meaningful.\n"
   ]
  },
  {
   "cell_type": "markdown",
   "id": "de5a97a8-4c05-4b06-b9f5-8ec0f609a758",
   "metadata": {},
   "source": [
    "Q4. Create a hypothesis that states whether the average weight of male college students is greater than \n",
    "the average weight of female college students."
   ]
  },
  {
   "cell_type": "markdown",
   "id": "2c73279d-a400-400c-84ef-c25d05d29642",
   "metadata": {},
   "source": [
    "To create a hypothesis that states whether the average weight of male college students is greater than the average weight of female college students in Python, we can use the following steps:\n",
    "\n",
    "1.Define the null and alternative hypotheses:\n",
    "\n",
    "Null Hypothesis: The average weight of male college students is equal to the average weight of female college students.\n",
    "\n",
    "Alternative Hypothesis: The average weight of male college students is greater than the average weight of female college students.\n",
    "\n",
    "2.Collect data: Collect data on the weights of male and female college students.\n",
    "\n",
    "3.Perform a statistical analysis: Use Python’s statistical libraries such as scipy.stats to perform a statistical analysis on the collected data.\n",
    "\n",
    "One way to perform a hypothesis test in Python is to use a t-test. A t-test is used to compare the means of two groups and determine whether they are significantly different from each other.\n",
    "\n",
    "For example, we can use a two-sample t-test to compare the mean weights of male and female college students.\n",
    "\n",
    "Here’s an example code snippet that shows how to perform a two-sample t-test in Python using scipy.stats:"
   ]
  },
  {
   "cell_type": "code",
   "execution_count": 4,
   "id": "6397232d-4cd2-4a20-97ac-703eb099f900",
   "metadata": {},
   "outputs": [
    {
     "name": "stdout",
     "output_type": "stream",
     "text": [
      "t-statistic: 3.0\n",
      "p-value: 0.017071681233782634\n"
     ]
    }
   ],
   "source": [
    "from scipy.stats import ttest_ind\n",
    "\n",
    "# Define two arrays containing weights of male and female college students\n",
    "male_weights = [150, 160, 170, 180, 190]\n",
    "female_weights = [120, 130, 140, 150, 160]\n",
    "\n",
    "# Perform a two-sample t-test\n",
    "t_statistic, p_value = ttest_ind(male_weights, female_weights)\n",
    "\n",
    "# Print the results\n",
    "print(\"t-statistic:\", t_statistic)\n",
    "print(\"p-value:\", p_value)"
   ]
  },
  {
   "cell_type": "markdown",
   "id": "acef5079-522c-45ee-a91a-b277b1a0562a",
   "metadata": {},
   "source": [
    "4.Interpret the results: If the p-value obtained from the statistical analysis is less than the significance level (usually 0.05), we can reject the null hypothesis and conclude that the average weight of male college students is greater than the average weight of female college students.\n",
    "\n",
    "Here,p-value 0.017 is less than significane level i.e. 0.05 so we can reject the null hypothesis and conclude that the average weight of male college students is greater than the average weight of female college students."
   ]
  },
  {
   "cell_type": "markdown",
   "id": "f4ff2d25-6373-4a6d-8222-53f8f807e510",
   "metadata": {},
   "source": [
    "Q5. Write a Python script to conduct a hypothesis test on the difference between two population means, \n",
    "given a sample from each population."
   ]
  },
  {
   "cell_type": "markdown",
   "id": "09673e83-6484-467d-bde9-d51c109257e0",
   "metadata": {},
   "source": [
    "To conduct a hypothesis test on the difference between two population means, given a sample from each population, we can use the following steps:\n",
    "\n",
    "1.Define the null and alternative hypotheses:\n",
    "\n",
    "Null Hypothesis: The difference between the means of the two populations is equal to zero.\n",
    "\n",
    "Alternative Hypothesis: The difference between the means of the two populations is not equal to zero.\n",
    "\n",
    "2.Collect data: Collect data from each population and calculate the sample means.\n",
    "\n",
    "3.Calculate the test statistic: Calculate the test statistic using the formula:\n",
    "\n",
    "t = (x1 - x2) / sqrt(s1^2 / n1 + s2^2 / n2)\n",
    "\n",
    "where x1 and x2 are the sample means, s1 and s2 are the sample standard deviations, and n1 and n2 are the sample sizes.\n",
    "\n",
    "4.Calculate the p-value: Calculate the p-value using a t-distribution with degrees of freedom equal to n1 + n2 - 2.\n",
    "\n",
    "5.Interpret the results: If the p-value obtained from the statistical analysis is less than the significance level (usually 0.05), we can reject the null hypothesis and conclude that there is a significant difference between the means of the two populations.\n"
   ]
  },
  {
   "cell_type": "code",
   "execution_count": 5,
   "id": "940fec11-c53b-452f-9dc6-f9cf030f3e53",
   "metadata": {},
   "outputs": [
    {
     "name": "stdout",
     "output_type": "stream",
     "text": [
      "t-statistic: -2.82842712474619\n",
      "p-value: 0.005673017820622928\n"
     ]
    }
   ],
   "source": [
    "from scipy.stats import ttest_ind_from_stats\n",
    "\n",
    "# Define sample statistics\n",
    "x1 = 10\n",
    "s1 = 3\n",
    "n1 = 50\n",
    "\n",
    "x2 = 12\n",
    "s2 = 4\n",
    "n2 = 50\n",
    "\n",
    "# Calculate test statistic and p-value\n",
    "t_statistic, p_value = ttest_ind_from_stats(x1, s1, n1, x2, s2, n2)\n",
    "\n",
    "# Print results\n",
    "print(\"t-statistic:\", t_statistic)\n",
    "print(\"p-value:\", p_value)"
   ]
  },
  {
   "cell_type": "markdown",
   "id": "4bb14be9-7b41-41bf-bce8-e4bb3bd4a417",
   "metadata": {},
   "source": [
    "Here, p-value 0.005 is less than the significance level (usually 0.05), we can reject the null hypothesis and conclude that there is a significant difference between the means of the two populations."
   ]
  },
  {
   "cell_type": "markdown",
   "id": "ad1ba7bc-5adc-4896-8be8-0396e22777db",
   "metadata": {},
   "source": [
    "Q6: What is a null and alternative hypothesis? Give some examples."
   ]
  },
  {
   "cell_type": "markdown",
   "id": "e0e08476-7bd4-4b44-bb68-a90a76767666",
   "metadata": {},
   "source": [
    "Ans :-\n",
    "A null hypothesis is a statement that assumes there is no effect or relationship between variables in the population being studied. An alternative hypothesis is a statement that assumes there is an effect or relationship between variables in the population being studied.The null and alternative hypotheses are used in statistical hypothesis testing to determine whether the evidence supports or contradicts the null hypothesis.\n",
    "\n",
    "Here are some examples of null and alternative hypotheses:\n",
    "\n",
    "1.Null hypothesis: There is no difference in the mean height of male and female college students.\n",
    "\n",
    "2.Alternative hypothesis: The mean height of male college students is greater than the mean height of female college students.\n",
    "\n",
    "3.Null hypothesis: There is no relationship between caffeine consumption and sleep quality.\n",
    "\n",
    "4.Alternative hypothesis: Higher caffeine consumption is associated with poorer sleep quality.\n",
    "\n",
    "5.Null hypothesis: There is no difference in the effectiveness of two different pain medications. \n",
    "\n",
    "6.Alternative hypothesis: One pain medication is more effective than the other.\n",
    "\n",
    "7.Null hypothesis: There is no difference in the proportion of men and women who prefer coffee over tea.\n",
    "\n",
    "8.Alternative hypothesis: More men than women prefer coffee over tea.\n",
    "\n",
    "9.Null hypothesis: There is no relationship between exercise frequency and weight loss.\n",
    "\n",
    "10.Alternative hypothesis: Higher exercise frequency is associated with greater weight loss.\n",
    "\n",
    "In each of these examples, the null hypothesis assumes that there is no effect or relationship between variables, while the alternative hypothesis assumes that there is an effect or relationship. By testing these hypotheses using statistical methods, researchers can determine whether the evidence supports or contradicts the null hypothesis."
   ]
  },
  {
   "cell_type": "markdown",
   "id": "42a1f3b4-c0ec-40e3-81df-31c63dc168bd",
   "metadata": {},
   "source": [
    "Q7: Write down the steps involved in hypothesis testing."
   ]
  },
  {
   "cell_type": "markdown",
   "id": "a4f18e84-ee41-4cdf-940c-3dd0a80d39d2",
   "metadata": {},
   "source": [
    "Ans :-\n",
    "The steps involved in hypothesis testing are as follows:\n",
    "\n",
    "1.State the hypotheses: The first step in hypothesis testing is to state the null and alternative hypotheses. The null hypothesis assumes that there is no effect or relationship between variables, while the alternative hypothesis assumes that there is an effect or relationship.\n",
    "\n",
    "2.Formulate an analysis plan: The next step is to formulate an analysis plan, which outlines how the data will be evaluated. This may involve selecting a statistical test, setting a significance level, and determining the sample size.\n",
    "\n",
    "3.Collect and analyze the data: Once the analysis plan is in place, data is collected and analyzed. This may involve calculating summary statistics, conducting hypothesis tests, and estimating population parameters.\n",
    "\n",
    "4.Assess the evidence: Based on the sample data and the chosen significance level, statistical tests are performed to determine the likelihood of observing the data if the null hypothesis is true. The test statistic is compared to a critical value or p-value to make a decision.\n",
    "\n",
    "5.Interpret the results: The results of the hypothesis test are interpreted to either reject or fail to reject the null hypothesis. If the evidence is strong enough, the null hypothesis is rejected in favor of the alternative hypothesis.\n",
    "\n",
    "6.Draw conclusions: Based on the results of the hypothesis test, conclusions are drawn about the population being studied. This may involve making predictions, testing theories, or making decisions based on statistical evidence.\n",
    "\n",
    "7.Communicate the results: Finally, the results of the hypothesis test are communicated to others. This may involve presenting data in tables or graphs, writing reports, or publishing research findings.\n",
    "\n",
    "In summary, hypothesis testing is a systematic and objective approach to decision-making based on statistical evidence. The steps involved in hypothesis testing provide a framework for evaluating the strength of evidence and drawing conclusions about populations.\n"
   ]
  },
  {
   "cell_type": "markdown",
   "id": "9bed2bb5-48e9-4b06-b264-2059a9e49896",
   "metadata": {},
   "source": [
    "Q8. Define p-value and explain its significance in hypothesis testing."
   ]
  },
  {
   "cell_type": "markdown",
   "id": "b46e7a4c-6327-4449-a98b-14b0cd6e6ea7",
   "metadata": {},
   "source": [
    "Ans :-\n",
    "The p-value is a statistical measure that quantifies the strength of evidence against the null hypothesis in hypothesis testing. It represents the probability of obtaining test results as extreme as, or more extreme than, the observed results, assuming that the null hypothesis is true.\n",
    "\n",
    "The significance of the p-value in hypothesis testing is as follows:\n",
    "\n",
    "1.Assessing statistical significance: The p-value helps determine whether the observed results are statistically significant. If the p-value is below a predetermined significance level (commonly 0.05), it indicates that the evidence is strong enough to reject the null hypothesis in favor of the alternative hypothesis.\n",
    "\n",
    "2.Evaluating the strength of evidence: A smaller p-value indicates stronger evidence against the null hypothesis. For example, a p-value of 0.01 is considered stronger evidence than a p-value of 0.05. The smaller the p-value, the lower the probability of obtaining the observed results if the null hypothesis were true.\n",
    "\n",
    "3.Guiding decision-making: The p-value helps researchers and decision-makers make informed decisions based on statistical evidence. If the p-value is significant, it suggests that there is sufficient evidence to support the alternative hypothesis and take appropriate action.\n",
    "\n",
    "4.Comparing different hypotheses: The p-value allows for the comparison of different hypotheses by providing a standardized measure of evidence. Researchers can compare p-values across different studies or experiments to evaluate the consistency and strength of the findings.\n",
    "\n",
    "5.Transparency and reproducibility: The use of p-values in hypothesis testing promotes transparency and reproducibility in scientific research. By reporting p-values, researchers provide a quantitative measure of the strength of evidence, allowing others to evaluate and replicate the findings.\n",
    "\n",
    "In summary, the p-value is a crucial component of hypothesis testing. It quantifies the likelihood of obtaining the observed results under the assumption that the null hypothesis is true. The p-value helps determine statistical significance, evaluate evidence strength, guide decision-making, compare hypotheses, and promote transparency in research."
   ]
  },
  {
   "cell_type": "markdown",
   "id": "832a059e-7a84-49e6-90b6-71a7aba18d9a",
   "metadata": {},
   "source": [
    "Q9. Generate a Student's t-distribution plot using Python's matplotlib library, with the degrees of freedom \n",
    "parameter set to 10."
   ]
  },
  {
   "cell_type": "code",
   "execution_count": 9,
   "id": "6180d528-5c51-4225-9174-13bc8ed31cc1",
   "metadata": {},
   "outputs": [
    {
     "data": {
      "image/png": "[encoded data removed]",
      "text/plain": [
       "<Figure size 640x480 with 1 Axes>"
      ]
     },
     "metadata": {},
     "output_type": "display_data"
    }
   ],
   "source": [
    "from scipy.stats import t\n",
    "import matplotlib.pyplot as plt\n",
    "import numpy as np\n",
    "\n",
    "df = 10\n",
    "x = np.linspace(-5, 5, 1000)\n",
    "y = t.pdf(x, df)\n",
    "\n",
    "plt.plot(x, y)\n",
    "plt.title(\"Student's t-distribution with df = 10\")\n",
    "plt.xlabel(\"x\")\n",
    "plt.ylabel(\"pdf(x)\")\n",
    "plt.show()"
   ]
  },
  {
   "cell_type": "markdown",
   "id": "236c8736-f705-4ba5-ac01-263709b2d9dc",
   "metadata": {},
   "source": [
    "Here, we first import the t function from the scipy.stats module and the pyplot module from the matplotlib library. We then set the degrees of freedom parameter to 10 and create an array of 1000 equally spaced values between -5 and 5 using the linspace function. We then calculate the probability density function (pdf) of the t-distribution for each value in the array using the pdf function. Finally, we plot the pdf against x, set the title and axis labels, and display the plot using the show function."
   ]
  },
  {
   "cell_type": "markdown",
   "id": "50980aa0-1289-4b4b-83fb-8ee82289cbd8",
   "metadata": {},
   "source": [
    "Q10. Write a Python program to calculate the two-sample t-test for independent samples, given two \n",
    "random samples of equal size and a null hypothesis that the population means are equal."
   ]
  },
  {
   "cell_type": "markdown",
   "id": "a0dfb62f-7366-4f89-9531-309a814f724f",
   "metadata": {},
   "source": [
    "Here's a Python program to calculate the two-sample t-test for independent samples, given two random samples of equal size and a null hypothesis that the population means are equal:"
   ]
  },
  {
   "cell_type": "code",
   "execution_count": 10,
   "id": "10341134-2af0-48f1-84ff-029c948abab0",
   "metadata": {},
   "outputs": [
    {
     "name": "stdout",
     "output_type": "stream",
     "text": [
      "Null hypothesis:  The population means are equal.\n",
      "Sample 1:  [1, 2, 3, 4, 5]\n",
      "Sample 2:  [6, 7, 8, 9, 10]\n",
      "t-statistic:  -5.0\n",
      "p-value:  0.001052825793366539\n"
     ]
    }
   ],
   "source": [
    "import scipy.stats as stats\n",
    "\n",
    "# Define the two random samples\n",
    "sample1 = [1, 2, 3, 4, 5]\n",
    "sample2 = [6, 7, 8, 9, 10]\n",
    "\n",
    "# Define the null hypothesis\n",
    "null_hypothesis = \"The population means are equal.\"\n",
    "\n",
    "# Calculate the t-statistic and p-value\n",
    "t_statistic, p_value = stats.ttest_ind(sample1, sample2)\n",
    "\n",
    "# Print the results\n",
    "print(\"Null hypothesis: \", null_hypothesis)\n",
    "print(\"Sample 1: \", sample1)\n",
    "print(\"Sample 2: \", sample2)\n",
    "print(\"t-statistic: \", t_statistic)\n",
    "print(\"p-value: \", p_value)"
   ]
  },
  {
   "cell_type": "markdown",
   "id": "500450dd-333e-432f-9a32-ca79fe03a2ed",
   "metadata": {},
   "source": [
    "In this program, we first import the scipy.stats library, which contains the ttest_ind() function for calculating the two-sample t-test. We then define two random samples of equal size (in this case, 5) and a null hypothesis that the population means are equal.\n",
    "We then use the ttest_ind() function to calculate the t-statistic and p-value for the two samples. The t-statistic measures the difference between the means of the two samples, while the p-value measures the probability of observing such a difference if the null hypothesis were true.\n",
    "Finally, we print out the null hypothesis, the two samples, the t-statistic, and the p-value. These results can be used to determine whether to reject or fail to reject the null hypothesis, based on a chosen significance level (e.g., 0.05)."
   ]
  },
  {
   "cell_type": "markdown",
   "id": "31b05af7-a486-4674-bdf9-09c572fb5280",
   "metadata": {},
   "source": [
    "Q11: What is Student’s t distribution? When to use the t-Distribution."
   ]
  },
  {
   "cell_type": "markdown",
   "id": "7fc5fdb6-b024-48c6-b508-74ca787097db",
   "metadata": {},
   "source": [
    "Ans :-\n",
    "The Student’s t-distribution is a continuous probability distribution that is used in statistics for making inferences about the population mean when the sample size is small or when the population standard deviation is unknown.It is similar to the standard normal distribution but has heavier tails and the amount of probability mass in the tails is controlled by a parameter called degrees of freedom. The t-distribution is symmetric around zero and bell-shaped, and its shape depends on the degrees of freedom parameter.\n",
    "\n",
    "The t-distribution plays a role in a number of widely used statistical analyses, including:\n",
    "\n",
    "1.Student’s t-test: Used for assessing the statistical significance of the difference between two sample means.\n",
    "\n",
    "2.Construction of confidence intervals: Used for estimating the range of values within which the population mean is likely to fall.\n",
    "\n",
    "3.Linear regression analysis: Used for modeling the relationship between two variables.\n",
    "\n",
    "The t-distribution is used when the sample size is small (typically less than 30) or when the population standard deviation is unknown 3. In these cases, using the normal distribution to make inferences about the population mean can lead to inaccurate results 3. The t-distribution provides a more accurate way to estimate the population mean under these conditions."
   ]
  },
  {
   "cell_type": "markdown",
   "id": "f6c22d13-1bd8-43f4-a5aa-ceb79ad3ba9d",
   "metadata": {},
   "source": [
    "Q12: What is t-statistic? State the formula for t-statistic."
   ]
  },
  {
   "cell_type": "markdown",
   "id": "29311e6f-03f5-49cc-9297-40dae7427527",
   "metadata": {},
   "source": [
    "Ans :-\n",
    "The t-statistic is a measure of the difference between the means of two samples, expressed in units of standard error. It is used in hypothesis testing to determine whether the difference between the means of two samples is statistically significant.\n",
    "\n",
    "The formula for the t-statistic is:\n",
    "\n",
    "t = (x1 - x2) / (s * sqrt(2/n))\n",
    "\n",
    "where:\n",
    "\n",
    "-->x1 and x2 are the means of the two samples\n",
    "\n",
    "-->s is the pooled standard deviation of the two samples\n",
    "\n",
    "-->n is the sample size of each sample\n",
    "\n",
    "The t-statistic measures the difference between the means of two samples relative to the variability within the samples. A larger t-statistic indicates a larger difference between the means of the two samples, relative to the variability within the samples. The t-statistic is compared to a critical value or p-value to determine whether the difference between the means is statistically significant.\n",
    "\n",
    "In summary, the t-statistic is a measure of the difference between the means of two samples, expressed in units of standard error. It is used in hypothesis testing to determine whether the difference between the means of two samples is statistically significant. The formula for the t-statistic takes into account the means, standard deviation, and sample size of the two samples."
   ]
  },
  {
   "cell_type": "markdown",
   "id": "c5d4ee22-c227-4076-a768-c21e2f9af7a9",
   "metadata": {},
   "source": [
    "Q13. A coffee shop owner wants to estimate the average daily revenue for their shop. They take a random \n",
    "sample of 50 days and find the sample mean revenue to be $500 with a standard deviation of $50. \n",
    "Estimate the population mean revenue with a 95% confidence interval."
   ]
  },
  {
   "cell_type": "code",
   "execution_count": 1,
   "id": "57d8d86a-678f-47d1-9e7f-e964b9a29a2b",
   "metadata": {},
   "outputs": [
    {
     "name": "stdout",
     "output_type": "stream",
     "text": [
      "The 95% confidence interval for the population mean revenue is ($486.14, $513.86).\n"
     ]
    }
   ],
   "source": [
    "import math\n",
    "\n",
    "sample_mean = 500\n",
    "std_dev = 50\n",
    "sample_size = 50\n",
    "z_score = 1.96 # for 95% confidence interval\n",
    "\n",
    "margin_of_error = z_score * (std_dev / math.sqrt(sample_size))\n",
    "lower_bound = sample_mean - margin_of_error\n",
    "upper_bound = sample_mean + margin_of_error\n",
    "\n",
    "print(\"The 95% confidence interval for the population mean revenue is (${:.2f}, ${:.2f}).\".format(lower_bound, upper_bound))"
   ]
  },
  {
   "cell_type": "markdown",
   "id": "e7a9c9b9-ecad-455c-9e3d-f7cbeb9ae593",
   "metadata": {},
   "source": [
    "Therefore, we can estimate with 95% confidence that the population mean revenue for the coffee shop is between $486.18 and $513.82."
   ]
  },
  {
   "cell_type": "markdown",
   "id": "555f710b-8395-47c1-a3e2-18d8c87c7936",
   "metadata": {},
   "source": [
    "Q14. A researcher hypothesizes that a new drug will decrease blood pressure by 10 mmHg. They conduct a \n",
    "clinical trial with 100 patients and find that the sample mean decrease in blood pressure is 8 mmHg with a \n",
    "standard deviation of 3 mmHg. Test the hypothesis with a significance level of 0.05."
   ]
  },
  {
   "cell_type": "markdown",
   "id": "d3d9587f-0fd6-418a-b995-23ec4014638a",
   "metadata": {},
   "source": [
    "Ans :- To test the hypothesis that the new drug decreases blood pressure by 10 mmHg with a significance level of 0.05 using Python, we can use a one-sample t-test.\n",
    "\n",
    "The null hypothesis is that the mean decrease in blood pressure is not significantly different from 10 mmHg, while the alternative hypothesis is that the mean decrease in blood pressure is significantly less than 10 mmHg.\n",
    "\n",
    "We can use the following code to perform the t-test:"
   ]
  },
  {
   "cell_type": "code",
   "execution_count": 5,
   "id": "10576846-b7ef-4a5a-ac4f-e15fc023694c",
   "metadata": {},
   "outputs": [
    {
     "name": "stdout",
     "output_type": "stream",
     "text": [
      "p_value is : 7.506144504985108e-10\n",
      "We reject the null hypothesis.\n"
     ]
    }
   ],
   "source": [
    "import math\n",
    "from scipy.stats import t\n",
    "\n",
    "sample_mean = 8\n",
    "pop_mean = 10\n",
    "std_dev = 3\n",
    "sample_size = 100\n",
    "alpha = 0.05\n",
    "degree_of_freedom = sample_size - 1\n",
    "\n",
    "# Calculate the t-statistic\n",
    "t_stat = (sample_mean - pop_mean) / (std_dev / math.sqrt(sample_size))\n",
    "\n",
    "# Calculate the p-value\n",
    "p_value = t.cdf(t_stat, degree_of_freedom)\n",
    "\n",
    "print('p_value is :',p_value)\n",
    "\n",
    "# Determine if we reject or fail to reject the null hypothesis\n",
    "if p_value < alpha:\n",
    "    print(\"We reject the null hypothesis.\")\n",
    "else:\n",
    "    print(\"We fail to reject the null hypothesis.\")"
   ]
  },
  {
   "cell_type": "markdown",
   "id": "fe674c9c-f223-44c8-8a79-143e31002ae7",
   "metadata": {},
   "source": [
    "Q15. An electronics company produces a certain type of product with a mean weight of 5 pounds and a \n",
    "standard deviation of 0.5 pounds. A random sample of 25 products is taken, and the sample mean weight \n",
    "is found to be 4.8 pounds. Test the hypothesis that the true mean weight of the products is less than 5 \n",
    "pounds with a significance level of 0.01."
   ]
  },
  {
   "cell_type": "markdown",
   "id": "553796bb-8daa-49a5-8cf2-c613f5fc4dc7",
   "metadata": {},
   "source": [
    "Ans :-\n",
    "To test the hypothesis that the true mean weight of the products is less than 5 pounds with a significance level of 0.01, we can use a one-sample t-test.\n",
    "\n",
    "The null hypothesis is that the true mean weight of the products is equal to 5 pounds, while the alternative hypothesis is that the true mean weight of the products is less than 5 pounds.\n",
    "\n",
    "We can use the following Python code to perform the t-test:"
   ]
  },
  {
   "cell_type": "code",
   "execution_count": 7,
   "id": "6cde708a-3ceb-4bb6-86b5-8be2f080b1d0",
   "metadata": {},
   "outputs": [
    {
     "name": "stdout",
     "output_type": "stream",
     "text": [
      "p_value is : 0.02846992496829572\n",
      "We fail to reject the null hypothesis.\n"
     ]
    }
   ],
   "source": [
    "import math\n",
    "from scipy.stats import t\n",
    "\n",
    "sample_mean = 4.8\n",
    "pop_mean = 5\n",
    "std_dev = 0.5\n",
    "sample_size = 25\n",
    "alpha = 0.01\n",
    "degree_of_freedom = sample_size - 1\n",
    "\n",
    "# Calculate the t-statistic\n",
    "t_stat = (sample_mean - pop_mean) / (std_dev / math.sqrt(sample_size))\n",
    "\n",
    "# Calculate the p-value\n",
    "p_value = t.cdf(t_stat, degree_of_freedom)\n",
    "\n",
    "print(\"p_value is :\",p_value)\n",
    "\n",
    "# Determine if we reject or fail to reject the null hypothesis\n",
    "if p_value < alpha:\n",
    "    print(\"We reject the null hypothesis.\")\n",
    "else:\n",
    "    print(\"We fail to reject the null hypothesis.\")"
   ]
  },
  {
   "cell_type": "markdown",
   "id": "2adc6b7a-7b21-4a3a-95bd-190eee8972bd",
   "metadata": {},
   "source": [
    "Since we fail to reject the null hypothesis, we do not have sufficient evidence to conclude that the true mean weight of the products is less than 5 pounds at a significance level of 0.01."
   ]
  },
  {
   "cell_type": "markdown",
   "id": "9bccb37d-d80e-4e19-b829-1b1c2509905a",
   "metadata": {},
   "source": [
    "Q16. Two groups of students are given different study materials to prepare for a test. The first group (n1 = \n",
    "30) has a mean score of 80 with a standard deviation of 10, and the second group (n2 = 40) has a mean \n",
    "score of 75 with a standard deviation of 8. Test the hypothesis that the population means for the two \n",
    "groups are equal with a significance level of 0.01."
   ]
  },
  {
   "cell_type": "markdown",
   "id": "975e844c-f850-4aa9-9200-8023ef1abccd",
   "metadata": {},
   "source": [
    "To test the hypothesis that the population means for the two groups are equal with a significance level of 0.01, we can use a two-sample t-test.\n",
    "\n",
    "The null hypothesis is that the population means for the two groups are equal, while the alternative hypothesis is that the population means for the two groups are not equal.\n",
    "\n",
    "We can use the following Python code to perform the t-test:"
   ]
  },
  {
   "cell_type": "code",
   "execution_count": 9,
   "id": "217a220c-0483-4a51-9b1f-8a9a1212cf6a",
   "metadata": {},
   "outputs": [
    {
     "name": "stdout",
     "output_type": "stream",
     "text": [
      "p_value is : 1.976876986586274\n",
      "We fail to reject the null hypothesis.\n"
     ]
    }
   ],
   "source": [
    "import math\n",
    "from scipy.stats import t\n",
    "\n",
    "sample_mean_1 = 80\n",
    "std_dev_1 = 10\n",
    "sample_size_1 = 30\n",
    "\n",
    "sample_mean_2 = 75\n",
    "std_dev_2 = 8\n",
    "sample_size_2 = 40\n",
    "\n",
    "alpha = 0.01\n",
    "degree_of_freedom = sample_size_1 + sample_size_2 - 2\n",
    "\n",
    "# Calculate the pooled standard deviation\n",
    "pooled_std_dev = math.sqrt(((sample_size_1 - 1) * std_dev_1 ** 2 + (sample_size_2 - 1) * std_dev_2 ** 2) / degree_of_freedom)\n",
    "\n",
    "# Calculate the t-statistic\n",
    "t_stat = (sample_mean_1 - sample_mean_2) / (pooled_std_dev * math.sqrt(1 / sample_size_1 + 1 / sample_size_2))\n",
    "\n",
    "# Calculate the p-value\n",
    "p_value = 2 * t.cdf(t_stat, degree_of_freedom)\n",
    "\n",
    "print(\"p_value is :\",p_value)\n",
    "\n",
    "# Determine if we reject or fail to reject the null hypothesis\n",
    "if p_value < alpha:\n",
    "    print(\"We reject the null hypothesis.\")\n",
    "else:\n",
    "    print(\"We fail to reject the null hypothesis.\")\n",
    "\n"
   ]
  },
  {
   "cell_type": "markdown",
   "id": "31946b39-e352-4dda-921a-9b445e244048",
   "metadata": {},
   "source": [
    "Since we fail to reject the null hypothesis, we have sufficient evidence to conclude that the population means for the two groups are  equal at a significance level of 0.01."
   ]
  },
  {
   "cell_type": "markdown",
   "id": "32315bae-3fd9-40c2-9936-da4c4ae47d81",
   "metadata": {},
   "source": [
    "Q17. A marketing company wants to estimate the average number of ads watched by viewers during a TV \n",
    "program. They take a random sample of 50 viewers and find that the sample mean is 4 with a standard \n",
    "deviation of 1.5. Estimate the population mean with a 99% confidence interval."
   ]
  },
  {
   "cell_type": "markdown",
   "id": "5788f371-8403-4765-abaa-48fa94ade9c5",
   "metadata": {},
   "source": [
    "Ans :-\n",
    "To estimate the population mean with a 99% confidence interval, we can use the t-distribution as the sample size is less than 30. The formula for calculating the confidence interval is:\n",
    "\n",
    "CI = x̄ ± tα/2 * (s/√n)\n",
    "\n",
    "where x̄ is the sample mean, s is the sample standard deviation, n is the sample size, and tα/2 is the t-value for a given level of significance and degrees of freedom.\n",
    "\n",
    "Using Python, we can calculate the confidence interval as follows:"
   ]
  },
  {
   "cell_type": "code",
   "execution_count": 10,
   "id": "40be6a39-7f61-4426-b543-2d086bc0bb09",
   "metadata": {},
   "outputs": [
    {
     "name": "stdout",
     "output_type": "stream",
     "text": [
      "The population mean with a 99% confidence interval is between 3.43 and 4.57.\n"
     ]
    }
   ],
   "source": [
    "import scipy.stats as stats\n",
    "import math\n",
    "\n",
    "# Sample statistics\n",
    "x_bar = 4\n",
    "s = 1.5\n",
    "n = 50\n",
    "\n",
    "# Degrees of freedom\n",
    "df = n - 1\n",
    "\n",
    "# T-value for a 99% confidence interval and 49 degrees of freedom\n",
    "t = stats.t.ppf(0.995, df)\n",
    "\n",
    "# Margin of error\n",
    "moe = t * (s / math.sqrt(n))\n",
    "\n",
    "# Confidence interval\n",
    "ci_lower = x_bar - moe\n",
    "ci_upper = x_bar + moe\n",
    "\n",
    "print(f\"The population mean with a 99% confidence interval is between {ci_lower:.2f} and {ci_upper:.2f}.\")"
   ]
  }
 ],
 "metadata": {
  "kernelspec": {
   "display_name": "Python 3 (ipykernel)",
   "language": "python",
   "name": "python3"
  },
  "language_info": {
   "codemirror_mode": {
    "name": "ipython",
    "version": 3
   },
   "file_extension": ".py",
   "mimetype": "text/x-python",
   "name": "python",
   "nbconvert_exporter": "python",
   "pygments_lexer": "ipython3",
   "version": "3.10.8"
  }
 },
 "nbformat": 4,
 "nbformat_minor": 5
}
