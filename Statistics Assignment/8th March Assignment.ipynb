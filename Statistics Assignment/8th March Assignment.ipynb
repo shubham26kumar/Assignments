{
 "cells": [
  {
   "cell_type": "markdown",
   "id": "69321aea-5ae5-4e66-b073-121d799f1725",
   "metadata": {},
   "source": [
    "Q1. What is the Probability density function?"
   ]
  },
  {
   "cell_type": "markdown",
   "id": "9667707c-ec05-4eff-bbf2-2b685a4ea5dc",
   "metadata": {},
   "source": [
    "Ans :-\n",
    "The Probability Density Function(PDF) defines the probability function representing the density of a continuous random variable lying between a specific range of values. In other words, the probability density function produces the likelihood of values of the continuous random variable. Sometimes it is also called a probability distribution function or just a probability function. However, this function is stated in many other sources as the function over a broad set of values. Often it is referred to as cumulative distribution function or sometimes as probability mass function(PMF). However, the actual truth is PDF (probability density function ) is defined for continuous random variables, whereas PMF (probability mass function) is defined for discrete random variables.\n",
    "\n",
    "Probability Density Function Formula\n",
    "In the case of a continuous random variable, the probability taken by X on some given value x is always 0. In this case, if we find P(X = x), it does not work. Instead of this, we must calculate the probability of X lying in an interval (a, b). Now, we have to figure it for P(a< X< b), and we can calculate this using the formula of PDF. The Probability density function formula is given as,\n",
    "\n",
    "The probability density function (pdf) f(x) of a continuous random variable X is defined as the derivative of the cdf F(x) :\n",
    "\n",
    "f(x) = d/dx F(x).\n",
    "\n",
    "It is sometimes useful to consider the cdf F(x) in terms of the pdf f(x) :\n",
    "\n",
    "F(x)=∫x−∞f(t)dt.  \n",
    "\n",
    "The pdf f(x) has two important properties:\n",
    "\n",
    "1.f(x)≥0 for all x.\n",
    "\n",
    "2.∫∞−∞ f(x)dx=1\n",
    "\n",
    "The first property follows from the fact that the cdf F(x) is non-decreasing and f(x)\n",
    "is its derivative. The second property follows from equation above, since F(x)→1 as x→∞\n",
    "and so the total area under the graph of f(x) is equal to 1.\n",
    "\n",
    "An infinite variety of shapes are possible for a pdf, since the only requirements are the two properties above. The pdf may have one or several peaks, or no peaks at all; it may have discontinuities, be made up of combinations of functions, and so on.  As is the case for a typical pdf, the value of the function approaches zero as x→∞ and x→−∞.\n",
    "\n",
    "We now explore how probabilities concerning the continuous random variable X relate to its pdf. The important result here is that\n",
    "\n",
    "Pr(a<X≤b)=∫b to a f(x)dx=[F(x)]b to a.\n",
    "\n",
    "This result follows from the fact that both sides are equal to F(b)−F(a)."
   ]
  },
  {
   "cell_type": "markdown",
   "id": "5761893b-48e9-4b71-9f5c-8a2aac368d3b",
   "metadata": {},
   "source": [
    "Q2. What are the types of Probability distribution?"
   ]
  },
  {
   "cell_type": "markdown",
   "id": "5bef0c4b-5641-4786-be80-36e37bd251e7",
   "metadata": {},
   "source": [
    "Ans :-\n",
    "There are several types of probability distributions, each describing different ways in which random variables can behave. These distributions help us understand the likelihood of different outcomes and play a crucial role in various fields, such as statistics, mathematics, science, and engineering. Here are some of the most common types of probability distributions:\n",
    "\n",
    "1.Discrete Distributions:\n",
    "\n",
    "Bernoulli Distribution: Models a binary outcome (success/failure) with a single parameter representing the probability of success.\n",
    "\n",
    "Binomial Distribution: Describes the number of successes in a fixed number of independent Bernoulli trials.\n",
    "\n",
    "Poisson Distribution: Models the number of events occurring in a fixed interval of time or space, given a known average rate.\n",
    "\n",
    "2.Continuous Distributions:\n",
    "\n",
    "Normal (Gaussian) Distribution: A symmetric, bell-shaped distribution that is widely used due to the Central Limit Theorem. Many natural phenomena follow this distribution.\n",
    "\n",
    "Uniform Distribution: All outcomes within a specified interval are equally likely.\n",
    "\n",
    "Exponential Distribution: Models the time between events in a Poisson process, such as the time between phone calls at a call center.\n",
    "\n",
    "Gamma Distribution: Generalizes the exponential distribution and is often used to model waiting times.\n",
    "\n",
    "Beta Distribution: Describes the distribution of probabilities for events that have a finite but unknown probability of success.\n",
    "\n",
    "Weibull Distribution: Often used to model reliability and failure rates.\n",
    "\n",
    "Log-Normal Distribution: The natural logarithm of the variable follows a normal distribution.\n",
    "\n",
    "Chi-Square Distribution: Frequently used in hypothesis testing and confidence interval calculations.\n",
    "\n",
    "Cauchy Distribution: Has heavy tails and no finite moments, making it useful for modeling extreme events.\n",
    "\n",
    "Student's t-Distribution: Used for making inferences about the mean of a normally distributed population when the sample size is small or when population variance is unknown.\n",
    "\n",
    "3.Multivariate Distributions:\n",
    "\n",
    "Multinomial Distribution: Generalization of the binomial distribution to multiple categories.\n",
    "\n",
    "Multivariate Normal Distribution: Generalizes the normal distribution to higher dimensions, commonly used in multivariate statistics.\n",
    "\n",
    "4.Joint Distributions:\n",
    "\n",
    "Joint Probability Distribution: Describes the probabilities of multiple random variables occurring together.\n",
    "\n",
    "Copula Distribution: Describes the dependence structure between multiple random variables independently of their marginal distributions.\n",
    "\n",
    "These are just a few examples of the many probability distributions that exist. Different distributions are applicable in different contexts, depending on the characteristics of the data and the phenomena being studied. Understanding these distributions is essential for performing statistical analysis, making predictions, and drawing conclusions from data.\n"
   ]
  },
  {
   "cell_type": "markdown",
   "id": "bb9b9e14-44ee-4965-9708-5c3468165a7a",
   "metadata": {},
   "source": [
    "Q3. Write a Python function to calculate the probability density function of a normal distribution with \n",
    "given mean and standard deviation at a given point."
   ]
  },
  {
   "cell_type": "code",
   "execution_count": 1,
   "id": "4769655a-5f7c-4bcf-a1d5-1a208d1378e5",
   "metadata": {},
   "outputs": [],
   "source": [
    "import math\n",
    "\n",
    "def normal_pdf(x, mean, std_dev):\n",
    "    \"\"\"\n",
    "    Calculate the probability density function of a normal distribution at a given point.\n",
    "\n",
    "    :param x: The point at which to calculate the PDF.\n",
    "    :param mean: Mean of the normal distribution.\n",
    "    :param std_dev: Standard deviation of the normal distribution.\n",
    "    :return: PDF value at the given point.\n",
    "    \"\"\"\n",
    "    coefficient = 1.0 / (std_dev * math.sqrt(2 * math.pi))\n",
    "    exponent = -((x - mean)**2) / (2 * std_dev**2)\n",
    "    pdf_value = coefficient * math.exp(exponent)\n",
    "    return pdf_value"
   ]
  },
  {
   "cell_type": "code",
   "execution_count": 2,
   "id": "5ad6a453-8057-425e-9d6d-92d3581418ef",
   "metadata": {},
   "outputs": [
    {
     "name": "stdout",
     "output_type": "stream",
     "text": [
      "PDF at x = 0.5: 0.3520653267642995\n"
     ]
    }
   ],
   "source": [
    "mean = 0\n",
    "std_dev = 1\n",
    "x = 0.5\n",
    "pdf_at_x = normal_pdf(x, mean, std_dev)\n",
    "print(f\"PDF at x = {x}: {pdf_at_x}\")"
   ]
  },
  {
   "cell_type": "markdown",
   "id": "1eb723c7-069e-4213-a812-e0884226c252",
   "metadata": {},
   "source": [
    "Q4. What are the properties of Binomial distribution? Give two examples of events where binomial \n",
    "distribution can be applied."
   ]
  },
  {
   "cell_type": "markdown",
   "id": "383ce2cc-e8a3-4014-a6c3-3b5c767fb34a",
   "metadata": {},
   "source": [
    "Ans :-\n",
    "The binomial distribution is a discrete probability distribution that models the number of successes in a fixed number of independent Bernoulli trials (binary events) with the same probability of success. The properties of the binomial distribution include:\n",
    "\n",
    "1.Fixed Number of Trials: The distribution is based on a fixed number of trials denoted as \"n,\" where each trial is independent and has the same probability of success.\n",
    "\n",
    "2.Binary Outcome: Each trial has only two possible outcomes: success (usually denoted as \"S\") or failure (usually denoted as \"F\").\n",
    "\n",
    "3.Independent Trials: The trials are assumed to be independent, meaning the outcome of one trial does not affect the outcome of any other trial.\n",
    "\n",
    "4.Constant Probability: The probability of success (\"p\") remains constant for each trial.\n",
    "\n",
    "5.Discrete Distribution: The binomial distribution deals with discrete random variables, which means it describes the probabilities of obtaining specific whole numbers of successes.\n",
    "\n",
    "6.Probability Mass Function (PMF): The probability of observing exactly \"k\" successes in \"n\" trials is given by the binomial coefficient multiplied by the probability of success raised to the power of \"k,\" and the probability of failure raised to the power of \"(n - k).\"\n",
    "\n",
    "Now, let's look at two examples where the binomial distribution can be applied:\n",
    "\n",
    "Example 1: Coin Flips\n",
    "Suppose you're flipping a fair coin (with an equal probability of heads and tails) 10 times and you want to know the probability of getting exactly 3 heads. Each coin flip is a Bernoulli trial, and the number of heads in 10 trials follows a binomial distribution.\n",
    "\n",
    "Example 2: Product Defects\n",
    "Consider a manufacturing process that produces light bulbs. Each bulb has a probability of 0.05 of being defective. If you randomly select 20 light bulbs from a production batch, you can use the binomial distribution to calculate the probability of finding exactly 2 defective bulbs among those 20.\n",
    "\n",
    "In both examples, we have a fixed number of trials (coin flips or bulb selections), a binary outcome (heads/tails or defective/non-defective), and a constant probability of success (probability of getting heads or probability of getting a defective bulb). The binomial distribution allows us to calculate probabilities of different numbers of successes in these scenarios.\n"
   ]
  },
  {
   "cell_type": "markdown",
   "id": "7c39c13c-1e3e-4e43-9407-d281a6b90a7a",
   "metadata": {},
   "source": [
    "Q5. Generate a random sample of size 1000 from a binomial distribution with probability of success 0.4 \n",
    "and plot a histogram of the results using matplotlib."
   ]
  },
  {
   "cell_type": "code",
   "execution_count": 6,
   "id": "959b8062-8eb6-48b6-baa8-a0d8e2dc0f60",
   "metadata": {},
   "outputs": [
    {
     "name": "stdout",
     "output_type": "stream",
     "text": [
      "Random_sample: [0 1 0 0 1 0 1 1 1 1 1 0 0 1 0 0 1 0 0 0 0 0 0 0 0 1 0 0 0 0 0 0 1 1 0 0 0\n",
      " 0 1 1 1 1 0 1 0 1 1 1 0 0 1 1 1 1 0 0 0 1 0 1 1 0 1 0 1 0 1 0 1 1 0 1 0 0\n",
      " 1 1 1 0 0 1 1 1 1 0 0 0 0 0 0 0 0 1 1 0 0 0 0 0 0 0 0 1 1 1 1 0 1 0 1 0 0\n",
      " 1 0 0 0 1 0 0 0 0 1 0 1 0 0 1 1 0 0 0 0 0 0 0 1 1 0 0 1 0 0 1 0 0 0 1 0 0\n",
      " 1 1 0 1 0 0 0 0 0 1 1 0 0 0 1 1 0 0 0 1 0 0 0 1 0 0 1 1 1 0 0 0 1 0 1 1 1\n",
      " 0 1 0 1 0 0 1 0 0 1 0 0 1 0 0 0 1 0 1 0 1 0 0 0 1 1 1 0 0 1 0 0 0 0 1 1 1\n",
      " 1 0 0 1 1 0 0 0 1 0 0 0 0 0 0 1 0 0 0 0 0 0 0 0 0 1 0 0 1 0 0 0 1 1 0 0 1\n",
      " 1 0 0 0 1 1 0 0 0 0 1 0 0 0 1 0 0 0 0 0 0 1 0 1 1 0 0 0 0 0 1 1 0 0 1 0 0\n",
      " 1 0 0 0 1 1 1 0 0 1 0 1 0 1 1 0 1 1 1 0 1 1 0 1 1 0 0 1 0 0 0 1 0 0 0 1 1\n",
      " 0 0 0 1 1 0 1 1 1 0 1 1 1 0 1 0 1 1 0 0 1 0 1 0 1 0 1 1 0 0 0 1 0 1 1 0 1\n",
      " 1 1 1 1 1 1 1 0 0 1 0 1 1 1 1 0 0 1 0 1 1 0 0 1 1 1 0 1 0 1 1 1 1 1 1 1 0\n",
      " 1 1 0 0 1 0 0 0 1 1 1 0 1 0 0 0 1 0 0 0 1 0 1 1 0 0 1 0 1 1 0 1 0 0 1 0 0\n",
      " 0 0 0 0 1 1 1 0 1 0 0 0 0 1 0 1 0 1 0 0 1 1 1 0 0 1 0 1 1 1 0 0 1 0 1 0 1\n",
      " 0 0 0 0 0 0 1 1 0 0 0 0 0 0 0 1 0 0 0 0 0 1 0 0 0 0 0 0 0 0 0 1 0 0 0 0 1\n",
      " 1 0 0 1 0 0 0 0 0 0 0 1 0 1 0 0 1 1 0 1 1 0 1 1 0 0 1 1 1 0 1 0 1 1 1 1 0\n",
      " 0 0 1 1 0 1 1 0 0 0 1 0 0 0 1 0 1 1 1 1 0 1 1 0 0 0 1 0 0 1 0 1 0 1 1 0 0\n",
      " 1 0 0 0 1 1 1 0 0 0 0 0 0 1 1 0 1 0 0 0 1 1 0 1 0 0 0 1 0 1 1 1 1 1 1 0 1\n",
      " 0 1 0 0 0 1 0 1 0 0 0 1 0 1 0 0 1 0 0 1 1 0 0 0 1 1 0 0 0 0 1 1 0 0 0 0 0\n",
      " 0 0 1 0 1 1 1 1 1 0 0 1 1 1 1 0 1 0 0 0 0 1 1 0 1 0 1 0 0 0 0 0 1 0 0 1 1\n",
      " 1 0 1 0 0 1 0 1 0 0 1 0 0 0 0 1 0 0 0 0 1 0 0 0 0 1 1 0 0 1 1 0 0 0 0 0 0\n",
      " 0 0 0 0 0 1 1 0 0 0 0 0 0 0 0 1 0 0 0 1 0 1 0 1 0 0 1 1 0 0 0 0 1 1 0 1 0\n",
      " 0 0 1 1 1 1 0 1 1 0 0 0 0 1 1 0 0 0 1 1 0 1 0 0 0 0 0 0 1 1 0 1 1 0 0 0 0\n",
      " 1 0 0 0 0 0 1 1 0 1 1 0 0 0 0 0 0 0 0 0 1 1 0 0 0 0 0 0 1 0 0 0 1 1 0 0 0\n",
      " 0 1 0 0 1 0 1 0 1 1 0 1 0 1 0 1 0 1 0 0 0 0 1 1 0 1 1 0 0 1 1 0 0 0 0 1 1\n",
      " 1 1 0 0 0 1 1 0 0 0 1 0 1 0 0 0 0 0 1 1 1 0 1 0 0 0 1 0 0 0 0 0 1 0 0 0 1\n",
      " 0 1 0 0 0 0 0 0 0 1 0 1 0 0 1 0 0 1 0 0 1 1 1 1 1 1 0 0 1 0 1 0 0 0 1 1 1\n",
      " 1 1 0 0 0 1 1 0 1 1 0 0 1 1 0 1 1 1 0 0 1 0 1 0 1 1 0 1 0 1 0 0 0 0 0 1 1\n",
      " 1]\n"
     ]
    }
   ],
   "source": [
    "import numpy as np\n",
    "import matplotlib.pyplot as plt\n",
    "\n",
    "# Parameters\n",
    "sample_size = 1000\n",
    "probability_of_success = 0.4\n",
    "\n",
    "# Generate random sample\n",
    "random_sample = np.random.binomial(n=1, p=probability_of_success, size=sample_size)\n",
    "print('Random_sample:',random_sample)"
   ]
  },
  {
   "cell_type": "code",
   "execution_count": 7,
   "id": "25fe7235-2bdd-427e-8146-1c7b9dba7b77",
   "metadata": {},
   "outputs": [
    {
     "data": {
      "image/png": "[encoded data removed]",
      "text/plain": [
       "<Figure size 640x480 with 1 Axes>"
      ]
     },
     "metadata": {},
     "output_type": "display_data"
    }
   ],
   "source": [
    "# Plot histogram\n",
    "plt.hist(random_sample, bins=2, edgecolor='black')\n",
    "plt.title(\"Histogram of Random Sample from Binomial Distribution\")\n",
    "plt.xlabel(\"Outcome\")\n",
    "plt.ylabel(\"Frequency\")\n",
    "plt.xticks([0, 1], ['Failure', 'Success'])\n",
    "plt.show()"
   ]
  },
  {
   "cell_type": "markdown",
   "id": "6b8c660f-83ef-4011-9091-8523e9f5378b",
   "metadata": {},
   "source": [
    "In this code, we use the NumPy library to generate a random sample of size 1000 from a binomial distribution with a probability of success of 0.4. The np.random.binomial() function is used to generate the sample, where n represents the number of trials (1 for a single trial in each case), p is the probability of success (0.4 in this case), and size specifies the size of the sample.\n",
    "\n",
    "We then use Matplotlib to create a histogram of the generated sample. The histogram has two bins (one for failure and one for success), and we label the x-axis with \"Failure\" and \"Success\" to match the binary nature of the binomial distribution."
   ]
  },
  {
   "cell_type": "markdown",
   "id": "60c948e8-c41b-4a6c-a708-01da80fb07ed",
   "metadata": {},
   "source": [
    "Q6. Write a Python function to calculate the cumulative distribution function of a Poisson distribution \n",
    "with given mean at a given point."
   ]
  },
  {
   "cell_type": "code",
   "execution_count": 8,
   "id": "5e97d41c-a3df-4b22-9ffc-e4c3d5789381",
   "metadata": {},
   "outputs": [],
   "source": [
    "import math\n",
    "\n",
    "def poisson_cdf(x, mean):\n",
    "    \"\"\"\n",
    "    Calculate the cumulative distribution function of a Poisson distribution at a given point.\n",
    "\n",
    "    :param x: The point at which to calculate the CDF.\n",
    "    :param mean: Mean of the Poisson distribution.\n",
    "    :return: CDF value at the given point.\n",
    "    \"\"\"\n",
    "    cdf_value = 0.0\n",
    "    for k in range(x + 1):\n",
    "        cdf_value += (math.exp(-mean) * mean**k) / math.factorial(k)\n",
    "    return cdf_value"
   ]
  },
  {
   "cell_type": "code",
   "execution_count": 9,
   "id": "0c9d691c-5ae1-418f-af4f-ba0ae5b3e299",
   "metadata": {},
   "outputs": [
    {
     "name": "stdout",
     "output_type": "stream",
     "text": [
      "CDF at x = 2: 0.3208471988621341\n"
     ]
    }
   ],
   "source": [
    "mean = 3.5\n",
    "x = 2\n",
    "cdf_at_x = poisson_cdf(x, mean)\n",
    "print(f\"CDF at x = {x}: {cdf_at_x}\")"
   ]
  },
  {
   "cell_type": "markdown",
   "id": "99b808a1-4422-45dd-8abb-389265c742df",
   "metadata": {},
   "source": [
    "Q7. How Binomial distribution different from Poisson distribution?"
   ]
  },
  {
   "cell_type": "markdown",
   "id": "7466c52e-4a63-41d8-85db-a5f579551bdf",
   "metadata": {},
   "source": [
    "Ans :-\n",
    "The binomial distribution and the Poisson distribution are both discrete probability distributions used to model events with a certain number of occurrences. However, they are used in different contexts and have distinct characteristics:\n",
    "\n",
    "1.Nature of Events:\n",
    "\n",
    "Binomial Distribution: The binomial distribution models the number of successes in a fixed number of independent trials, where each trial has only two possible outcomes (success or failure). The trials are typically assumed to be identical and independent, and the probability of success remains constant across all trials.\n",
    "\n",
    "Poisson Distribution: The Poisson distribution models the number of events that occur in a fixed interval of time or space. It's often used for rare events where the average rate of occurrence is known, but the events themselves are random and independent.\n",
    "\n",
    "2.Number of Trials/Events:\n",
    "\n",
    "Binomial Distribution: The binomial distribution deals with a fixed number of trials or events (denoted as \"n\").\n",
    "\n",
    "Poisson Distribution: The Poisson distribution deals with a variable number of events occurring within a fixed interval.\n",
    "\n",
    "3.Probability of Success/Event:\n",
    "\n",
    "Binomial Distribution: Each trial in the binomial distribution has a fixed probability of success (\"p\").\n",
    "\n",
    "Poisson Distribution: The Poisson distribution doesn't require a probability of success. Instead, it's characterized by the average rate of occurrence (\"λ\").\n",
    "\n",
    "4.Assumptions:\n",
    "\n",
    "Binomial Distribution: Assumes a fixed number of trials, independence of trials, and constant probability of success across trials.\n",
    "\n",
    "Poisson Distribution: Assumes that events occur randomly and independently within a fixed interval, and the average rate of occurrence remains constant.\n",
    "\n",
    "5.Shape of Distribution:\n",
    "\n",
    "Binomial Distribution: When the number of trials (\"n\") is large and the probability of success (\"p\") is not too small, the binomial distribution can be approximated by a normal distribution.\n",
    "\n",
    "Poisson Distribution: The Poisson distribution is often skewed and has a long tail, especially when the rate of occurrence is low.\n",
    "\n",
    "6.Use Cases:\n",
    "\n",
    "Binomial Distribution: Used for scenarios with a fixed number of trials and a binary outcome, such as coin flips, product defects, and success/failure events.\n",
    "\n",
    "Poisson Distribution: Used for modeling rare and random events, such as the number of customer arrivals at a service point, the number of accidents in a day, or the number of emails received in an hour.\n",
    "\n",
    "In summary, the main differences between the binomial distribution and the Poisson distribution lie in the nature of events being modeled, the number of trials or events involved, and the assumptions made about the events' characteristics.\n"
   ]
  },
  {
   "cell_type": "markdown",
   "id": "22943441-36d9-499d-9192-4bc3322a592f",
   "metadata": {},
   "source": [
    "Q8. Generate a random sample of size 1000 from a Poisson distribution with mean 5 and calculate the \n",
    "sample mean and variance."
   ]
  },
  {
   "cell_type": "code",
   "execution_count": 10,
   "id": "522796b2-b953-4826-aa6b-1d4d2ce8ac05",
   "metadata": {},
   "outputs": [
    {
     "name": "stdout",
     "output_type": "stream",
     "text": [
      "Sample Mean: 5.008\n",
      "Sample Variance: 4.541936\n"
     ]
    }
   ],
   "source": [
    "import numpy as np\n",
    "\n",
    "# Parameters\n",
    "sample_size = 1000\n",
    "mean = 5\n",
    "\n",
    "# Generate random sample\n",
    "random_sample = np.random.poisson(mean, size=sample_size)\n",
    "\n",
    "# Calculate sample mean and variance\n",
    "sample_mean = np.mean(random_sample)\n",
    "sample_variance = np.var(random_sample)\n",
    "\n",
    "print(f\"Sample Mean: {sample_mean}\")\n",
    "print(f\"Sample Variance: {sample_variance}\")"
   ]
  },
  {
   "cell_type": "markdown",
   "id": "fa4ea39a-1dec-4e54-a1b7-f56b8b6953d7",
   "metadata": {},
   "source": [
    "In this code, the np.random.poisson() function from the NumPy library is used to generate a random sample of size 1000 from a Poisson distribution with a mean of 5. After generating the sample, the np.mean() and np.var() functions are used to calculate the sample mean and variance, respectively."
   ]
  },
  {
   "cell_type": "markdown",
   "id": "faceaf03-df06-43f2-ba5b-1c7a8691eeb6",
   "metadata": {},
   "source": [
    "Q9. How mean and variance are related in Binomial distribution and Poisson distribution?"
   ]
  },
  {
   "cell_type": "markdown",
   "id": "7f5b7c84-1fdb-423e-9c6f-39ff6eeaa3e1",
   "metadata": {},
   "source": [
    "Ans :-\n",
    "In both the binomial distribution and the Poisson distribution, the relationship between the mean and variance is influenced by the characteristics of the distribution and the parameters used.\n",
    "\n",
    "Binomial Distribution:\n",
    "For a binomial distribution with parameters \"n\" (number of trials) and \"p\" (probability of success in each trial), the mean (μ) and variance (σ^2) are related as follows:\n",
    "\n",
    "μ = n * p\n",
    "σ^2 = n * p * (1 - p)"
   ]
  },
  {
   "cell_type": "markdown",
   "id": "8383a67e-eb41-4b6c-b4e0-f70919240151",
   "metadata": {},
   "source": [
    "In the binomial distribution, as the number of trials increases while keeping the probability of success constant, both the mean and variance increase proportionally. However, when the probability of success is very close to 0 or 1, the variance tends to decrease, leading to a more concentrated distribution."
   ]
  },
  {
   "cell_type": "markdown",
   "id": "22d5da5f-9763-401c-a476-70df573553d0",
   "metadata": {},
   "source": [
    "Poisson Distribution:\n",
    "For a Poisson distribution with parameter \"λ\" (average rate of occurrence), the mean (μ) and variance (σ^2) are related as follows:\n",
    "\n",
    "μ = λ\n",
    "σ^2 = λ"
   ]
  },
  {
   "cell_type": "markdown",
   "id": "4169922d-873c-4977-8831-9bfb59f1bf9a",
   "metadata": {},
   "source": [
    "In the Poisson distribution, the mean and variance are equal and are both determined by the average rate of occurrence. As the average rate \"λ\" increases, both the mean and variance also increase, causing the distribution to spread out more. Similarly, when \"λ\" decreases, both the mean and variance decrease, resulting in a more concentrated distribution.\n",
    "\n",
    "In summary, for the binomial distribution, the variance is influenced by both the number of trials and the probability of success, while for the Poisson distribution, the variance is solely determined by the average rate of occurrence. In both cases, the mean and variance are linked, and changes in one will affect the other."
   ]
  },
  {
   "cell_type": "markdown",
   "id": "13aa1047-db0c-4e1d-b215-fd36dc2bdda4",
   "metadata": {},
   "source": [
    "Q10. In normal distribution with respect to mean position, where does the least frequent data appear?"
   ]
  },
  {
   "cell_type": "markdown",
   "id": "fd3e1f16-77a0-43cc-985b-bc9ef345b4fa",
   "metadata": {},
   "source": [
    "Ans :-\n",
    "In a normal distribution, also known as a Gaussian distribution or bell curve, the data is symmetrically distributed around the mean. The mean is the center of the distribution, and the curve is perfectly symmetrical such that the left and right sides mirror each other.\n",
    "\n",
    "In a normal distribution, the data becomes less frequent as you move away from the mean in either direction. This means that the least frequent data points are located in the tails of the distribution, farthest away from the mean. These tails extend to negative infinity on the left side and positive infinity on the right side.\n",
    "\n",
    "To be more specific:\n",
    "\n",
    "Data points that are located far to the left of the mean (in the negative tail) are the least frequent on the left side.\n",
    "\n",
    "Data points that are located far to the right of the mean (in the positive tail) are the least frequent on the right side.\n",
    "\n",
    "This behavior is a fundamental characteristic of the normal distribution's bell-shaped curve, where data points are most densely clustered around the mean and become increasingly less frequent as you move away from it."
   ]
  },
  {
   "cell_type": "code",
   "execution_count": null,
   "id": "010af419-226d-41f3-9d69-6f70b8c8dfd0",
   "metadata": {},
   "outputs": [],
   "source": []
  }
 ],
 "metadata": {
  "kernelspec": {
   "display_name": "Python 3 (ipykernel)",
   "language": "python",
   "name": "python3"
  },
  "language_info": {
   "codemirror_mode": {
    "name": "ipython",
    "version": 3
   },
   "file_extension": ".py",
   "mimetype": "text/x-python",
   "name": "python",
   "nbconvert_exporter": "python",
   "pygments_lexer": "ipython3",
   "version": "3.10.8"
  }
 },
 "nbformat": 4,
 "nbformat_minor": 5
}
